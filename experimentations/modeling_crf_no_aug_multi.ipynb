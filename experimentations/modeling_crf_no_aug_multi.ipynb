{
 "cells": [
  {
   "attachments": {},
   "cell_type": "markdown",
   "metadata": {},
   "source": [
    "# Sangkak AI Challenge: NER tasks\n",
    "\n",
    "--------------------------------------------------------------------------\n",
    "\n",
    "- **Author**: Elvis MBONING (NTeALan Research and Development Team)\n",
    "- **Session**: février 2023\n",
    "\n",
    "--------------------------------------------------------------------------\n",
    "\n",
    "In this notebook, we try to implement new methods which can potentialy improved NER task in low african resource languages.\n",
    "\n",
    "We propose a rule-based approach call **Position to position entity augmentation** to normalize and augment lowest training data for CRF model. Our work is based on this paper (Xiang Dai and Heike Adel, 2020)[https://aclanthology.org/2020.coling-main.343.pdf]."
   ]
  },
  {
   "cell_type": "markdown",
   "metadata": {},
   "source": [
    "# Experiments\n",
    "\n",
    "In this experiment, we want to build ML model based on Conditional Random Field (CRF). \n",
    "\n",
    "## 1- Data processing and analysis\n",
    "\n",
    "### 1.1. Loading data from Masakhane folder\n"
   ]
  },
  {
   "cell_type": "code",
   "execution_count": null,
   "metadata": {
    "scrolled": true
   },
   "outputs": [],
   "source": [
    "# Install python packages dependencies\n",
    "!pip3 install pandas python_crfsuite summarytools sklearn_crfsuite\n",
    "!pip3 install iteration_utilities matplotlib"
   ]
  },
  {
   "cell_type": "code",
   "execution_count": null,
   "metadata": {},
   "outputs": [],
   "source": [
    "# Download Masakhane dataset from Github\n",
    "!git clone https://github.com/masakhane-io/masakhane-ner.git"
   ]
  },
  {
   "cell_type": "code",
   "execution_count": 1,
   "metadata": {},
   "outputs": [],
   "source": [
    "from pathlib import Path\n",
    "import pandas as pd\n",
    "import joblib\n",
    "from datetime import datetime\n",
    "\n",
    "from auglib import read_format_iob_data"
   ]
  },
  {
   "cell_type": "code",
   "execution_count": 2,
   "metadata": {},
   "outputs": [
    {
     "name": "stdout",
     "output_type": "stream",
     "text": [
      "[PosixPath('../data_source/masakhane-ner/MasakhaNER2.0/data/bbj/train.txt'), PosixPath('../data_source/masakhane-ner/MasakhaNER2.0/data/twi/train.txt'), PosixPath('../data_source/masakhane-ner/MasakhaNER2.0/data/mos/train.txt'), PosixPath('../data_source/masakhane-ner/MasakhaNER2.0/data/zul/train.txt'), PosixPath('../data_source/masakhane-ner/MasakhaNER2.0/data/swa/train.txt'), PosixPath('../data_source/masakhane-ner/MasakhaNER2.0/data/fon/train.txt'), PosixPath('../data_source/masakhane-ner/MasakhaNER2.0/data/ewe/train.txt'), PosixPath('../data_source/masakhane-ner/MasakhaNER2.0/data/xho/train.txt'), PosixPath('../data_source/masakhane-ner/MasakhaNER2.0/data/sna/train.txt'), PosixPath('../data_source/masakhane-ner/MasakhaNER2.0/data/kin/train.txt'), PosixPath('../data_source/masakhane-ner/MasakhaNER2.0/data/bam/train.txt'), PosixPath('../data_source/masakhane-ner/MasakhaNER2.0/data/wol/train.txt'), PosixPath('../data_source/masakhane-ner/MasakhaNER2.0/data/hau/train.txt'), PosixPath('../data_source/masakhane-ner/MasakhaNER2.0/data/pcm/train.txt'), PosixPath('../data_source/masakhane-ner/MasakhaNER2.0/data/tsn/train.txt'), PosixPath('../data_source/masakhane-ner/MasakhaNER2.0/data/lug/train.txt'), PosixPath('../data_source/masakhane-ner/MasakhaNER2.0/data/yor/train.txt'), PosixPath('../data_source/masakhane-ner/MasakhaNER2.0/data/ibo/train.txt')]\n"
     ]
    }
   ],
   "source": [
    "# Reading folder path\n",
    "# Context Masahkane community\n",
    "# Ramshaw and Marcus (1995) = IOB data format\n",
    "language = 'multi-all'\n",
    "ner_path = Path(f'../data_source/masakhane-ner/MasakhaNER2.0/data/')\n",
    "train_files = list(ner_path.glob(\"*/train.txt\"))\n",
    "dev_files = list(ner_path.glob(\"*/dev.txt\"))\n",
    "\n",
    "print(train_files)"
   ]
  },
  {
   "cell_type": "code",
   "execution_count": 5,
   "metadata": {},
   "outputs": [
    {
     "name": "stdout",
     "output_type": "stream",
     "text": [
      "3384\n",
      "4240\n",
      "4532\n",
      "5848\n",
      "6593\n",
      "4343\n",
      "3505\n",
      "5718\n",
      "6207\n",
      "7825\n",
      "4462\n",
      "4593\n",
      "5716\n",
      "5646\n",
      "3489\n",
      "4942\n",
      "6876\n",
      "7634\n",
      "Total number of sentences in the train dataset: 7,825\n",
      "Total number of sentences in the train dataset: 95,553\n",
      "Total words in the train dataset: 2,345,009\n",
      "Total number of sentences in the dev dataset: 1,118\n",
      "Total words in the dev dataset: 336,465\n"
     ]
    }
   ],
   "source": [
    "# read and extract iob data\n",
    "extracted_train_data, pd_train_data, only_train_ner_data, o_train_ner_data = [],[],[],[]\n",
    "extracted_dev_data, pd_dev_data, only_dev_ner_data, o_dev_ner_data = [],[],[],[]\n",
    "total = 0\n",
    "for tr, ts in zip(train_files, dev_files):\n",
    "    extracted_train, pd_train, only_train_ner, o_train_ner = read_format_iob_data(tr)\n",
    "    extracted_dev, pd_dev, only_dev_ner, o_dev_ner = read_format_iob_data(ts)\n",
    "    extracted_train_data = extracted_train_data + extracted_train\n",
    "    pd_train_data = pd_train if type(pd_train_data) == list else pd.concat([pd_train_data, pd_train], ignore_index=True)\n",
    "    only_train_ner_data = only_train_ner_data + only_train_ner\n",
    "    o_train_ner_data =  o_train_ner_data + o_train_ner\n",
    "    extracted_dev_data = extracted_dev_data + extracted_dev\n",
    "    pd_dev_data = pd_dev if type(pd_dev_data) == list else pd.concat([pd_dev_data, pd_dev], ignore_index=True)\n",
    "    only_dev_ner_data = only_dev_ner_data + only_dev_ner\n",
    "    o_dev_ner_data = o_dev_ner_data + o_dev_ner\n",
    "    total += pd_train[\"sentence_id\"].nunique()\n",
    "    print(pd_train[\"sentence_id\"].nunique())\n",
    "\n",
    "\n",
    "# some stats \n",
    "print(\"Total number of sentences in the train dataset: {:,}\".format(pd_train_data[\"sentence_id\"].nunique()))\n",
    "print(\"Total number of sentences in the train dataset: {:,}\".format(total))\n",
    "print(\"Total words in the train dataset: {:,}\".format(pd_train_data.shape[0]))\n",
    "print(\"Total number of sentences in the dev dataset: {:,}\".format(pd_dev_data[\"sentence_id\"].nunique()))\n",
    "print(\"Total words in the dev dataset: {:,}\".format(pd_dev_data.shape[0]))\n",
    "\n"
   ]
  },
  {
   "cell_type": "code",
   "execution_count": 6,
   "metadata": {},
   "outputs": [
    {
     "name": "stdout",
     "output_type": "stream",
     "text": [
      "1771 50623 3384\n",
      "2179 116400 4240\n",
      "2660 95203 5848\n",
      "4613 182711 6876\n",
      "2492 127818 4593\n",
      "2357 64162 3505\n",
      "2048 111460 4462\n",
      "18120\n"
     ]
    }
   ],
   "source": [
    "language = 'twi'\n",
    "twi_ner_path = Path(f'../data_source/masakhane-ner/MasakhaNER2.0/data/twi')\n",
    "bbj_ner_path = Path(f'../data_source/masakhane-ner/MasakhaNER2.0/data/bbj')\n",
    "bam_ner_path = Path(f'../data_source/masakhane-ner/MasakhaNER2.0/data/bam')\n",
    "ewe_ner_path = Path(f'../data_source/masakhane-ner/MasakhaNER2.0/data/ewe')\n",
    "wol_ner_path = Path(f'../data_source/masakhane-ner/MasakhaNER2.0/data/wol')\n",
    "zul_ner_path = Path(f'../data_source/masakhane-ner/MasakhaNER2.0/data/zul')\n",
    "yor_ner_path = Path(f'../data_source/masakhane-ner/MasakhaNER2.0/data/yor')\n",
    "\n",
    "bbj_test_data_path   = bbj_ner_path / 'train.txt'\n",
    "twi_test_data_path   = twi_ner_path / 'train.txt'\n",
    "bam_test_data_path   = bam_ner_path / 'train.txt'\n",
    "ewe_test_data_path   = ewe_ner_path / 'train.txt'\n",
    "wol_test_data_path   = wol_ner_path / 'train.txt'\n",
    "zul_test_data_path   = zul_ner_path / 'train.txt'\n",
    "yor_test_data_path   = yor_ner_path / 'train.txt'\n",
    "\n",
    "# read and extract iob data\n",
    "test_data = [bbj_test_data_path, twi_test_data_path, zul_test_data_path, yor_test_data_path, wol_test_data_path, \n",
    "             ewe_test_data_path, bam_test_data_path]\n",
    "extracted_test_data, pd_test_data, only_test_ner_data, o_test_ner_data = [],[],[],[]\n",
    "total = 0\n",
    "for tr in test_data:\n",
    "    extracted_test, pd_test, only_test_ner, o_test_ner = read_format_iob_data(tr)\n",
    "    extracted_test_data = extracted_test_data + extracted_test\n",
    "    pd_test_data = pd_test if type(pd_test_data) == list else pd.concat([pd_test_data, pd_test], ignore_index=True)\n",
    "    for x in only_test_ner: only_test_ner_data.append(x)\n",
    "    for x in o_test_ner: o_test_ner_data.append(x)\n",
    "    total += len(only_test_ner)\n",
    "    print(len(only_test_ner), len(pd_test.index), len(extracted_test))\n",
    "    \n",
    "print(total)\n"
   ]
  },
  {
   "cell_type": "code",
   "execution_count": 21,
   "metadata": {},
   "outputs": [
    {
     "data": {
      "text/plain": [
       "['preprocessing/sangkak-multi-all_train_data_2023-03-13_20:20:45.964332.joblib']"
      ]
     },
     "execution_count": 21,
     "metadata": {},
     "output_type": "execute_result"
    }
   ],
   "source": [
    "# saving augmented data\n",
    "project = f\"sangkak-{language}\"\n",
    "build_date = str(datetime.now()).replace(' ','_')\n",
    "\n",
    "joblib.dump({\n",
    "    \"train\": extracted_train_data, \n",
    "    \"pd_train\": pd_train_data\n",
    "}, f'preprocessing/{project}_train_data_{build_date}.joblib')"
   ]
  },
  {
   "attachments": {},
   "cell_type": "markdown",
   "metadata": {},
   "source": [
    "### 1.3. Analyzing data "
   ]
  },
  {
   "cell_type": "code",
   "execution_count": 22,
   "metadata": {},
   "outputs": [],
   "source": [
    "from matplotlib import pyplot as plt\n",
    "import numpy as np"
   ]
  },
  {
   "cell_type": "code",
   "execution_count": null,
   "metadata": {},
   "outputs": [],
   "source": [
    "# quantification des tags/phrases dans le corpus d'entrainement\n",
    "# credit: https://github.com/6chaoran/jupyter-summarytools\n",
    "from summarytools import dfSummary, tabset\n",
    "\n",
    "tabset({\n",
    "    \"train_data\": dfSummary(pd_train_data).render(),\n",
    "    \"dev_data\": dfSummary(pd_dev_data).render()\n",
    "})\n",
    "\n",
    "# Un controle visuel des données et ce tableau montre clairement qu'il y a \n",
    "# des problématiques de cohérence d'annotations avec l'usage du format IOB."
   ]
  },
  {
   "cell_type": "code",
   "execution_count": null,
   "metadata": {},
   "outputs": [],
   "source": [
    "# representation of each entity tag\n",
    "pd_train_data[pd_train_data.iob_tag != 'O'][\"iob_tag\"]\\\n",
    ".value_counts().plot(kind=\"bar\", figsize=(10,5))\n",
    "\n",
    "# On remarque ici que le tag date représente 40% des tags (en position I ou B)"
   ]
  },
  {
   "cell_type": "code",
   "execution_count": 23,
   "metadata": {},
   "outputs": [
    {
     "name": "stdout",
     "output_type": "stream",
     "text": [
      "La phrase la plus longue contient 618 mots.\n",
      "ID de la plus longue phrase 1404.\n",
      "\n",
      "La phrase la plus longue du corpus est:\n",
      " Mnaoudǎ tí dəŋdzə tyə̌ʼ Mə́cwɔ̂ʼ tsʉʼ Sâʼ Bɔ̂kbɔ́k nwə̀ MBN . Korɔnobɔ a ɛkɔɔ so wɔ Dwoada , Oforisuo da a ɛtɔ so num wɔ afe mpem mmienu ne aduonu baako mu aberɛ a na abɔ anwummerɛ nnɔnson apa ho sima aduonu ( 7 : 20 pmɔ a mmarima baanan a na wɔkuta tuo ne sekan kɔbɔɔ korɔno wɔ Goodness Filling Station a ɛwɔ Akyem Osiem no , etuo kaa nipa baako . . Baa b sẽn waa n basa wã a Somé ra ket n yaɛɛsdame t'a zoe n kẽng kongo barzavil n yaool n tɩ sãa farãns 1988 ne 1994 . . Akusenani , leli phuzu lizokwengeza kokufunwa ukuzuzwa iqembu , lingcono iphuzu kunokwehlulwa , \" kubeka uNcikazi . . Mapigano mengi yanasemekana kusababishwa na njaa ingawa pia yanasababisha hali hiyo . . Mɔ̌ ɖokpó ɔ \"\"\"\" Edwige Fifamɛ Aklu Tannyi nɔ kanbyɔ éɖee ɖɔ \"\"\"\" lè tɛ́ ká ɖémɛ nú nya ée è dó hwɛ bɛ ɖò gbawun ɔ jí din é \"\"\"\" bɛ ná hù mɛ lóbó ná lɛ́ sɔ anya mɛ kúkú ɔ tɔn dó xwé tɔn kpá . . Le Côte d'Ivoire : kpovitowo lé ame 2 ɖe dzo kekewo fifi ta . . Ukuphumelela kwam kuza kuhlahla indlela yabeza emva kwam abasafuna ukukhula emdlalweni wamanqindi . . Mutevedzeri wemukuru noona nezvezvirwere zvisingatapuriranwe mubazi rehutano , Dr Justice Mudavanhu , vanoti zvakakosha kuti vana nyamukuta vanyorese zviri pamutemo , kuitira kuti vashande basa ravo zvakanaka , pamwe nekupihwawo zvidzidzo nebazi rezvehutano . . Umushinga wa Artemis witezweho ko nyuma yo kugeza umugore ku Kwezi nk'agashya mu 2024 , hazakurikiraho gutuza umuntu kuri uwo mubumbe mu 2028 . . An k'a dajira ko paritiw bɛ ye AYƐRIPE kɔnɔ , i ko Modibo Sumare ka IYƐRIPE , Hadi Ɲangadu ka ƐMUPEYƐMU ani a ye donni belebele sɔrɔ , AYƐMUPE - Mali tɔn ta , denmisɛn kolaɲinina caman bɛ min na . Marçal , mi jaawale futbal ak karateek yu ni mel , génne nañ ko ci po mi ci fan - weer ak ñeenteelu simili looloo dolli dooley waa Nice . . Shaidu sun ce , Al'amarin ya faru ne a cikin daren Laraba , bayan da mutanen biyu suka yi 茩o茩arin yin awon gaba da wani magidanci ta hanyar razana shi da bindiga a lokacin da yake 茩o茩arin shiga gidan sa a mota . . As one expert don put am say , besides abstention for food and drinks , fasting dey help di pesin wey dey faithful make e no dey look di provocative , make e no dey hear di mischievous , and make e no dey utter di obscene and make e dey avoid slander and make e no dey think about inflicting injury for odas . Tshwetso e e kaya gore maloko a ANC a a bonwang molato ka bosenyi jo bo masisi , go akaretsa le bonweenwee , ba tshwanetse go sekegiwa go fitlha go konosediwa dikgetse tsa bona kwa kgotlatshekelo . . Sigamba nti ekigenda mu maaso e Rwanda kiyinza okubaawo n'awalala . . Ohun táa gbọ́ ni pé àbúrò ọkùnrin ló gbé ońjẹ fún un , ṣùgbọ́n ó kò láti fún ìyá àwọn ọmọ rẹ̀ lóuńjẹ , n ni obìnrin yìí bá lọọ yo ẹran nínú ìṣasùn àbúrò ọkọ rẹ̀ , ṣùgbọ́n inú bí ọmọbìnrin náà , ló bá gba ẹran náà . Dịka Kọmishọna na - ahụ maka ahụike na steeti ahụ , bọ Dọkịta Vincent Okpala siri kọwaa , a ga - ebuje ya bụ akụrụngwa n \"\"\"\" ụlọ ahụ ike ọhaneze dị n \"\"\"\" Ọnịtsha , bụ otu n'ime ebe a ga - agape na nso nso a ka ọ bụrụ ebe a ga na - elekọta ma na - agwọ ndị .\n"
     ]
    },
    {
     "data": {
      "image/png": "[encoded data removed]",
      "text/plain": [
       "<Figure size 800x600 with 1 Axes>"
      ]
     },
     "metadata": {},
     "output_type": "display_data"
    }
   ],
   "source": [
    "\n",
    "word_counts = pd_train_data.groupby(\"sentence_id\")[\"word\"].agg([\"count\"])\n",
    "word_counts = word_counts.rename(columns={\"count\": \"Word count\"})\n",
    "word_counts.hist(bins=15, figsize=(8,6))\n",
    "\n",
    "# On constate que le nombre de mots moyens par phrase est de 15\n",
    "MAX_LENGTH_SENTENCE = word_counts.max()[0]\n",
    "print(\"La phrase la plus longue contient {} mots.\".format(MAX_LENGTH_SENTENCE))\n",
    "longest_sentence_id = word_counts[word_counts[\"Word count\"]==MAX_LENGTH_SENTENCE].index[0]\n",
    "print(\"ID de la plus longue phrase {}.\".format(longest_sentence_id))\n",
    "longest_sentence = pd_train_data[pd_train_data[\"sentence_id\"]==longest_sentence_id][\"word\"].str.cat(sep=' ')\n",
    "print(f\"\\nLa phrase la plus longue du corpus est:\\n {longest_sentence}\")\n"
   ]
  },
  {
   "cell_type": "code",
   "execution_count": 24,
   "metadata": {},
   "outputs": [
    {
     "name": "stdout",
     "output_type": "stream",
     "text": [
      "Nombre de mots uniques: 250871\n",
      "Nombre de tags uniques : 12\n"
     ]
    }
   ],
   "source": [
    "all_words = list(set(pd_train_data[\"word\"].values))\n",
    "all_tags = list(set(pd_train_data[\"iob_tag\"].values))\n",
    "\n",
    "print(\"Nombre de mots uniques: {}\".format(pd_train_data[\"word\"].nunique()))\n",
    "print(\"Nombre de tags uniques : {}\".format(pd_train_data[\"iob_tag\"].nunique()))"
   ]
  },
  {
   "attachments": {},
   "cell_type": "markdown",
   "metadata": {},
   "source": [
    "## 2- Features engineering\n",
    "\n",
    "We will use differents kind of features to modelize our model. As ghomala is an african language, it is important to consider some of its features.\n",
    "\n",
    "Any Bantu or semi-Bantu language use tone markers as morpho-syntatic properties to differentiate word or meaning. "
   ]
  },
  {
   "cell_type": "code",
   "execution_count": 25,
   "metadata": {},
   "outputs": [],
   "source": [
    "import unidecode\n",
    "import re\n",
    "from datetime import datetime\n",
    "import string\n",
    "import math\n",
    "import unicodedata"
   ]
  },
  {
   "attachments": {},
   "cell_type": "markdown",
   "metadata": {},
   "source": [
    "### 2.1. Features based on african linguistics specificities"
   ]
  },
  {
   "cell_type": "code",
   "execution_count": 26,
   "metadata": {},
   "outputs": [],
   "source": [
    "# importing features module \n",
    "from features import remove_accents, number_tone_word, extract_tone\n"
   ]
  },
  {
   "cell_type": "code",
   "execution_count": 27,
   "metadata": {},
   "outputs": [
    {
     "name": "stdout",
     "output_type": "stream",
     "text": [
      "6 2 2 ---̀ ̀\n",
      "['n', 't', 'â', 'm', 'g', 'ǒ']\n",
      "['ķ', '茦', '²', 'ʊ', 'ɨ', '€', 'ƹ', 'ƴ', 'ć', 'ï', 'ì', '̣', 'ọ', '¬', 'ī', 'ẅ', '̂', 'ι', '👉', '̀', 'ɲ', 'ɗ', 'ǹ', '\\xad', '᷅', '•', '》', '‘', 'ŭ', 'š', '£', 'ɒ', '᷆', 'ş', 'ç', 'ƞ', 'ṅ', 'ñ', 'ȼ', 'ļ', '鈥', 'ụ', 'ɩ', 'ǔ', 'ͻ', '™', '《', '̌', 'è', 'ղ', 'â', '�', 'ĕ', '̈', 'á', 'ʼ', 'í', 'ú', '\\x9d', 'ó', 'ù', '̰', '͂', '茒', 'ǵ', 'ḿ', 'ə', 'ö', '\\x8f', '̀', '©', 'ń', 'ź', 'ǐ', 'ϊ', 'ę', '蓳', 'ẽ', 'ü', '’', 'ě', 'ε', 'ë', '墨', 'ɓ', '×', 'à', 'û', 'ê', 'º', 'ā', '\\u200f', '̩', 'ĭ', 'ä', 'ŋ', '蓷', 'ẉ', 'ʻ', 'ẁ', '鈧', 'ĺ', 'ǝ', '瞥', '̃', '苼', 'ɑ', 'ô', 'ꞌ', 'õ', '\\u200b', '̄', 'ĩ', 'ø', '′', '«', 'ʉ', '奴', '¢', '¼', 'ɛ', '»', 'ǒ', 'ǎ', 'ɣ', 'ɔ', '茩', '°', 'ẃ', 'ś', 'ḱ', 'ã', 'ò', 'ɖ', 'ṵ', 'ũ', '̧', 'ƙ', 'æ', '¸', 'ẹ', 'ị', '拼', 'ʋ', '́', 'ƒ', '́', 'ṣ', 'œ', '膩', 'î', 'ᵾ', '½', 'é', 'ă', 'ŏ', '·'] ́ ̄ ̀ ̌ ̂ \n",
      "['ķ', '茦', '²', 'ʊ', 'ɨ', '€', 'ƹ', 'ƴ', 'ć', 'ï', 'ì', '̣', 'ọ', '¬', 'ī', 'ẅ', '̂', 'ι', '👉', '̀', 'ɲ', 'ɗ', 'ǹ', '\\xad', '᷅', '•', '》', '‘', 'ŭ', 'š', '£', 'ɒ', '᷆', 'ş', 'ç', 'ƞ', 'ṅ', 'ñ', 'ȼ', 'ļ', '鈥', 'ụ', 'ɩ', 'ǔ', 'ͻ', '™', '《', '̌', 'è', 'ղ', 'â', '�', 'ĕ', '̈', 'á', 'ʼ', 'í', 'ú', '\\x9d', 'ó', 'ù', '̰', '͂', '茒', 'ǵ', 'ḿ', 'ə', 'ö', '\\x8f', '̀', '©', 'ń', 'ź', 'ǐ', 'ϊ', 'ę', '蓳', 'ẽ', 'ü', '’', 'ě', 'ε', 'ë', '墨', 'ɓ', '×', 'à', 'û', 'ê', 'º', 'ā', '\\u200f', '̩', 'ĭ', 'ä', 'ŋ', '蓷', 'ẉ', 'ʻ', 'ẁ', '鈧', 'ĺ', 'ǝ', '瞥', '̃', '苼', 'ɑ', 'ô', 'ꞌ', 'õ', '\\u200b', '̄', 'ĩ', 'ø', '′', '«', 'ʉ', '奴', '¢', '¼', 'ɛ', '»', 'ǒ', 'ǎ', 'ɣ', 'ɔ', '茩', '°', 'ẃ', 'ś', 'ḱ', 'ã', 'ò', 'ɖ', 'ṵ', 'ũ', '̧', 'ƙ', 'æ', '¸', 'ẹ', 'ị', '拼', 'ʋ', '́', 'ƒ', '́', 'ṣ', 'œ', '膩', 'î', 'ᵾ', '½', 'é', 'ă', 'ŏ', '·']\n"
     ]
    }
   ],
   "source": [
    "# Constructing word features based on tones and API charaters\n",
    "words_caracters = set([y.lower() for x in all_words for y in x])\n",
    "all_caracters   = string.punctuation+string.ascii_letters+string.digits+''\n",
    "tone_caracters  = list(set([x for x in words_caracters if x not in all_caracters]))\n",
    "cpm_search      = re.compile(str(tone_caracters))\n",
    "\n",
    "# Set of functions that normalizes and get features from datasets\n",
    "bantou_tones = [f\"{x} \" for x in \" ́̄̀̌̂\" if x != \" \"]\n",
    "string_tones = \"\".join(bantou_tones)\n",
    "tones_search = re.compile(string_tones)\n",
    "\n",
    "bantou_letters = string.ascii_letters+\"ǝɔᵾɓɨşœɑʉɛɗŋøẅëïə\"\n",
    "\n",
    "non_tone = remove_accents(\"fə̀fə̀\")\n",
    "\n",
    "print(\n",
    "    len(\"fə̀fə̀\"), \n",
    "    len(non_tone), \n",
    "    number_tone_word(\"fə̀fə̀\"), \n",
    "    \"---\"+extract_tone(\"fə̀fə̀\")\n",
    ")\n",
    "\n",
    "print([x for x in \"ntâmgǒ\"])\n",
    "print(tone_caracters, string_tones)\n",
    "\n",
    "print(tone_caracters)"
   ]
  },
  {
   "attachments": {},
   "cell_type": "markdown",
   "metadata": {},
   "source": [
    "### 2.2. Features based on word and its contexts"
   ]
  },
  {
   "cell_type": "code",
   "execution_count": 28,
   "metadata": {},
   "outputs": [],
   "source": [
    "# l'ajout des tags suivants au mot courant améliore signficativement le modèle\n",
    "# l'ajout des informations sur les tons\n",
    "\n",
    "from features import sent2features, sent2labels\n"
   ]
  },
  {
   "attachments": {},
   "cell_type": "markdown",
   "metadata": {},
   "source": [
    "### 2.3. Building all features and apply them to all datasets\n"
   ]
  },
  {
   "cell_type": "code",
   "execution_count": 29,
   "metadata": {},
   "outputs": [
    {
     "name": "stdout",
     "output_type": "stream",
     "text": [
      "95553\n",
      "Train X aug lenght: 95553 | 95553\n",
      "Dev X aug lenght: 13652 | 13652\n"
     ]
    },
    {
     "data": {
      "text/plain": [
       "[{'bias': 1.0,\n",
       "  'word': 'Cameroon',\n",
       "  'word.tones': '',\n",
       "  'word.normalized': 'Cameroon',\n",
       "  'word.position': 0,\n",
       "  'word.has_hyphen': False,\n",
       "  'word.lower()': 'cameroon',\n",
       "  'word.start_with_capital': True,\n",
       "  'word.have_tone': False,\n",
       "  'word.ispunctuation': False,\n",
       "  'word.isdigit()': False,\n",
       "  'BOS': True,\n",
       "  '+1:word': 'Tribune',\n",
       "  '+1:word.position': 1,\n",
       "  '+1:word.letters': 'T r i b u n e',\n",
       "  '+1:word.normalized': 'Tribune',\n",
       "  '+1:word.start_with_capital': True,\n",
       "  '+1:len(word2)': 7,\n",
       "  '+1:word.lower()': 'tribune',\n",
       "  '+1:word.isdigit()': False,\n",
       "  '+1:word.ispunctuation': False},\n",
       " {'bias': 1.0,\n",
       "  'word': 'Tribune',\n",
       "  'word.tones': '',\n",
       "  'word.normalized': 'Tribune',\n",
       "  'word.position': 1,\n",
       "  'word.has_hyphen': False,\n",
       "  'word.lower()': 'tribune',\n",
       "  'word.start_with_capital': True,\n",
       "  'word.have_tone': False,\n",
       "  'word.ispunctuation': False,\n",
       "  'word.isdigit()': False,\n",
       "  '-1:word': 'Cameroon',\n",
       "  '-1:word.position': 0,\n",
       "  '-1:word.letters': 'C a m e r o o n',\n",
       "  '-1:word.normalized': 'Cameroon',\n",
       "  '-1:word.start_with_capital': True,\n",
       "  '-1:len(word1)': 8,\n",
       "  '-1:word.lower()': 'cameroon',\n",
       "  '-1:word.isdigit()': False,\n",
       "  '-1:word.ispunctuation': False,\n",
       "  '-1:word.tag()': 'B-ORG',\n",
       "  '+1:word': 'ntâmgǒ',\n",
       "  '+1:word.position': 2,\n",
       "  '+1:word.letters': 'n t a ̂ m g o ̌',\n",
       "  '+1:word.normalized': 'ntâmgǒ',\n",
       "  '+1:word.start_with_capital': False,\n",
       "  '+1:len(word2)': 6,\n",
       "  '+1:word.lower()': 'ntâmgǒ',\n",
       "  '+1:word.isdigit()': False,\n",
       "  '+1:word.ispunctuation': False},\n",
       " {'bias': 1.0,\n",
       "  'word': 'ntâmgǒ',\n",
       "  'word.tones': '̂ ̌',\n",
       "  'word.normalized': 'ntâmgǒ',\n",
       "  'word.position': 2,\n",
       "  'word.has_hyphen': False,\n",
       "  'word.lower()': 'ntâmgǒ',\n",
       "  'word.start_with_capital': False,\n",
       "  'word.have_tone': True,\n",
       "  'word.ispunctuation': False,\n",
       "  'word.isdigit()': False,\n",
       "  '-1:word': 'Tribune',\n",
       "  '-1:word.position': 1,\n",
       "  '-1:word.letters': 'T r i b u n e',\n",
       "  '-1:word.normalized': 'Tribune',\n",
       "  '-1:word.start_with_capital': True,\n",
       "  '-1:len(word1)': 7,\n",
       "  '-1:word.lower()': 'tribune',\n",
       "  '-1:word.isdigit()': False,\n",
       "  '-1:word.ispunctuation': False,\n",
       "  '-1:word.tag()': 'I-ORG',\n",
       "  '+1:word': '13',\n",
       "  '+1:word.position': 3,\n",
       "  '+1:word.letters': '1 3',\n",
       "  '+1:word.normalized': '13',\n",
       "  '+1:word.start_with_capital': False,\n",
       "  '+1:len(word2)': 2,\n",
       "  '+1:word.lower()': '13',\n",
       "  '+1:word.isdigit()': True,\n",
       "  '+1:word.ispunctuation': False},\n",
       " {'bias': 1.0,\n",
       "  'word': '13',\n",
       "  'word.tones': '1 3',\n",
       "  'word.normalized': '13',\n",
       "  'word.position': 3,\n",
       "  'word.has_hyphen': False,\n",
       "  'word.lower()': '13',\n",
       "  'word.start_with_capital': False,\n",
       "  'word.have_tone': True,\n",
       "  'word.ispunctuation': False,\n",
       "  'word.isdigit()': True,\n",
       "  '-1:word': 'ntâmgǒ',\n",
       "  '-1:word.position': 2,\n",
       "  '-1:word.letters': 'n t a ̂ m g o ̌',\n",
       "  '-1:word.normalized': 'ntâmgǒ',\n",
       "  '-1:word.start_with_capital': False,\n",
       "  '-1:len(word1)': 6,\n",
       "  '-1:word.lower()': 'ntâmgǒ',\n",
       "  '-1:word.isdigit()': False,\n",
       "  '-1:word.ispunctuation': False,\n",
       "  '-1:word.tag()': 'B-DATE',\n",
       "  '+1:word': 'fə̀fə̀',\n",
       "  '+1:word.position': 4,\n",
       "  '+1:word.letters': 'f ə ̀ f ə ̀',\n",
       "  '+1:word.normalized': 'fə̀fə̀',\n",
       "  '+1:word.start_with_capital': False,\n",
       "  '+1:len(word2)': 6,\n",
       "  '+1:word.lower()': 'fə̀fə̀',\n",
       "  '+1:word.isdigit()': False,\n",
       "  '+1:word.ispunctuation': False},\n",
       " {'bias': 1.0,\n",
       "  'word': 'fə̀fə̀',\n",
       "  'word.tones': '̀ ̀',\n",
       "  'word.normalized': 'fə̀fə̀',\n",
       "  'word.position': 4,\n",
       "  'word.has_hyphen': False,\n",
       "  'word.lower()': 'fə̀fə̀',\n",
       "  'word.start_with_capital': False,\n",
       "  'word.have_tone': True,\n",
       "  'word.ispunctuation': False,\n",
       "  'word.isdigit()': False,\n",
       "  '-1:word': '13',\n",
       "  '-1:word.position': 3,\n",
       "  '-1:word.letters': '1 3',\n",
       "  '-1:word.normalized': '13',\n",
       "  '-1:word.start_with_capital': False,\n",
       "  '-1:len(word1)': 2,\n",
       "  '-1:word.lower()': '13',\n",
       "  '-1:word.isdigit()': True,\n",
       "  '-1:word.ispunctuation': False,\n",
       "  '-1:word.tag()': 'I-DATE',\n",
       "  '+1:word': '2021',\n",
       "  '+1:word.position': 5,\n",
       "  '+1:word.letters': '2 0 2 1',\n",
       "  '+1:word.normalized': '2021',\n",
       "  '+1:word.start_with_capital': False,\n",
       "  '+1:len(word2)': 4,\n",
       "  '+1:word.lower()': '2021',\n",
       "  '+1:word.isdigit()': True,\n",
       "  '+1:word.ispunctuation': False},\n",
       " {'bias': 1.0,\n",
       "  'word': '2021',\n",
       "  'word.tones': '2 0 2 1',\n",
       "  'word.normalized': '2021',\n",
       "  'word.position': 5,\n",
       "  'word.has_hyphen': False,\n",
       "  'word.lower()': '2021',\n",
       "  'word.start_with_capital': False,\n",
       "  'word.have_tone': True,\n",
       "  'word.ispunctuation': False,\n",
       "  'word.isdigit()': True,\n",
       "  '-1:word': 'fə̀fə̀',\n",
       "  '-1:word.position': 4,\n",
       "  '-1:word.letters': 'f ə ̀ f ə ̀',\n",
       "  '-1:word.normalized': 'fə̀fə̀',\n",
       "  '-1:word.start_with_capital': False,\n",
       "  '-1:len(word1)': 6,\n",
       "  '-1:word.lower()': 'fə̀fə̀',\n",
       "  '-1:word.isdigit()': False,\n",
       "  '-1:word.ispunctuation': False,\n",
       "  '-1:word.tag()': 'I-DATE',\n",
       "  '+1:word': '.',\n",
       "  '+1:word.position': 6,\n",
       "  '+1:word.letters': '.',\n",
       "  '+1:word.normalized': '.',\n",
       "  '+1:word.start_with_capital': False,\n",
       "  '+1:len(word2)': 1,\n",
       "  '+1:word.lower()': '.',\n",
       "  '+1:word.isdigit()': False,\n",
       "  '+1:word.ispunctuation': True},\n",
       " {'bias': 1.0,\n",
       "  'word': '.',\n",
       "  'word.tones': '.',\n",
       "  'word.normalized': '.',\n",
       "  'word.position': 6,\n",
       "  'word.has_hyphen': False,\n",
       "  'word.lower()': '.',\n",
       "  'word.start_with_capital': False,\n",
       "  'word.have_tone': True,\n",
       "  'word.ispunctuation': True,\n",
       "  'word.isdigit()': False,\n",
       "  'EOS': True,\n",
       "  '-1:word': '2021',\n",
       "  '-1:word.position': 5,\n",
       "  '-1:word.letters': '2 0 2 1',\n",
       "  '-1:word.normalized': '2021',\n",
       "  '-1:word.start_with_capital': False,\n",
       "  '-1:len(word1)': 4,\n",
       "  '-1:word.lower()': '2021',\n",
       "  '-1:word.isdigit()': True,\n",
       "  '-1:word.ispunctuation': False,\n",
       "  '-1:word.tag()': 'I-DATE'}]"
      ]
     },
     "execution_count": 29,
     "metadata": {},
     "output_type": "execute_result"
    }
   ],
   "source": [
    "# Build features from dataset \n",
    "print(len(extracted_train_data))\n",
    "\n",
    "#train_sents = format_data(pd_train_data)\n",
    "#dev_sents = format_data(pd_dev_data)\n",
    "train_sents = [[word for word in sentence] for sentence in extracted_train_data]\n",
    "dev_sents = [[word for word in sentence] for sentence in extracted_dev_data]\n",
    "\n",
    "Xtrain = [sent2features(s) for s in train_sents]\n",
    "ytrain = [sent2labels(s) for s in train_sents]\n",
    "\n",
    "Xdev = [sent2features(s) for s in dev_sents]\n",
    "ydev = [sent2labels(s) for s in dev_sents]\n",
    "\n",
    "\n",
    "print(f\"Train X aug lenght: {len(Xtrain)} | {len(ytrain)}\")\n",
    "print(f\"Dev X aug lenght: {len(Xdev)} | {len(ydev)}\")\n",
    "Xtrain[2]"
   ]
  },
  {
   "cell_type": "code",
   "execution_count": 30,
   "metadata": {},
   "outputs": [
    {
     "data": {
      "text/plain": [
       "['preprocessing/sangkak-multi-all_featurised_train_dev_data_2023-03-13_20:21:43.467303.joblib']"
      ]
     },
     "execution_count": 30,
     "metadata": {},
     "output_type": "execute_result"
    }
   ],
   "source": [
    "project = f\"sangkak-{language}\"\n",
    "build_date = str(datetime.now()).replace(' ','_')\n",
    "\n",
    "joblib.dump({\n",
    "    \"Xtrain\": Xtrain, \"ytrain\": ytrain, \n",
    "    \"Xdev\": Xdev, \"ydev\": ydev\n",
    "}, f'preprocessing/{project}_featurised_train_dev_data_{build_date}.joblib') "
   ]
  },
  {
   "cell_type": "code",
   "execution_count": 2,
   "metadata": {},
   "outputs": [],
   "source": [
    "data = joblib.load('preprocessing/{project}_featurised_train_dev_data_{build_date}.joblib')\n"
   ]
  },
  {
   "cell_type": "code",
   "execution_count": 31,
   "metadata": {},
   "outputs": [
    {
     "ename": "NameError",
     "evalue": "name 'data' is not defined",
     "output_type": "error",
     "traceback": [
      "\u001b[0;31m---------------------------------------------------------------------------\u001b[0m",
      "\u001b[0;31mNameError\u001b[0m                                 Traceback (most recent call last)",
      "Cell \u001b[0;32mIn[31], line 1\u001b[0m\n\u001b[0;32m----> 1\u001b[0m Xtrain \u001b[39m=\u001b[39m data[\u001b[39m'\u001b[39m\u001b[39mXtrain\u001b[39m\u001b[39m'\u001b[39m]\n\u001b[1;32m      2\u001b[0m ytrain \u001b[39m=\u001b[39m data[\u001b[39m'\u001b[39m\u001b[39mytrain\u001b[39m\u001b[39m'\u001b[39m]\n\u001b[1;32m      3\u001b[0m Xdev \u001b[39m=\u001b[39m data[\u001b[39m'\u001b[39m\u001b[39mXdev\u001b[39m\u001b[39m'\u001b[39m]\n",
      "\u001b[0;31mNameError\u001b[0m: name 'data' is not defined"
     ]
    }
   ],
   "source": [
    "Xtrain = data['Xtrain']\n",
    "ytrain = data['ytrain']\n",
    "Xdev = data['Xdev']\n",
    "ydev = data['ydev']\n"
   ]
  },
  {
   "attachments": {},
   "cell_type": "markdown",
   "metadata": {},
   "source": [
    "# 3. Modelling with CRF algorithm"
   ]
  },
  {
   "cell_type": "code",
   "execution_count": 32,
   "metadata": {},
   "outputs": [],
   "source": [
    "#import pycrfsuite\n",
    "import sklearn_crfsuite\n",
    "import math, string, re\n",
    "import scipy\n",
    "from sklearn.metrics import make_scorer\n",
    "from sklearn.metrics import accuracy_score, classification_report\n",
    "from sklearn.model_selection import cross_val_score\n",
    "from sklearn_crfsuite import metrics\n",
    "from collections import Counter\n"
   ]
  },
  {
   "attachments": {},
   "cell_type": "markdown",
   "metadata": {},
   "source": [
    "### 3.1. Initialisation of pycrfsuite with training data"
   ]
  },
  {
   "cell_type": "code",
   "execution_count": 33,
   "metadata": {},
   "outputs": [
    {
     "name": "stderr",
     "output_type": "stream",
     "text": [
      "loading training data to CRFsuite: 100%|██████████| 95553/95553 [01:02<00:00, 1533.30it/s]\n"
     ]
    },
    {
     "name": "stdout",
     "output_type": "stream",
     "text": [
      "\n"
     ]
    },
    {
     "name": "stderr",
     "output_type": "stream",
     "text": [
      "loading dev data to CRFsuite: 100%|██████████| 13652/13652 [00:09<00:00, 1463.82it/s]\n"
     ]
    },
    {
     "name": "stdout",
     "output_type": "stream",
     "text": [
      "\n",
      "Holdout group: 2\n",
      "\n",
      "Feature generation\n",
      "type: CRF1d\n",
      "feature.minfreq: 0.000000\n",
      "feature.possible_states: 1\n",
      "feature.possible_transitions: 1\n",
      "0....1....2....3....4....5....6....7....8....9....10\n",
      "Number of features: 31510680\n",
      "Seconds required: 149.033\n",
      "\n",
      "L-BFGS optimization\n",
      "c1: 0.092051\n",
      "c2: 0.032877\n",
      "num_memories: 10000\n",
      "max_iterations: 100\n",
      "epsilon: 0.001000\n",
      "stop: 10\n",
      "delta: 0.000100\n",
      "linesearch: MoreThuente\n",
      "linesearch.max_iterations: 100000\n",
      "\n",
      "Iter 1   time=17.53 loss=3466865.93 active=14562499 precision=0.074  recall=0.083  F1=0.079  Acc(item/seq)=0.891 0.348  feature_norm=0.50\n",
      "Iter 2   time=6.83  loss=3219533.54 active=12433729 precision=0.074  recall=0.083  F1=0.079  Acc(item/seq)=0.891 0.348  feature_norm=0.46\n",
      "Iter 3   time=7.52  loss=1974191.74 active=6550481 precision=0.074  recall=0.083  F1=0.079  Acc(item/seq)=0.891 0.348  feature_norm=0.74\n",
      "Iter 4   time=11.84 loss=1937617.01 active=8909404 precision=0.074  recall=0.083  F1=0.079  Acc(item/seq)=0.891 0.348  feature_norm=0.75\n",
      "Iter 5   time=5.61  loss=1741953.94 active=7170255 precision=0.074  recall=0.083  F1=0.079  Acc(item/seq)=0.891 0.348  feature_norm=0.59\n",
      "Iter 6   time=9.96  loss=1566865.45 active=6319000 precision=0.074  recall=0.083  F1=0.079  Acc(item/seq)=0.891 0.348  feature_norm=0.59\n",
      "Iter 7   time=5.63  loss=1531767.48 active=6389244 precision=0.074  recall=0.083  F1=0.079  Acc(item/seq)=0.891 0.348  feature_norm=0.85\n",
      "Iter 8   time=5.78  loss=1478739.09 active=6783149 precision=0.074  recall=0.083  F1=0.079  Acc(item/seq)=0.891 0.348  feature_norm=0.87\n",
      "Iter 9   time=6.00  loss=1462836.88 active=6580744 precision=0.074  recall=0.083  F1=0.079  Acc(item/seq)=0.891 0.348  feature_norm=0.87\n",
      "Iter 10  time=6.12  loss=1410394.10 active=6088867 precision=0.074  recall=0.083  F1=0.079  Acc(item/seq)=0.891 0.348  feature_norm=0.93\n",
      "Iter 11  time=6.31  loss=1266310.05 active=5381410 precision=0.074  recall=0.083  F1=0.079  Acc(item/seq)=0.891 0.348  feature_norm=1.31\n",
      "Iter 12  time=6.54  loss=1158810.76 active=5285708 precision=0.112  recall=0.084  F1=0.080  Acc(item/seq)=0.891 0.347  feature_norm=2.27\n",
      "Iter 13  time=6.63  loss=1017748.44 active=6866785 precision=0.074  recall=0.083  F1=0.079  Acc(item/seq)=0.891 0.348  feature_norm=2.70\n",
      "Iter 14  time=6.62  loss=954920.92 active=6785926 precision=0.097  recall=0.084  F1=0.080  Acc(item/seq)=0.891 0.348  feature_norm=3.32\n",
      "Iter 15  time=7.06  loss=907895.79 active=6494093 precision=0.083  recall=0.083  F1=0.079  Acc(item/seq)=0.891 0.348  feature_norm=3.84\n",
      "Iter 16  time=7.20  loss=856520.07 active=6146997 precision=0.250  recall=0.092  F1=0.094  Acc(item/seq)=0.891 0.343  feature_norm=4.87\n",
      "Iter 17  time=7.23  loss=819855.08 active=6206492 precision=0.329  recall=0.090  F1=0.091  Acc(item/seq)=0.891 0.347  feature_norm=5.57\n",
      "Iter 18  time=7.19  loss=783593.86 active=6047132 precision=0.261  recall=0.105  F1=0.115  Acc(item/seq)=0.894 0.353  feature_norm=6.11\n",
      "Iter 19  time=7.56  loss=664802.27 active=5637500 precision=0.375  recall=0.185  F1=0.205  Acc(item/seq)=0.908 0.375  feature_norm=8.71\n",
      "Iter 20  time=7.76  loss=596703.27 active=4986824 precision=0.439  recall=0.268  F1=0.280  Acc(item/seq)=0.917 0.393  feature_norm=10.59\n",
      "Iter 21  time=7.58  loss=489845.70 active=4789420 precision=0.410  recall=0.339  F1=0.335  Acc(item/seq)=0.930 0.435  feature_norm=11.99\n",
      "Iter 22  time=7.97  loss=453979.00 active=4632178 precision=0.480  recall=0.334  F1=0.346  Acc(item/seq)=0.933 0.451  feature_norm=12.55\n",
      "Iter 23  time=8.82  loss=413305.31 active=4563710 precision=0.533  recall=0.401  F1=0.410  Acc(item/seq)=0.940 0.458  feature_norm=13.53\n",
      "Iter 24  time=8.29  loss=381463.67 active=4557267 precision=0.575  recall=0.407  F1=0.434  Acc(item/seq)=0.942 0.464  feature_norm=14.38\n",
      "Iter 25  time=10.91 loss=352910.45 active=4417052 precision=0.560  recall=0.486  F1=0.496  Acc(item/seq)=0.947 0.460  feature_norm=16.53\n",
      "Iter 26  time=10.80 loss=328850.54 active=4347889 precision=0.585  recall=0.482  F1=0.506  Acc(item/seq)=0.949 0.469  feature_norm=17.92\n"
     ]
    }
   ],
   "source": [
    "project = f\"sangkak-{language}\"\n",
    "build_date = str(datetime.now()).replace(' ','_')\n",
    "model_name = Path(f\"models/multi/crf_{project}_{build_date}.model\")\n",
    "model_file = str(model_name)\n",
    "file_crf = Path(f\"models/multi/crf_{project}_{build_date}.object\")\n",
    "\n",
    "params = {\n",
    "    \"algorithm\": 'lbfgs',\n",
    "    \"c1\": 0.0920512484757745,\n",
    "    \"c2\": 0.0328771171605105, \n",
    "    \"max_iterations\":100,\n",
    "    \"verbose\":True,\n",
    "    \"num_memories\":10000,\n",
    "    \"epsilon\": 1e-3,\n",
    "    \"linesearch\": \"MoreThuente\",\n",
    "    \"max_linesearch\":100000,\n",
    "    \"delta\":1e-4,\n",
    "    #n_job=-1,\n",
    "    #\"c\": 2,\n",
    "    #\"pa_type\": 2,\n",
    "    \"all_possible_states\":True,\n",
    "    \"all_possible_transitions\":True, \n",
    "    \"model_filename\": model_file\n",
    "}\n",
    "\n",
    "crf = sklearn_crfsuite.CRF(**params)\n",
    "\n",
    "crf.fit(Xtrain, ytrain, Xdev, ydev)    \n",
    "\n",
    "final = {\"crf\": crf, \"params\": params}\n",
    "joblib.dump(final, file_crf) \n"
   ]
  },
  {
   "attachments": {},
   "cell_type": "markdown",
   "metadata": {},
   "source": [
    "# 4- Grid search\n",
    "\n",
    "In other to optimised parameters of CRF model, we want here to find the best parameters that will fit to our data."
   ]
  },
  {
   "cell_type": "code",
   "execution_count": null,
   "metadata": {},
   "outputs": [],
   "source": [
    "from sklearn.model_selection import RandomizedSearchCV\n",
    "from sklearn_crfsuite import scorers\n",
    "from itertools import chain\n",
    "from sklearn.preprocessing import MultiLabelBinarizer"
   ]
  },
  {
   "cell_type": "code",
   "execution_count": null,
   "metadata": {},
   "outputs": [],
   "source": [
    "# get initial model parameters and delete c1 and c2 parameters\n",
    "del params['c1']\n",
    "del params['c2']\n",
    "\n",
    "crf_grill = sklearn_crfsuite.CRF(**params)\n",
    "\n",
    "labels = list(crf.classes_)\n",
    "labels.remove('O')\n",
    "\n",
    "params_space = {\n",
    "    'c1': scipy.stats.expon(scale=0.1),\n",
    "    'c2': scipy.stats.expon(scale=0.05)\n",
    "}\n",
    "\n",
    "# use the same metric for evaluation\n",
    "f1_scorer = make_scorer(metrics.flat_f1_score,\n",
    "                        average='weighted', labels=labels)\n",
    "\n",
    "# search\n",
    "rs = RandomizedSearchCV(crf_grill, params_space,\n",
    "                        cv=3,\n",
    "                        verbose=1,\n",
    "                        n_jobs=5,\n",
    "                        n_iter=50,\n",
    "                        scoring=f1_scorer)\n",
    "rs.fit(Xtrain, ytrain)"
   ]
  },
  {
   "cell_type": "code",
   "execution_count": null,
   "metadata": {},
   "outputs": [],
   "source": [
    "# crf = rs.best_estimator_\n",
    "print('best params:', rs.best_params_)\n",
    "print('best CV score:', rs.best_score_)\n",
    "print('model size: {:0.2f}M'.format(rs.best_estimator_.size_ / 1000000))"
   ]
  },
  {
   "cell_type": "code",
   "execution_count": null,
   "metadata": {},
   "outputs": [],
   "source": [
    "#print(rs.cv_results_)\n",
    "_x = [s['c1'] for s in rs.cv_results_['params']]\n",
    "_y = [s['c2'] for s in rs.cv_results_['params']]\n",
    "_c = [s for s in rs.cv_results_['mean_score_time']]\n",
    "\n",
    "fig = plt.figure()\n",
    "fig.set_size_inches(12, 12)\n",
    "ax = plt.gca()\n",
    "ax.set_yscale('log')\n",
    "ax.set_xscale('log')\n",
    "ax.set_xlabel('C1')\n",
    "ax.set_ylabel('C2')\n",
    "ax.set_title(\"Randomized Hyperparameter Search CV Results (min={:0.3}, max={:0.3})\".format(\n",
    "    min(_c), max(_c)\n",
    "))\n",
    "\n",
    "ax.scatter(_x, _y, c=_c, s=60, alpha=0.9, edgecolors=[0,0,0])\n",
    "\n",
    "print(\"Dark blue => {:0.4}, dark red => {:0.4}\".format(min(_c), max(_c)))"
   ]
  },
  {
   "cell_type": "code",
   "execution_count": null,
   "metadata": {},
   "outputs": [],
   "source": [
    "crf_grid = rs.best_estimator_\n",
    "y_pred = crf_grid.predict(Xtest)\n",
    "print(metrics.flat_classification_report(\n",
    "    ytest, y_pred, labels=sorted_labels, digits=3\n",
    "))"
   ]
  },
  {
   "cell_type": "code",
   "execution_count": null,
   "metadata": {},
   "outputs": [],
   "source": [
    "\n",
    "def print_transitions(trans_features):\n",
    "    for (label_from, label_to), weight in trans_features:\n",
    "        print(\"%-6s -> %-7s %0.6f\" % (label_from, label_to, weight))\n",
    "\n",
    "print(\"Top likely transitions:\")\n",
    "print_transitions(Counter(crf.transition_features_).most_common(20))\n",
    "\n",
    "print(\"\\nTop unlikely transitions:\")\n",
    "print_transitions(Counter(crf.transition_features_).most_common()[-20:])"
   ]
  },
  {
   "cell_type": "code",
   "execution_count": null,
   "metadata": {},
   "outputs": [],
   "source": [
    "def print_state_features(state_features):\n",
    "    for (attr, label), weight in state_features:\n",
    "        print(\"%0.6f %-8s %s\" % (weight, label, attr))\n",
    "\n",
    "print(\"Top positive:\")\n",
    "print_state_features(Counter(crf.state_features_).most_common(30))\n",
    "\n",
    "print(\"\\nTop negative:\")\n",
    "print_state_features(Counter(crf.state_features_).most_common()[-30:])"
   ]
  }
 ],
 "metadata": {
  "kernelspec": {
   "display_name": "scia-crf-lf-OXAjte5Q-py3.10",
   "language": "python",
   "name": "python3"
  },
  "language_info": {
   "codemirror_mode": {
    "name": "ipython",
    "version": 3
   },
   "file_extension": ".py",
   "mimetype": "text/x-python",
   "name": "python",
   "nbconvert_exporter": "python",
   "pygments_lexer": "ipython3",
   "version": "3.10.6"
  },
  "vscode": {
   "interpreter": {
    "hash": "646b439550bec9cacc5e0384422c9ee78f8df74b182cfe1fc7410e07b34d6961"
   }
  }
 },
 "nbformat": 4,
 "nbformat_minor": 2
}
