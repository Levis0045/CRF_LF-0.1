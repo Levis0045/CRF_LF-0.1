{
  "cells": [
    {
      "cell_type": "markdown",
      "metadata": {
        "colab_type": "text",
        "id": "view-in-github"
      },
      "source": [
        "<a href=\"https://colab.research.google.com/github/Levis0045/SCIA-CRF_LF/blob/0.1/training/experimentations_crf_regression.ipynb\" target=\"_parent\"><img src=\"https://colab.research.google.com/assets/colab-badge.svg\" alt=\"Open In Colab\"/></a>"
      ]
    },
    {
      "attachments": {},
      "cell_type": "markdown",
      "metadata": {},
      "source": [
        "# Sangkak AI Challenge: NER tasks\n",
        "\n",
        "--------------------------------------------------------------------------\n",
        "\n",
        "- **Author**: Elvis MBONING (NTeALan Research and Development Team)\n",
        "- **Session**: février 2023\n",
        "\n",
        "--------------------------------------------------------------------------\n",
        "\n",
        "In this notebook, we try to implement new methods which can potentialy improved NER task in low african resource languages.\n",
        "\n",
        "We propose a rule-based approach call **Position to position entity augmentation** to normalize and augment lowest training data for CRF model. Our work is based on this paper (Xiang Dai and Heike Adel, 2020)[https://aclanthology.org/2020.coling-main.343.pdf]."
      ]
    },
    {
      "attachments": {},
      "cell_type": "markdown",
      "metadata": {},
      "source": [
        "# Experiments\n",
        "\n",
        "In this experiment, we want to build ML model based on Conditional Random Field (CRF). \n",
        "\n",
        "## 1- Data processing and analysis\n",
        "\n",
        "### 1.1. Loading data from Masakhane folder\n"
      ]
    },
    {
      "cell_type": "code",
      "execution_count": 1,
      "metadata": {
        "colab": {
          "base_uri": "https://localhost:8080/"
        },
        "id": "uDW7Mxx1-RoP",
        "outputId": "9eac6c2c-417c-4f9a-f347-81eb25017b8a"
      },
      "outputs": [
        {
          "name": "stdout",
          "output_type": "stream",
          "text": [
            "Mounted at /content/drive\n"
          ]
        }
      ],
      "source": [
        "from google.colab import drive\n",
        "drive.mount('/content/drive')"
      ]
    },
    {
      "cell_type": "code",
      "execution_count": 1,
      "metadata": {
        "colab": {
          "base_uri": "https://localhost:8080/"
        },
        "id": "7MGxSaAP-Oq0",
        "outputId": "dbed5158-e372-4410-9db9-1225d6263abc",
        "scrolled": true
      },
      "outputs": [
        {
          "name": "stdout",
          "output_type": "stream",
          "text": [
            "Looking in indexes: https://pypi.org/simple, https://us-python.pkg.dev/colab-wheels/public/simple/\n",
            "Requirement already satisfied: pandas in /usr/local/lib/python3.8/dist-packages (1.3.5)\n",
            "Collecting python_crfsuite\n",
            "  Downloading python_crfsuite-0.9.9-cp38-cp38-manylinux_2_17_x86_64.manylinux2014_x86_64.whl (1.0 MB)\n",
            "\u001b[2K     \u001b[90m━━━━━━━━━━━━━━━━━━━━━━━━━━━━━━━━━━━━━━━━\u001b[0m \u001b[32m1.0/1.0 MB\u001b[0m \u001b[31m23.1 MB/s\u001b[0m eta \u001b[36m0:00:00\u001b[0m\n",
            "\u001b[?25hCollecting summarytools\n",
            "  Downloading summarytools-0.2.3.tar.gz (11 kB)\n",
            "  Installing build dependencies ... \u001b[?25l\u001b[?25hdone\n",
            "  Getting requirements to build wheel ... \u001b[?25l\u001b[?25hdone\n",
            "  Preparing metadata (pyproject.toml) ... \u001b[?25l\u001b[?25hdone\n",
            "Collecting sklearn_crfsuite\n",
            "  Downloading sklearn_crfsuite-0.3.6-py2.py3-none-any.whl (12 kB)\n",
            "Collecting unidecode\n",
            "  Downloading Unidecode-1.3.6-py3-none-any.whl (235 kB)\n",
            "\u001b[2K     \u001b[90m━━━━━━━━━━━━━━━━━━━━━━━━━━━━━━━━━━━━━━\u001b[0m \u001b[32m235.9/235.9 KB\u001b[0m \u001b[31m31.3 MB/s\u001b[0m eta \u001b[36m0:00:00\u001b[0m\n",
            "\u001b[?25hRequirement already satisfied: python-dateutil>=2.7.3 in /usr/local/lib/python3.8/dist-packages (from pandas) (2.8.2)\n",
            "Requirement already satisfied: numpy>=1.17.3 in /usr/local/lib/python3.8/dist-packages (from pandas) (1.22.4)\n",
            "Requirement already satisfied: pytz>=2017.3 in /usr/local/lib/python3.8/dist-packages (from pandas) (2022.7.1)\n",
            "Collecting ipython>=7.20.0\n",
            "  Downloading ipython-8.10.0-py3-none-any.whl (784 kB)\n",
            "\u001b[2K     \u001b[90m━━━━━━━━━━━━━━━━━━━━━━━━━━━━━━━━━━━━━━\u001b[0m \u001b[32m784.3/784.3 KB\u001b[0m \u001b[31m48.7 MB/s\u001b[0m eta \u001b[36m0:00:00\u001b[0m\n",
            "\u001b[?25hCollecting pandas\n",
            "  Downloading pandas-1.5.3-cp38-cp38-manylinux_2_17_x86_64.manylinux2014_x86_64.whl (12.2 MB)\n",
            "\u001b[2K     \u001b[90m━━━━━━━━━━━━━━━━━━━━━━━━━━━━━━━━━━━━━━━━\u001b[0m \u001b[32m12.2/12.2 MB\u001b[0m \u001b[31m98.3 MB/s\u001b[0m eta \u001b[36m0:00:00\u001b[0m\n",
            "\u001b[?25hCollecting matplotlib>=3.3.0\n",
            "  Downloading matplotlib-3.7.0-cp38-cp38-manylinux_2_12_x86_64.manylinux2010_x86_64.whl (9.2 MB)\n",
            "\u001b[2K     \u001b[90m━━━━━━━━━━━━━━━━━━━━━━━━━━━━━━━━━━━━━━━━\u001b[0m \u001b[32m9.2/9.2 MB\u001b[0m \u001b[31m110.5 MB/s\u001b[0m eta \u001b[36m0:00:00\u001b[0m\n",
            "\u001b[?25hRequirement already satisfied: tqdm>=2.0 in /usr/local/lib/python3.8/dist-packages (from sklearn_crfsuite) (4.64.1)\n",
            "Requirement already satisfied: tabulate in /usr/local/lib/python3.8/dist-packages (from sklearn_crfsuite) (0.8.10)\n",
            "Requirement already satisfied: six in /usr/local/lib/python3.8/dist-packages (from sklearn_crfsuite) (1.15.0)\n",
            "Collecting jedi>=0.16\n",
            "  Downloading jedi-0.18.2-py2.py3-none-any.whl (1.6 MB)\n",
            "\u001b[2K     \u001b[90m━━━━━━━━━━━━━━━━━━━━━━━━━━━━━━━━━━━━━━━━\u001b[0m \u001b[32m1.6/1.6 MB\u001b[0m \u001b[31m85.2 MB/s\u001b[0m eta \u001b[36m0:00:00\u001b[0m\n",
            "\u001b[?25hRequirement already satisfied: decorator in /usr/local/lib/python3.8/dist-packages (from ipython>=7.20.0->summarytools) (4.4.2)\n",
            "Requirement already satisfied: traitlets>=5 in /usr/local/lib/python3.8/dist-packages (from ipython>=7.20.0->summarytools) (5.7.1)\n",
            "Requirement already satisfied: pexpect>4.3 in /usr/local/lib/python3.8/dist-packages (from ipython>=7.20.0->summarytools) (4.8.0)\n",
            "Requirement already satisfied: backcall in /usr/local/lib/python3.8/dist-packages (from ipython>=7.20.0->summarytools) (0.2.0)\n",
            "Collecting matplotlib-inline\n",
            "  Downloading matplotlib_inline-0.1.6-py3-none-any.whl (9.4 kB)\n",
            "Collecting prompt-toolkit<3.1.0,>=3.0.30\n",
            "  Downloading prompt_toolkit-3.0.37-py3-none-any.whl (385 kB)\n",
            "\u001b[2K     \u001b[90m━━━━━━━━━━━━━━━━━━━━━━━━━━━━━━━━━━━━━━\u001b[0m \u001b[32m385.2/385.2 KB\u001b[0m \u001b[31m44.0 MB/s\u001b[0m eta \u001b[36m0:00:00\u001b[0m\n",
            "\u001b[?25hRequirement already satisfied: pickleshare in /usr/local/lib/python3.8/dist-packages (from ipython>=7.20.0->summarytools) (0.7.5)\n",
            "Collecting stack-data\n",
            "  Downloading stack_data-0.6.2-py3-none-any.whl (24 kB)\n",
            "Requirement already satisfied: pygments>=2.4.0 in /usr/local/lib/python3.8/dist-packages (from ipython>=7.20.0->summarytools) (2.6.1)\n",
            "Requirement already satisfied: packaging>=20.0 in /usr/local/lib/python3.8/dist-packages (from matplotlib>=3.3.0->summarytools) (23.0)\n",
            "Collecting fonttools>=4.22.0\n",
            "  Downloading fonttools-4.38.0-py3-none-any.whl (965 kB)\n",
            "\u001b[2K     \u001b[90m━━━━━━━━━━━━━━━━━━━━━━━━━━━━━━━━━━━━━━\u001b[0m \u001b[32m965.4/965.4 KB\u001b[0m \u001b[31m73.2 MB/s\u001b[0m eta \u001b[36m0:00:00\u001b[0m\n",
            "\u001b[?25hRequirement already satisfied: kiwisolver>=1.0.1 in /usr/local/lib/python3.8/dist-packages (from matplotlib>=3.3.0->summarytools) (1.4.4)\n",
            "Requirement already satisfied: cycler>=0.10 in /usr/local/lib/python3.8/dist-packages (from matplotlib>=3.3.0->summarytools) (0.11.0)\n",
            "Requirement already satisfied: importlib-resources>=3.2.0 in /usr/local/lib/python3.8/dist-packages (from matplotlib>=3.3.0->summarytools) (5.10.2)\n",
            "Collecting contourpy>=1.0.1\n",
            "  Downloading contourpy-1.0.7-cp38-cp38-manylinux_2_17_x86_64.manylinux2014_x86_64.whl (300 kB)\n",
            "\u001b[2K     \u001b[90m━━━━━━━━━━━━━━━━━━━━━━━━━━━━━━━━━━━━━━\u001b[0m \u001b[32m300.0/300.0 KB\u001b[0m \u001b[31m39.3 MB/s\u001b[0m eta \u001b[36m0:00:00\u001b[0m\n",
            "\u001b[?25hRequirement already satisfied: pyparsing>=2.3.1 in /usr/local/lib/python3.8/dist-packages (from matplotlib>=3.3.0->summarytools) (3.0.9)\n",
            "Requirement already satisfied: pillow>=6.2.0 in /usr/local/lib/python3.8/dist-packages (from matplotlib>=3.3.0->summarytools) (7.1.2)\n",
            "Requirement already satisfied: zipp>=3.1.0 in /usr/local/lib/python3.8/dist-packages (from importlib-resources>=3.2.0->matplotlib>=3.3.0->summarytools) (3.13.0)\n",
            "Requirement already satisfied: parso<0.9.0,>=0.8.0 in /usr/local/lib/python3.8/dist-packages (from jedi>=0.16->ipython>=7.20.0->summarytools) (0.8.3)\n",
            "Requirement already satisfied: ptyprocess>=0.5 in /usr/local/lib/python3.8/dist-packages (from pexpect>4.3->ipython>=7.20.0->summarytools) (0.7.0)\n",
            "Requirement already satisfied: wcwidth in /usr/local/lib/python3.8/dist-packages (from prompt-toolkit<3.1.0,>=3.0.30->ipython>=7.20.0->summarytools) (0.2.6)\n",
            "Collecting pure-eval\n",
            "  Downloading pure_eval-0.2.2-py3-none-any.whl (11 kB)\n",
            "Collecting executing>=1.2.0\n",
            "  Downloading executing-1.2.0-py2.py3-none-any.whl (24 kB)\n",
            "Collecting asttokens>=2.1.0\n",
            "  Downloading asttokens-2.2.1-py2.py3-none-any.whl (26 kB)\n",
            "Building wheels for collected packages: summarytools\n",
            "  Building wheel for summarytools (pyproject.toml) ... \u001b[?25l\u001b[?25hdone\n",
            "  Created wheel for summarytools: filename=summarytools-0.2.3-py3-none-any.whl size=8597 sha256=05364159f070ecf7b07eae9dca703eedd388c6cd13d0f6058697fed7dc34a007\n",
            "  Stored in directory: /root/.cache/pip/wheels/ca/bb/57/3cb5f446df605f08cfd3f06d3b296d8a2fc7a4868033d4561f\n",
            "Successfully built summarytools\n",
            "Installing collected packages: python_crfsuite, pure-eval, executing, unidecode, sklearn_crfsuite, prompt-toolkit, matplotlib-inline, jedi, fonttools, contourpy, asttokens, stack-data, pandas, matplotlib, ipython, summarytools\n",
            "  Attempting uninstall: prompt-toolkit\n",
            "    Found existing installation: prompt-toolkit 2.0.10\n",
            "    Uninstalling prompt-toolkit-2.0.10:\n",
            "      Successfully uninstalled prompt-toolkit-2.0.10\n",
            "  Attempting uninstall: pandas\n",
            "    Found existing installation: pandas 1.3.5\n",
            "    Uninstalling pandas-1.3.5:\n",
            "      Successfully uninstalled pandas-1.3.5\n",
            "  Attempting uninstall: matplotlib\n",
            "    Found existing installation: matplotlib 3.2.2\n",
            "    Uninstalling matplotlib-3.2.2:\n",
            "      Successfully uninstalled matplotlib-3.2.2\n",
            "  Attempting uninstall: ipython\n",
            "    Found existing installation: ipython 7.9.0\n",
            "    Uninstalling ipython-7.9.0:\n",
            "      Successfully uninstalled ipython-7.9.0\n",
            "\u001b[31mERROR: pip's dependency resolver does not currently take into account all the packages that are installed. This behaviour is the source of the following dependency conflicts.\n",
            "google-colab 1.0.0 requires ipython~=7.9.0, but you have ipython 8.10.0 which is incompatible.\u001b[0m\u001b[31m\n",
            "\u001b[0mSuccessfully installed asttokens-2.2.1 contourpy-1.0.7 executing-1.2.0 fonttools-4.38.0 ipython-8.10.0 jedi-0.18.2 matplotlib-3.7.0 matplotlib-inline-0.1.6 pandas-1.5.3 prompt-toolkit-3.0.37 pure-eval-0.2.2 python_crfsuite-0.9.9 sklearn_crfsuite-0.3.6 stack-data-0.6.2 summarytools-0.2.3 unidecode-1.3.6\n"
          ]
        }
      ],
      "source": [
        "# Install python packages dependencies\n",
        "!pip3 install pandas python_crfsuite summarytools sklearn_crfsuite unidecode\n",
        "!pip3 install iteration_utilities matplotlib"
      ]
    },
    {
      "cell_type": "code",
      "execution_count": 3,
      "metadata": {
        "colab": {
          "base_uri": "https://localhost:8080/"
        },
        "id": "_BnXAElK-9KU",
        "outputId": "dec1b3a8-7951-4df6-fd85-ce95a0e03f99"
      },
      "outputs": [
        {
          "name": "stdout",
          "output_type": "stream",
          "text": [
            "Cloning into 'masakhane-ner'...\n",
            "remote: Enumerating objects: 3923, done.\u001b[K\n",
            "remote: Counting objects: 100% (189/189), done.\u001b[K\n",
            "remote: Compressing objects: 100% (138/138), done.\u001b[K\n",
            "remote: Total 3923 (delta 78), reused 103 (delta 50), pack-reused 3734\u001b[K\n",
            "Receiving objects: 100% (3923/3923), 54.21 MiB | 20.28 MiB/s, done.\n",
            "Resolving deltas: 100% (1666/1666), done.\n",
            "Updating files: 100% (2133/2133), done.\n"
          ]
        }
      ],
      "source": [
        "# Download Masakhane dataset from Github\n",
        "!git clone https://github.com/masakhane-io/masakhane-ner.git"
      ]
    },
    {
      "cell_type": "code",
      "execution_count": 1,
      "metadata": {
        "id": "OW5yryND-Oq1",
        "tags": []
      },
      "outputs": [],
      "source": [
        "# loading default libraries\n",
        "from pathlib import Path\n",
        "import pandas as pd\n",
        "from auglib import read_format_iob_data"
      ]
    },
    {
      "cell_type": "code",
      "execution_count": 7,
      "metadata": {
        "id": "fQbKTIOV-Oq2",
        "tags": []
      },
      "outputs": [],
      "source": [
        "# Reading folder path\n",
        "# Context Masahkane community\n",
        "# Ramshaw and Marcus (1995) = IOB data format\n",
        "\n",
        "\n",
        "bbj_ner_path = Path('../data_source/masakhane-ner/MasakhaNER2.0/data/bbj')\n",
        "dev_data_path   = bbj_ner_path / 'dev.txt'\n",
        "train_data_path = bbj_ner_path / 'train.txt'\n"
      ]
    },
    {
      "cell_type": "code",
      "execution_count": 8,
      "metadata": {},
      "outputs": [
        {
          "name": "stdout",
          "output_type": "stream",
          "text": [
            "Total number of sentences in the train dataset: 3,384\n",
            "Total words in the train dataset: 50,623\n",
            "Total number of sentences in the test dataset: 966\n",
            "Total words in the test dataset: 15,924\n",
            "Total number of sentences in the dev dataset: 483\n",
            "Total words in the dev dataset: 7,745\n"
          ]
        }
      ],
      "source": [
        "# read and extract iob data\n",
        "extracted_train_data, pd_train_data, only_train_ner_data, o_train_ner_data = read_format_iob_data(train_data_path)\n",
        "extracted_dev_data, pd_dev_data, only_dev_ner_data, o_dev_ner_data = read_format_iob_data(dev_data_path)\n",
        "\n",
        "# some stats \n",
        "print(\"Total number of sentences in the train dataset: {:,}\".format(pd_train_data[\"sentence_id\"].nunique()))\n",
        "print(\"Total words in the train dataset: {:,}\".format(pd_train_data.shape[0]))\n",
        "print(\"Total number of sentences in the dev dataset: {:,}\".format(pd_dev_data[\"sentence_id\"].nunique()))\n",
        "print(\"Total words in the dev dataset: {:,}\".format(pd_dev_data.shape[0]))"
      ]
    },
    {
      "attachments": {},
      "cell_type": "markdown",
      "metadata": {},
      "source": [
        "\n",
        "#### Quelques observations liminaires\n",
        "\n",
        "- A la lecture des données d'entrainement, il semble nécéssaire de les normaliser en appliquant quelques corrections\n",
        "  - ajout de point à la fin des phrases qui n'en ont pas \n",
        "  - considérer les tirets comme partie de \"I-LOC\" ?\n",
        "  - ŋkaʼ (6) est à la fois O et B-DATE+chiffre (37)\n",
        "  - non standardisation de l'orthographe: \n",
        "      Afrika I-ORG  / Afríkà B-LOC / Afrikǎ I-LOC / Afrika B-LOC / Afrika I-ORG\n",
        "      / afika B-LOC / Afríka B-LOC / Africa I-ORG / Afrika O / Afríkâ B-LOC\n",
        "\n",
        "      Nəmo B-ORG / NƏMO O / Nə̀mò B-ORG\n",
        "\n",
        "- Les données d'entraiement sont assez limitées et disproportionnées entre les tags. \n",
        "\n",
        "- Il semble utile de construire une stratégie d'augmentation sur les entités existantes\n",
        "  - explorer les stratégies existantes \n",
        "  - développer de nouvelles stratégies\n",
        "  \n",
        "\n",
        "---------------------------------------------------------------"
      ]
    },
    {
      "attachments": {},
      "cell_type": "markdown",
      "metadata": {},
      "source": [
        "### 1.2. Augment training data from Masakhane folder\n",
        "\n",
        "Data augmentation is used here because our previous experimentations without it don't give use us unexpected results. Many papers in the litterature show that data augmentation can improve model performance in many tasks. \n",
        "\n",
        "We developped a new simple rule-based data augmentation build on top of entity position on each training sentence. \n",
        "\n",
        "Why position it is important here ? Just because many syntactic structures of african language are positionals. We can then capitalize on this positionality to augment sentences based on labelled word position in the sentence. In the same way, we can conclude that NER word are also positional and we can interchange its occurences with others NER word in all training sentences.\n",
        "\n",
        "cf. check the file `auglib.py` python file for implementations and examples."
      ]
    },
    {
      "cell_type": "code",
      "execution_count": 9,
      "metadata": {
        "id": "4GFibxHR-Oq3"
      },
      "outputs": [],
      "source": [
        "# load augmentation library\n",
        "import joblib\n",
        "from datetime import datetime\n",
        "from auglib import augment_ner_iob_data, list_to_pd_format\n"
      ]
    },
    {
      "cell_type": "code",
      "execution_count": 10,
      "metadata": {
        "colab": {
          "base_uri": "https://localhost:8080/"
        },
        "id": "Poc9dwkp-Oq5",
        "outputId": "69484def-9051-49d1-a53d-9d115c91d6c8",
        "tags": []
      },
      "outputs": [
        {
          "name": "stdout",
          "output_type": "stream",
          "text": [
            "lenght Train data: 1771 \n",
            " lenght Augmented data: 1219850\n"
          ]
        }
      ],
      "source": [
        "# augment training data \n",
        "augmented_train_ner_data = augment_ner_iob_data(only_train_ner_data)\n",
        "\n",
        "# print(f'lenght Train data: {len(only_train_ner_data)} \\n lenght Augmented data: {len(augmented_train_ner_data)}')"
      ]
    },
    {
      "cell_type": "code",
      "execution_count": 11,
      "metadata": {
        "colab": {
          "base_uri": "https://localhost:8080/",
          "height": 424
        },
        "id": "7R14kz-D-Oq5",
        "outputId": "88d393a4-4a60-4bb4-d969-aa4863172293",
        "tags": []
      },
      "outputs": [
        {
          "data": {
            "text/html": [
              "<div>\n",
              "<style scoped>\n",
              "    .dataframe tbody tr th:only-of-type {\n",
              "        vertical-align: middle;\n",
              "    }\n",
              "\n",
              "    .dataframe tbody tr th {\n",
              "        vertical-align: top;\n",
              "    }\n",
              "\n",
              "    .dataframe thead th {\n",
              "        text-align: right;\n",
              "    }\n",
              "</style>\n",
              "<table border=\"1\" class=\"dataframe\">\n",
              "  <thead>\n",
              "    <tr style=\"text-align: right;\">\n",
              "      <th></th>\n",
              "      <th>sentence_id</th>\n",
              "      <th>word</th>\n",
              "      <th>iob_tag</th>\n",
              "    </tr>\n",
              "  </thead>\n",
              "  <tbody>\n",
              "    <tr>\n",
              "      <th>0</th>\n",
              "      <td>1</td>\n",
              "      <td>A</td>\n",
              "      <td>O</td>\n",
              "    </tr>\n",
              "    <tr>\n",
              "      <th>1</th>\n",
              "      <td>1</td>\n",
              "      <td>shə́ŋ</td>\n",
              "      <td>O</td>\n",
              "    </tr>\n",
              "    <tr>\n",
              "      <th>2</th>\n",
              "      <td>1</td>\n",
              "      <td>gaə́</td>\n",
              "      <td>O</td>\n",
              "    </tr>\n",
              "    <tr>\n",
              "      <th>3</th>\n",
              "      <td>1</td>\n",
              "      <td>DG</td>\n",
              "      <td>O</td>\n",
              "    </tr>\n",
              "    <tr>\n",
              "      <th>4</th>\n",
              "      <td>1</td>\n",
              "      <td>Cameroon</td>\n",
              "      <td>B-ORG</td>\n",
              "    </tr>\n",
              "    <tr>\n",
              "      <th>...</th>\n",
              "      <td>...</td>\n",
              "      <td>...</td>\n",
              "      <td>...</td>\n",
              "    </tr>\n",
              "    <tr>\n",
              "      <th>20391456</th>\n",
              "      <td>1906795</td>\n",
              "      <td>pú</td>\n",
              "      <td>O</td>\n",
              "    </tr>\n",
              "    <tr>\n",
              "      <th>20391457</th>\n",
              "      <td>1906795</td>\n",
              "      <td>pútə́</td>\n",
              "      <td>O</td>\n",
              "    </tr>\n",
              "    <tr>\n",
              "      <th>20391458</th>\n",
              "      <td>1906795</td>\n",
              "      <td>é</td>\n",
              "      <td>O</td>\n",
              "    </tr>\n",
              "    <tr>\n",
              "      <th>20391459</th>\n",
              "      <td>1906795</td>\n",
              "      <td>lə</td>\n",
              "      <td>O</td>\n",
              "    </tr>\n",
              "    <tr>\n",
              "      <th>20391460</th>\n",
              "      <td>1906795</td>\n",
              "      <td>.</td>\n",
              "      <td>O</td>\n",
              "    </tr>\n",
              "  </tbody>\n",
              "</table>\n",
              "<p>20391461 rows × 3 columns</p>\n",
              "</div>"
            ],
            "text/plain": [
              "          sentence_id      word iob_tag\n",
              "0                   1         A       O\n",
              "1                   1     shə́ŋ       O\n",
              "2                   1      gaə́       O\n",
              "3                   1        DG       O\n",
              "4                   1  Cameroon   B-ORG\n",
              "...               ...       ...     ...\n",
              "20391456      1906795       pú       O\n",
              "20391457      1906795    pútə́       O\n",
              "20391458      1906795        é       O\n",
              "20391459      1906795        lə       O\n",
              "20391460      1906795         .       O\n",
              "\n",
              "[20391461 rows x 3 columns]"
            ]
          },
          "execution_count": 11,
          "metadata": {},
          "output_type": "execute_result"
        }
      ],
      "source": [
        "# Transform augmented training data to dataframe\n",
        "pd_augment_ner_iob_data = list_to_pd_format(augmented_train_ner_data)\n",
        "pd_augment_ner_iob_data"
      ]
    },
    {
      "cell_type": "code",
      "execution_count": null,
      "metadata": {},
      "outputs": [],
      "source": [
        "# saving augmented data\n",
        "project = \"sangkak-02-2023-aug\"\n",
        "build_date = str(datetime.now()).replace(' ','_')\n",
        "\n",
        "joblib.dump({\n",
        "    \"train_augmented\": augmented_train_ner_data, \n",
        "    \"pd_train_augmented\": pd_augment_ner_iob_data\n",
        "}, f'preprocessing/sangkak_train_data_augmented_{build_date}.joblib')\n"
      ]
    },
    {
      "attachments": {},
      "cell_type": "markdown",
      "metadata": {
        "id": "3GA08TfI-Oq5"
      },
      "source": [
        "### 1.3. Analyzing data "
      ]
    },
    {
      "cell_type": "code",
      "execution_count": 12,
      "metadata": {
        "id": "RdZGj3Qy-Oq6",
        "tags": []
      },
      "outputs": [],
      "source": [
        "# load dependents python packages\n",
        "from matplotlib import pyplot as plt\n",
        "import numpy as np"
      ]
    },
    {
      "cell_type": "code",
      "execution_count": 13,
      "metadata": {
        "id": "JL9ZTplb-Oq6",
        "tags": []
      },
      "outputs": [
        {
          "name": "stderr",
          "output_type": "stream",
          "text": [
            "/tmp/ipykernel_44881/2607832914.py:6: FutureWarning: this method is deprecated in favour of `Styler.to_html()`\n",
            "  \"train_data\": dfSummary(pd_train_data).render(),\n",
            "/tmp/ipykernel_44881/2607832914.py:7: FutureWarning: this method is deprecated in favour of `Styler.to_html()`\n",
            "  \"augmented_train_data\": dfSummary(pd_augment_ner_iob_data).render(),\n",
            "/tmp/ipykernel_44881/2607832914.py:8: FutureWarning: this method is deprecated in favour of `Styler.to_html()`\n",
            "  \"test_data\": dfSummary(pd_test_data).render(),\n",
            "/tmp/ipykernel_44881/2607832914.py:9: FutureWarning: this method is deprecated in favour of `Styler.to_html()`\n",
            "  \"dev_data\": dfSummary(pd_dev_data).render()\n"
          ]
        },
        {
          "data": {
            "text/html": [
              "<div class=\"tab\">\n",
              "<button id = \"defaultOpen-9341\" onclick = \"OpenTab_9341(event, 'train_data-9341')\" class=\"tablinks-9341\">train_data</button>\n",
              "<button onclick = \"OpenTab_9341(event, 'augmented_train_data-9341')\" class=\"tablinks-9341\">augmented_train_data</button>\n",
              "<button onclick = \"OpenTab_9341(event, 'test_data-9341')\" class=\"tablinks-9341\">test_data</button>\n",
              "<button onclick = \"OpenTab_9341(event, 'dev_data-9341')\" class=\"tablinks-9341\">dev_data</button>\n",
              "</div><div id = \"train_data-9341\" class=\"tabcontent-9341\">\n",
              "<style type=\"text/css\">\n",
              "#T_12cc6 thead>tr>th {\n",
              "  text-align: left;\n",
              "}\n",
              "#T_12cc6_row0_col0, #T_12cc6_row1_col0, #T_12cc6_row2_col0 {\n",
              "  text-align: left;\n",
              "  font-size: 12px;\n",
              "  vertical-align: middle;\n",
              "  width: 5%;\n",
              "  max-width: 50px;\n",
              "  min-width: 20px;\n",
              "}\n",
              "#T_12cc6_row0_col1, #T_12cc6_row1_col1, #T_12cc6_row2_col1 {\n",
              "  text-align: left;\n",
              "  font-size: 12px;\n",
              "  vertical-align: middle;\n",
              "  width: 15%;\n",
              "  max-width: 200px;\n",
              "  min-width: 100px;\n",
              "  word-break: break-word;\n",
              "}\n",
              "#T_12cc6_row0_col2, #T_12cc6_row1_col2, #T_12cc6_row2_col2 {\n",
              "  text-align: left;\n",
              "  font-size: 12px;\n",
              "  vertical-align: middle;\n",
              "  width: 30%;\n",
              "  min-width: 100px;\n",
              "}\n",
              "#T_12cc6_row0_col3, #T_12cc6_row1_col3, #T_12cc6_row2_col3 {\n",
              "  text-align: left;\n",
              "  font-size: 12px;\n",
              "  vertical-align: middle;\n",
              "  width: 25%;\n",
              "  min-width: 100px;\n",
              "}\n",
              "#T_12cc6_row0_col4, #T_12cc6_row1_col4, #T_12cc6_row2_col4 {\n",
              "  text-align: left;\n",
              "  font-size: 12px;\n",
              "  vertical-align: middle;\n",
              "  width: 20%;\n",
              "  min-width: 150px;\n",
              "}\n",
              "#T_12cc6_row0_col5, #T_12cc6_row1_col5, #T_12cc6_row2_col5 {\n",
              "  text-align: left;\n",
              "  font-size: 12px;\n",
              "  vertical-align: middle;\n",
              "  width: 10%;\n",
              "}\n",
              "</style>\n",
              "<table id=\"T_12cc6\">\n",
              "  <caption><strong>Data Frame Summary</strong><br>pd_train_data<br>Dimensions: 50,623 x 3<br>Duplicates: 3,805</caption>\n",
              "  <thead>\n",
              "    <tr>\n",
              "      <th id=\"T_12cc6_level0_col0\" class=\"col_heading level0 col0\" >No</th>\n",
              "      <th id=\"T_12cc6_level0_col1\" class=\"col_heading level0 col1\" >Variable</th>\n",
              "      <th id=\"T_12cc6_level0_col2\" class=\"col_heading level0 col2\" >Stats / Values</th>\n",
              "      <th id=\"T_12cc6_level0_col3\" class=\"col_heading level0 col3\" >Freqs / (% of Valid)</th>\n",
              "      <th id=\"T_12cc6_level0_col4\" class=\"col_heading level0 col4\" >Graph</th>\n",
              "      <th id=\"T_12cc6_level0_col5\" class=\"col_heading level0 col5\" >Missing</th>\n",
              "    </tr>\n",
              "  </thead>\n",
              "  <tbody>\n",
              "    <tr>\n",
              "      <td id=\"T_12cc6_row0_col0\" class=\"data row0 col0\" >1</td>\n",
              "      <td id=\"T_12cc6_row0_col1\" class=\"data row0 col1\" ><strong>sentence_id</strong><br>[int64]</td>\n",
              "      <td id=\"T_12cc6_row0_col2\" class=\"data row0 col2\" >Mean (sd) : 1723.3 (1003.2)<br>min < med < max:<br>1.0 < 1745.0 < 3384.0<br>IQR (CV) : 1804.0 (1.7)</td>\n",
              "      <td id=\"T_12cc6_row0_col3\" class=\"data row0 col3\" >3,384 distinct values</td>\n",
              "      <td id=\"T_12cc6_row0_col4\" class=\"data row0 col4\" ><img src = \"data:image/png;base64, iVBORw0KGgoAAAANSUhEUgAAAKoAAABGCAYAAABc8A97AAAAOXRFWHRTb2Z0d2FyZQBNYXRwbG90bGliIHZlcnNpb24zLjYuMywgaHR0cHM6Ly9tYXRwbG90bGliLm9yZy/P9b71AAAACXBIWXMAAA9hAAAPYQGoP6dpAAACv0lEQVR4nO3dv27aUBiG8e9AACdBRigt2bJ0rNSBkYvoxfYSgsQVMHTplA0JIRBuEI6hQ0VVqeKPz7GLX+f5regklvPo+HyAFLff7w2ousa1LwC4xM21LwD14Zy7NbO25/Ltfr9/PfYioaIQzrnbh4eHr3Ec933Wr1arhXPu27FYCRVFacdx3B+NRq+9Xm+TZ+FyuYwmk0l/Pp+3zYxQUb5er7cZDAY/PZbennqRYQoSCBUSSn30B06BZmcmQbwfpYUaOgWanZ8E8X6UuaN6T4Fml02CKFbgEzDe7XatIq/nb6VP/QFToGVZFptZ7JzzWc6xIYfQJ2CaplGWZZ83m82zmXn9vU+p7NtTSZK00jT98vT01Gw2m7l3ZI4NuQU9AV9eXvrT6fTu7e2tWcbFVTbU7XZ7E0XR3XA43Dw+Pi7yrFU+Nlx7APV9Ai4Wi5Pvg4Y6G2rAjSvkzHJ/f1/KG8hVxAB63MlQQ25c2WeWmgoeQMfj8WA+n39wzq1yLi91GAp1bkf1vnFln1nqzPfxG3Kur/rGctEZ1efGlX1mwb9CzvVV31gqO0wpUzzXV31jIdSCca4vR21DzbKsZf4fFpj9/sLOzmNd3O12B6PRaMW5vji1DDX0w4Isy1pJknzqdrs/Go1GmmftYVfsdDrPdXv8XlMtQw0ZKsz+7Gwfh8Ph97oNJapqGeqB74cFh52tjkOJKr44DQmECgmECgmECgmECgmECgmECgmECgmECgmECgmECgmECgmECgmECgmECgmECgmECgmECgmECgmECgmECgmECgmECgmECgmECgmECgmECgmECgmECgmECgmECgmECgmECgmECgmECgmECgmECgmECgmECgmECgmECgmECgmECgmECgmECgkX/Xfp5XIZ5f3B6/U6MjNLkiSazWZ3/3O96u9Wve7Q9Zf09QtexpTk23HM8wAAAABJRU5ErkJggg==\"></img></td>\n",
              "      <td id=\"T_12cc6_row0_col5\" class=\"data row0 col5\" >0<br>(0.0%)</td>\n",
              "    </tr>\n",
              "    <tr>\n",
              "      <td id=\"T_12cc6_row1_col0\" class=\"data row1 col0\" >2</td>\n",
              "      <td id=\"T_12cc6_row1_col1\" class=\"data row1 col1\" ><strong>word</strong><br>[object]</td>\n",
              "      <td id=\"T_12cc6_row1_col2\" class=\"data row1 col2\" >1. .<br>2. nə́<br>3. pú<br>4. bə́<br>5. lə<br>6. á<br>7. nə̂<br>8. yə<br>9. gaə́<br>10. bə<br>11. other</td>\n",
              "      <td id=\"T_12cc6_row1_col3\" class=\"data row1 col3\" >5,220 (10.3%)<br>1,296 (2.6%)<br>819 (1.6%)<br>719 (1.4%)<br>684 (1.4%)<br>633 (1.3%)<br>601 (1.2%)<br>539 (1.1%)<br>497 (1.0%)<br>484 (1.0%)<br>39,131 (77.3%)</td>\n",
              "      <td id=\"T_12cc6_row1_col4\" class=\"data row1 col4\" ><img src = \"data:image/png;base64, iVBORw0KGgoAAAANSUhEUgAAAJsAAAD+CAYAAAAtWHdlAAAAOXRFWHRTb2Z0d2FyZQBNYXRwbG90bGliIHZlcnNpb24zLjYuMywgaHR0cHM6Ly9tYXRwbG90bGliLm9yZy/P9b71AAAACXBIWXMAAA9hAAAPYQGoP6dpAAAERElEQVR4nO3dQWobZwCG4d9CpNFmhDD4GDmADpHD9hA6gO9hjGcRudm4i9ghbtKWOJ5XRnmenRcSA3kZoeH/oouHh4cBhdWpL4Dfh9jIiI2M2MiIjYzYyIiNjNjIiI3MxRhjM8Z49wvv8fnh4eH4StfDGVtfXl5+nKZp99I3mOf59uLi4k/B8X/W0zTt9vv9cbvd3v/si+/u7t4fDofdzc3NuzGG2PhP6zHG2G6391dXV59e+B6bV7wezpgvCGTERkZsZMRGRmxkxEZGbGTERkZsZMRGRmxkxEZGbGTERmY9xpdzaS958Utfx+9pPc/z7eFw2I0Xnkub5/l2jPH5dS+Lc2SDQObCf5lF5Ud3NncqFvHduspaiqU8W1dZS7GkH62rrKVYhIe6ZMRGRmxkxEZGbGTERkZsZMRGRmxkxEZGbGTERkZsZJ4NXgxYWNJ3gxcDFpbiWDgZgxcy/7yzuauxmGeDF2MXlrR6Grzs9/vjY3S/MliGf/V18PL4t7ELi/FQl4zYyIiNjNjIiI2M2MiIjYzYyIiNjNjIiI2M2MiIjcwv/cIL/IxvBy/GLizKsXAyBi9kfEEg8+3HqI9QFvV1XWVZxdJW0zTtPnz4MCyrWNpqjDE2m81fp74Qzp8vCGTERkZsZMRGRmxkxEZGbGTERkZsZMRGRmxkxEZGbGRWY4xxPB7/OPWFcP5W8zzfXl9fW1axOMfCyVhXkXFnI2PwQsbghYzBCxkPdcmIjYzYyIiNjNjIiI2M2MiIjYzYyIiNjNjIiI2M2MgYvJAxeCHjWDgZgxcy7mxkDF7IGLyQMXgh46EuGbGRERsZsZERGxmxkREbGbGRERsZsZERGxmxkREbGbGRsa4iY11FxgaBjHUVGXc2MtZVZKyryFhXkfFQl4zYyIiNjNjIiI2M2MiIjYzYyIiNjNjIiI2M2MiIjYzBCxmDFzKOhZMxeCHjzkbG4IWMwQsZgxcyHuqSERsZsZERGxmxkREbGbGRERsZsZERGxmxkREbGbGRMXghY/BCxrFwMgYvZHxBIONjlIx1FRnrKjLWVWR8QSAjNjJiIyM2MmIjIzYyYiMjNjJiIyM2MmIjIzYyYiNjXUXGuoqMY+FkrKvIPN3ZhrsaS1tfXl5+HGMMYxeWtpqmaWfsQsFzNjJiIyM2MmIjIzYyYiMjNjJiIyM2MmIjIzYyYiMjNjJiIyM2MuvHocsYxi4szLFwMgYvZL6d8nGe3sxE8+svvJz6QljGW/rlnvU0Tbv9fn/cbrf3p74YXtfd3d37w+Gwu7m5eTfGOH1sY4yx3W7vr66uPp36YljE5tQX8MRzNjJiIyM2MmIjIzYyYiMjNjJiIyM2MmIjIzYyYiMjNjLrMb4cRTn1hfD63tq/63qe59vD4bAbb+goCq/nLf1yj2Ph5+/NHAs3eCHjCwIZsZERGxmxkREbGbGRERsZsZERG5m/AVY1x/TcNEQSAAAAAElFTkSuQmCC\"></img></td>\n",
              "      <td id=\"T_12cc6_row1_col5\" class=\"data row1 col5\" >0<br>(0.0%)</td>\n",
              "    </tr>\n",
              "    <tr>\n",
              "      <td id=\"T_12cc6_row2_col0\" class=\"data row2 col0\" >3</td>\n",
              "      <td id=\"T_12cc6_row2_col1\" class=\"data row2 col1\" ><strong>iob_tag</strong><br>[object]</td>\n",
              "      <td id=\"T_12cc6_row2_col2\" class=\"data row2 col2\" >1. O<br>2. I-DATE<br>3. B-LOC<br>4. B-PER<br>5. I-PER<br>6. B-DATE<br>7. B-ORG<br>8. I-ORG<br>9. I-LOC</td>\n",
              "      <td id=\"T_12cc6_row2_col3\" class=\"data row2 col3\" >45,315 (89.5%)<br>1,122 (2.2%)<br>772 (1.5%)<br>741 (1.5%)<br>731 (1.4%)<br>598 (1.2%)<br>581 (1.1%)<br>573 (1.1%)<br>190 (0.4%)</td>\n",
              "      <td id=\"T_12cc6_row2_col4\" class=\"data row2 col4\" ><img src = \"data:image/png;base64, iVBORw0KGgoAAAANSUhEUgAAAJsAAADPCAYAAADifqNtAAAAOXRFWHRTb2Z0d2FyZQBNYXRwbG90bGliIHZlcnNpb24zLjYuMywgaHR0cHM6Ly9tYXRwbG90bGliLm9yZy/P9b71AAAACXBIWXMAAA9hAAAPYQGoP6dpAAADU0lEQVR4nO3cMW4aaQCG4R+EkqUZhJB8DB+AQ+SwOQQH8D0sy1Ms2TSkWCdKUlhaY1522efpXCBN8WpgRv/nxel0GlBYXvsC+P8QGxmxkREbGbGRERsZsZFZjDHWY4wP174Q/hO+nk6n41s/vNrtdp+madq+5xVxm+Z5flosFp/fGtxqmqbtfr8/bjabL+99cdyO5+fnPw6Hw/bx8fHDGONtsY0xxmaz+XJ3d/fnu14dt2h9zoc9IJARGxmxkREbGbGRERsZsZERGxmxkREbGbGRERsZsZFZjfH38ZFrXwj/bu/RyGqe56fD4bAdZx4f4fbN8/w0xvj61s87Fs4/cdax8IX/9UHl9zvbWeXCa34ZvJw7aIDXLL8PXvb7/fElOr/fuIgfg5eXvz2RcjFe6pIRGxmxkREbGbGRERsZsZERGxmxkREbGbGRERsZsZExeCHz8+Dl7EEDvMaxcDIGL2Q8IJD5+WvUVygX9WNdZVnFpS2nadre398PyyoubTnGGOv1+q9rXwi3zwMCGbGRERsZsZERGxmxkREbGbGRERsZsZERGxmxkREbmeUYYxyPx4/XvhBu33Ke56eHhwfLKi7OsXAy1lVk3NnIGLyQMXghY/BCxktdMmIjIzYyYiMjNjJiIyM2MmIjIzYyYiMjNjJiIyM2MgYvZAxeyDgWTsbghYw7GxmDFzIGL2QMXsh4qUtGbGTERkZsZMRGRmxkxEZGbGTERkZsZMRGRmxkxEZGbGSsq8hYV5GxQSBjXUXGnY2MdRUZ6yoy1lVkvNQlIzYyYiMjNjJiIyM2MmIjIzYyYiMjNjJiIyM2MmIjY/BCxuCFjGPhZAxeyLizkTF4IWPwQsbghYyXumTERkZsZMRGRmxkxEZGbGTERkZsZMRGRmxkxEZGbGTERsa6iox1FRkbBDLWVWTc2chYV5GxriJjXUXGS10yYiMjNjJiIyM2MmIjIzYyYiMjNjJiIyM2MmIjIzYyBi9kDF7IOBZOxuCFzPc723BX49JWu93u0xhjGLtwactpmrbGLhS8ZyMjNjJiIyM2MmIjIzYyYiMjNjJiIyM2MmIjIzYyYiMjNjJiIyM2MquXVdUYllVcmA0CGesqMn6zkREbGbGRERsZsZERG5lvtRhdFJTxv/kAAAAASUVORK5CYII=\"></img></td>\n",
              "      <td id=\"T_12cc6_row2_col5\" class=\"data row2 col5\" >0<br>(0.0%)</td>\n",
              "    </tr>\n",
              "  </tbody>\n",
              "</table>\n",
              "\n",
              "</div>\n",
              "<div id = \"augmented_train_data-9341\" class=\"tabcontent-9341\">\n",
              "<style type=\"text/css\">\n",
              "#T_16caa thead>tr>th {\n",
              "  text-align: left;\n",
              "}\n",
              "#T_16caa_row0_col0, #T_16caa_row1_col0, #T_16caa_row2_col0 {\n",
              "  text-align: left;\n",
              "  font-size: 12px;\n",
              "  vertical-align: middle;\n",
              "  width: 5%;\n",
              "  max-width: 50px;\n",
              "  min-width: 20px;\n",
              "}\n",
              "#T_16caa_row0_col1, #T_16caa_row1_col1, #T_16caa_row2_col1 {\n",
              "  text-align: left;\n",
              "  font-size: 12px;\n",
              "  vertical-align: middle;\n",
              "  width: 15%;\n",
              "  max-width: 200px;\n",
              "  min-width: 100px;\n",
              "  word-break: break-word;\n",
              "}\n",
              "#T_16caa_row0_col2, #T_16caa_row1_col2, #T_16caa_row2_col2 {\n",
              "  text-align: left;\n",
              "  font-size: 12px;\n",
              "  vertical-align: middle;\n",
              "  width: 30%;\n",
              "  min-width: 100px;\n",
              "}\n",
              "#T_16caa_row0_col3, #T_16caa_row1_col3, #T_16caa_row2_col3 {\n",
              "  text-align: left;\n",
              "  font-size: 12px;\n",
              "  vertical-align: middle;\n",
              "  width: 25%;\n",
              "  min-width: 100px;\n",
              "}\n",
              "#T_16caa_row0_col4, #T_16caa_row1_col4, #T_16caa_row2_col4 {\n",
              "  text-align: left;\n",
              "  font-size: 12px;\n",
              "  vertical-align: middle;\n",
              "  width: 20%;\n",
              "  min-width: 150px;\n",
              "}\n",
              "#T_16caa_row0_col5, #T_16caa_row1_col5, #T_16caa_row2_col5 {\n",
              "  text-align: left;\n",
              "  font-size: 12px;\n",
              "  vertical-align: middle;\n",
              "  width: 10%;\n",
              "}\n",
              "</style>\n",
              "<table id=\"T_16caa\">\n",
              "  <caption><strong>Data Frame Summary</strong><br>_<br>Dimensions: 20,391,461 x 3<br>Duplicates: 746,721</caption>\n",
              "  <thead>\n",
              "    <tr>\n",
              "      <th id=\"T_16caa_level0_col0\" class=\"col_heading level0 col0\" >No</th>\n",
              "      <th id=\"T_16caa_level0_col1\" class=\"col_heading level0 col1\" >Variable</th>\n",
              "      <th id=\"T_16caa_level0_col2\" class=\"col_heading level0 col2\" >Stats / Values</th>\n",
              "      <th id=\"T_16caa_level0_col3\" class=\"col_heading level0 col3\" >Freqs / (% of Valid)</th>\n",
              "      <th id=\"T_16caa_level0_col4\" class=\"col_heading level0 col4\" >Graph</th>\n",
              "      <th id=\"T_16caa_level0_col5\" class=\"col_heading level0 col5\" >Missing</th>\n",
              "    </tr>\n",
              "  </thead>\n",
              "  <tbody>\n",
              "    <tr>\n",
              "      <td id=\"T_16caa_row0_col0\" class=\"data row0 col0\" >1</td>\n",
              "      <td id=\"T_16caa_row0_col1\" class=\"data row0 col1\" ><strong>sentence_id</strong><br>[int64]</td>\n",
              "      <td id=\"T_16caa_row0_col2\" class=\"data row0 col2\" >Mean (sd) : 937782.5 (521157.4)<br>min < med < max:<br>1.0 < 943363.0 < 1906795.0<br>IQR (CV) : 835994.0 (1.8)</td>\n",
              "      <td id=\"T_16caa_row0_col3\" class=\"data row0 col3\" >1,906,795 distinct values</td>\n",
              "      <td id=\"T_16caa_row0_col4\" class=\"data row0 col4\" ><img src = \"data:image/png;base64, iVBORw0KGgoAAAANSUhEUgAAAKoAAABGCAYAAABc8A97AAAAOXRFWHRTb2Z0d2FyZQBNYXRwbG90bGliIHZlcnNpb24zLjYuMywgaHR0cHM6Ly9tYXRwbG90bGliLm9yZy/P9b71AAAACXBIWXMAAA9hAAAPYQGoP6dpAAACsUlEQVR4nO3cv27aUBSA8XMhIPOnRogUNpaOlTowsvQN+rBduwUJXoChSycWhISMEW4QxrhLhw4kwdd2ucf5fvuJL9IXwuXaMWmaCuC62r0XANzi4d4LcJUxpiUiTcvxU5qmz0Wu570j1CuMMa3BYPDN9/2+zfx+vw+MMd+JtTiEel3T9/3+dDp97vV6xyyDYRh68/m8v91umyJCqAUh1Ff0er3jcDj8bTHaKnwx7xybKahAqFCBUKECoUIFQoUKhAoV+HqqBEmSNETEN8bYjHOqdQWhFiyKokYcx1/G43G9Xq9nOiwQ4VTrJYRasNPp9OB5XnsymRxHo1GQZZZTrZcRakk6nQ6nWgViMwUVeEd1TM6NmEhFN2OE6pC8GzGR6m7GCNUheTZiItXejBGqg3JsxEQquhl7M1QeyYALXg2VRzLgirfeUXkkA0646TMqj2Tg3thMVUxVb4gh1Aqp8g0xhFoheW+Imc1mw+12+2iM2dsuoazISw2V48D7sPke1vVTsdJCLeKF73a7gzHmh4jYzNdE5GJzXRHxL5dLw3JWJddPxUoLNe8LX6/XHxaLxdfxePyYNfQkSRpRFH3qdru/arVanPXacRx7SZJ8Ph6PTyJie0KkkqunYqV/RrV94UEQtGxDX61W/eVy+XEymfy0+SX5O98+n8/1rLMoh/ObKZvQgyBo2c7+Ow93cOM0VCBUqOD8n37oUeapGKGiEGWfihEqClH2Y+KEikKV9Zg4mymoQKhQgVChAqFCBUKFCoQKFQgVKhAqVCBUqECoUIFQoQKhQgVChQqEChUIFSoQKlQgVKhAqFCBUKECoUIFQoUKhAoVCBUqECpUIFSoQKhQgVChAqFCBUKFCoQKFW76t5NhGHpZf/DhcPBERKIo8jabTft/zmu9ttZ1552/pa8/ZC60qFl1RlQAAAAASUVORK5CYII=\"></img></td>\n",
              "      <td id=\"T_16caa_row0_col5\" class=\"data row0 col5\" >0<br>(0.0%)</td>\n",
              "    </tr>\n",
              "    <tr>\n",
              "      <td id=\"T_16caa_row1_col0\" class=\"data row1 col0\" >2</td>\n",
              "      <td id=\"T_16caa_row1_col1\" class=\"data row1 col1\" ><strong>word</strong><br>[object]</td>\n",
              "      <td id=\"T_16caa_row1_col2\" class=\"data row1 col2\" >1. .<br>2. nə́<br>3. pú<br>4. bə́<br>5. nə̂<br>6. lə<br>7. á<br>8. ,<br>9. yə<br>10. wə́<br>11. other</td>\n",
              "      <td id=\"T_16caa_row1_col3\" class=\"data row1 col3\" >1,906,795 (9.4%)<br>497,023 (2.4%)<br>305,397 (1.5%)<br>262,246 (1.3%)<br>252,820 (1.2%)<br>221,014 (1.1%)<br>220,355 (1.1%)<br>217,354 (1.1%)<br>213,128 (1.0%)<br>181,226 (0.9%)<br>16,114,103 (79.0%)</td>\n",
              "      <td id=\"T_16caa_row1_col4\" class=\"data row1 col4\" ><img src = \"data:image/png;base64, iVBORw0KGgoAAAANSUhEUgAAAJsAAAD+CAYAAAAtWHdlAAAAOXRFWHRTb2Z0d2FyZQBNYXRwbG90bGliIHZlcnNpb24zLjYuMywgaHR0cHM6Ly9tYXRwbG90bGliLm9yZy/P9b71AAAACXBIWXMAAA9hAAAPYQGoP6dpAAAEIUlEQVR4nO3dQUoceRyG4Z/SZOKmmkbwGDmAh8hh5xB9AO8hYi2ik42zSCYkJAsNU2+LeZ61DQW+lFTx/+yzp6engcL5qS+AP4fYyIiNjNjIiI2M2MiIjYzYyIiNzNnMXMzMu9/47Oenp6eH//l6eMN2l5eXH5dlObz0g+u63p2dnf0tOJ5rtyzL4fr6+mG/3z8+90P39/fvj8fj4fb29t3MiI1n2c3M7Pf7x6urq08v/OzFBtfDG+YBgYzYyIiNjNjIiI2M2MiIjYzYyIiNjNjIiI2M2MiIjYzYyOxmvpxPe8mHXvrzMDOzW9f17ng8HuaF59PWdb2bmc/bXBZvkQ0CmTP/MovKr+5s7lhs4qd1ldUUW/lhXWU1xZZ+ta6ymmITXuqSERsZsZERGxmxkREbGbGRERsZsZERGxmxkREbGbGR+WHwYsjCln4avBiysBXHwskYvJD5/s7mjsamvg1eDF3Y2vmyLIcPHz7M14XV74yV4VnOZ2YuLi7+OfWF8PZ5qUtGbGTERkZsZMRGRmxkxEZGbGTERkZsZMRGRmxkxEbmfGbm4eHhr1NfCG/f+bqudzc3N4YubM6xcDIGL2Q8IJDxZ5SMdRUZ6yoy1lVkPCCQERsZsZERGxmxkREbGbGRERsZsZERGxmxkREbGbGRsa4iY11FxrFwMtZVZNzZyBi8kDF4IWPwQsZLXTJiIyM2MmIjIzYyYiMjNjJiIyM2MmIjIzYyYiMjNjIGL2QMXsg4Fk7G4IWMOxsZgxcyBi9kDF7IeKlLRmxkxEZGbGTERkZsZMRGRmxkxEZGbGTERkZsZMRGRmxkrKvIWFeRsUEgY11Fxp2NjHUVGesqMtZVZLzUJSM2MmIjIzYyYiMjNjJiIyM2MmIjIzYyYiMjNjJiI2PwQsbghYxj4WQMXsi4s5ExeCFj8ELG4IWMl7pkxEZGbGTERkZsZMRGRmxkxEZGbGTERkZsZMRGRmxkDF7IGLyQcSycjMELGQ8IZPwZJWNdRca6iox1FRkPCGTERkZsZMRGRmxkxEZGbGTERkZsZMRGRmxkxEZGbGSsq8hYV5FxLJyMdRWZ/+5s467G1naXl5cfZ2aMXdja+bIsB2MXCt6zkREbGbGRERsZsZERGxmxkREbGbGRERsZsZERGxmxkREbGbGR2X0duswYu7Axx8LJGLyQ+X7Kx9t28qnmt294OeVFsL3X8A0+u2VZDtfX1w/7/f7xVBfBtu7v798fj8fD7e3tu5k5XWwzM/v9/vHq6urTqS6CxMWpL8B7NjJiIyM2MmIjIzYyYiMjNjJiIyM2MmIjIzYyYiMjNjK7mS9HUE59IWzntfx+d+u63h2Px8O8giMobOc1fIOPY+F/jpMfCzd4IeMBgYzYyIiNjNjIiI2M2MiIjYzYyIiNzL8X9MU45XQ6hQAAAABJRU5ErkJggg==\"></img></td>\n",
              "      <td id=\"T_16caa_row1_col5\" class=\"data row1 col5\" >0<br>(0.0%)</td>\n",
              "    </tr>\n",
              "    <tr>\n",
              "      <td id=\"T_16caa_row2_col0\" class=\"data row2 col0\" >3</td>\n",
              "      <td id=\"T_16caa_row2_col1\" class=\"data row2 col1\" ><strong>iob_tag</strong><br>[object]</td>\n",
              "      <td id=\"T_16caa_row2_col2\" class=\"data row2 col2\" >1. O<br>2. I-DATE<br>3. B-PER<br>4. B-LOC<br>5. I-PER<br>6. B-DATE<br>7. B-ORG<br>8. I-ORG<br>9. I-LOC</td>\n",
              "      <td id=\"T_16caa_row2_col3\" class=\"data row2 col3\" >15,617,521 (76.6%)<br>1,016,128 (5.0%)<br>686,186 (3.4%)<br>674,842 (3.3%)<br>669,232 (3.3%)<br>524,472 (2.6%)<br>481,994 (2.4%)<br>473,180 (2.3%)<br>247,906 (1.2%)</td>\n",
              "      <td id=\"T_16caa_row2_col4\" class=\"data row2 col4\" ><img src = \"data:image/png;base64, iVBORw0KGgoAAAANSUhEUgAAAJsAAADPCAYAAADifqNtAAAAOXRFWHRTb2Z0d2FyZQBNYXRwbG90bGliIHZlcnNpb24zLjYuMywgaHR0cHM6Ly9tYXRwbG90bGliLm9yZy/P9b71AAAACXBIWXMAAA9hAAAPYQGoP6dpAAADdElEQVR4nO3cUU4bVwCG0WuEaP1iy0JiGSyARXSxXYQXwD4QYh7iNC/uQ5MqESREjecbQ895j3SlfAya0f1ZHY/HAYWLpQ/A/4fYyIiNjNjIiI2M2MiIjcxqjLEeY1wtfRBm8el4PB6WPsQXl9fX139sNpvd0gfh9KZpelytVn+eS3CXm81md3d3d9hutx+XPgyn8/T09Pt+v989PDxcjTHOI7Yxxthutx9vbm4+LH0YTm699AG+5gWBjNjIiI2M2MiIjYzYyIiNjNjIiI2M2MiIjYzYyIiNzOUY/1xHWfognNY5/p9eTtP0uN/vd+PMrqPw66ZpehxjfFr6HF+4Fv6+ndW18JW/9UHlZ55sZ/XTwdv16uDl3EYTvF0/HLyc42iCt+tnBi/eUjkJH3XJiI2M2MiIjYzYyIiNjNjIiI2M2MiIjYzYyIiNjNjI/HDwco6jCd6uVwcv5zaa4O1yLZyMwQsZLwhkvvdr1K9OTu7FdZVFFXN4tq6yqGIu31tXWVRxcl4QyIiNjNjIiI2M2MiIjYzYyIiNjNjIiI2M2MiIjYzYyDxbV1lUMZcX11UWVczBtXAy1lVkPNnIGLyQMXghY/BCxkddMmIjIzYyYiMjNjJiIyM2MmIjIzYyYiMjNjJiIyM2MgYvZAxeyLgWTsbghYwnGxmDFzIGL2QMXsj4qEtGbGTERkZsZMRGRmxkxEZGbGTERkZsZMRGRmxkxEZGbGSsq8hYV5GxQSBjXUXmpSebpxqzeLausqxiLt+sqyyrmNNL6yrLKmbhoy4ZsZERGxmxkREbGbGRERsZsZERGxmxkREbGbGRERuZbwYvxi7M6dngxdiFubgWTsbghYwnGxmDFzIGL2QMXsj4qEtGbGTERkZsZMRGRmxkxEZGbGTERkZsZMRGRmxkxEZGbGSsq8hYV5GxQSBjXUXGk42MdRUZ6yoy1lVkfNQlIzYyYiMjNjJiIyM2MmIjIzYyYiMjNjJiIyM2MmIjY/BCxuCFjGvhZAxeyHz9ZPNEY1b/Dl4MXZjbxWaz2d3e3o7PC6urV/8F/EcXY4yxXq//WvogvH8+6pIRGxmxkREbGbGRERsZsZERGxmxkREbGbGRERsZsZERG5mLMcY4HA6/LX0Q3r+LaZoe7+/vraqYnQ0CGesqMl4QyIiNjNjIiI2M2MiIjczfh7TU2CI7l8IAAAAASUVORK5CYII=\"></img></td>\n",
              "      <td id=\"T_16caa_row2_col5\" class=\"data row2 col5\" >0<br>(0.0%)</td>\n",
              "    </tr>\n",
              "  </tbody>\n",
              "</table>\n",
              "\n",
              "</div>\n",
              "<div id = \"test_data-9341\" class=\"tabcontent-9341\">\n",
              "<style type=\"text/css\">\n",
              "#T_c6b94 thead>tr>th {\n",
              "  text-align: left;\n",
              "}\n",
              "#T_c6b94_row0_col0, #T_c6b94_row1_col0, #T_c6b94_row2_col0 {\n",
              "  text-align: left;\n",
              "  font-size: 12px;\n",
              "  vertical-align: middle;\n",
              "  width: 5%;\n",
              "  max-width: 50px;\n",
              "  min-width: 20px;\n",
              "}\n",
              "#T_c6b94_row0_col1, #T_c6b94_row1_col1, #T_c6b94_row2_col1 {\n",
              "  text-align: left;\n",
              "  font-size: 12px;\n",
              "  vertical-align: middle;\n",
              "  width: 15%;\n",
              "  max-width: 200px;\n",
              "  min-width: 100px;\n",
              "  word-break: break-word;\n",
              "}\n",
              "#T_c6b94_row0_col2, #T_c6b94_row1_col2, #T_c6b94_row2_col2 {\n",
              "  text-align: left;\n",
              "  font-size: 12px;\n",
              "  vertical-align: middle;\n",
              "  width: 30%;\n",
              "  min-width: 100px;\n",
              "}\n",
              "#T_c6b94_row0_col3, #T_c6b94_row1_col3, #T_c6b94_row2_col3 {\n",
              "  text-align: left;\n",
              "  font-size: 12px;\n",
              "  vertical-align: middle;\n",
              "  width: 25%;\n",
              "  min-width: 100px;\n",
              "}\n",
              "#T_c6b94_row0_col4, #T_c6b94_row1_col4, #T_c6b94_row2_col4 {\n",
              "  text-align: left;\n",
              "  font-size: 12px;\n",
              "  vertical-align: middle;\n",
              "  width: 20%;\n",
              "  min-width: 150px;\n",
              "}\n",
              "#T_c6b94_row0_col5, #T_c6b94_row1_col5, #T_c6b94_row2_col5 {\n",
              "  text-align: left;\n",
              "  font-size: 12px;\n",
              "  vertical-align: middle;\n",
              "  width: 10%;\n",
              "}\n",
              "</style>\n",
              "<table id=\"T_c6b94\">\n",
              "  <caption><strong>Data Frame Summary</strong><br>pd_test_data<br>Dimensions: 15,924 x 3<br>Duplicates: 1,117</caption>\n",
              "  <thead>\n",
              "    <tr>\n",
              "      <th id=\"T_c6b94_level0_col0\" class=\"col_heading level0 col0\" >No</th>\n",
              "      <th id=\"T_c6b94_level0_col1\" class=\"col_heading level0 col1\" >Variable</th>\n",
              "      <th id=\"T_c6b94_level0_col2\" class=\"col_heading level0 col2\" >Stats / Values</th>\n",
              "      <th id=\"T_c6b94_level0_col3\" class=\"col_heading level0 col3\" >Freqs / (% of Valid)</th>\n",
              "      <th id=\"T_c6b94_level0_col4\" class=\"col_heading level0 col4\" >Graph</th>\n",
              "      <th id=\"T_c6b94_level0_col5\" class=\"col_heading level0 col5\" >Missing</th>\n",
              "    </tr>\n",
              "  </thead>\n",
              "  <tbody>\n",
              "    <tr>\n",
              "      <td id=\"T_c6b94_row0_col0\" class=\"data row0 col0\" >1</td>\n",
              "      <td id=\"T_c6b94_row0_col1\" class=\"data row0 col1\" ><strong>sentence_id</strong><br>[int64]</td>\n",
              "      <td id=\"T_c6b94_row0_col2\" class=\"data row0 col2\" >Mean (sd) : 485.3 (282.8)<br>min < med < max:<br>1.0 < 473.0 < 966.0<br>IQR (CV) : 504.0 (1.7)</td>\n",
              "      <td id=\"T_c6b94_row0_col3\" class=\"data row0 col3\" >966 distinct values</td>\n",
              "      <td id=\"T_c6b94_row0_col4\" class=\"data row0 col4\" ><img src = \"data:image/png;base64, iVBORw0KGgoAAAANSUhEUgAAAKoAAABGCAYAAABc8A97AAAAOXRFWHRTb2Z0d2FyZQBNYXRwbG90bGliIHZlcnNpb24zLjYuMywgaHR0cHM6Ly9tYXRwbG90bGliLm9yZy/P9b71AAAACXBIWXMAAA9hAAAPYQGoP6dpAAACtElEQVR4nO3dsW7aQBzH8f+VBExCjRAV2fwClTowsvQN+rBdu2WAF+ANWBASIiBoLMChU7cowJ0v9i/5fvaLz+F7l3NiKe50OhlQd1+qngBwiZuqJ1BXzrm2mTU9h+9Pp9NzmfP57Aj1Fc65dr/f/5Wmac9n/GazWTnnfqvFGrg4zSIuUEJ9XTNN095oNHrudrv5NQPX63UyHo97y+WyaWYyoYYuTrO4CzRqqHVeoZfodrv5YDD46zG0Xfpk4vNenGbxF2i0UOu+QvG6gMVpRVGkZpY653yGv7kpxdxRa71CUa7dbnd7OBx+ZFnWaDQaV3/e5zal6GfUuq7QjyrguJW+vLzc+l53v9/fJElyNxwO84eHh9U1Yy/ZlM6GWtWNh67Qp6enrXPuj5ldPdYC516VkOPW4XBIiqL4nuf5o5l5bSxmZvf391HO9W+GWuWNh6zQ+Xz+dTKZ/Myy7JtP5GV9aD4CH0DTTqczGI1Gm2uPW7PZrDedTu+Ox2PD89pRndtRvc+ZZd24zwpdrVZt38jNqvvQQh9A/y+wVqv16PM987nme7nojOpzzqzDjfv+GKpw7kEPoHXfFUPwC/8a8n0ArcPmEAsvpUACoUICoUICoUICoUICoUICoUICoUICoUICf5mKoCiKW/N7PVHyra33QKglC3k9scq3tuqOUEsW8nriR36pJBShRuL7emKs+ajjYQoSCBUSCBUSCBUSCBUSCBUSCBUSCBUSCBUSCBUSCBUSCBUSCBUSCBUSCBUSCBUSCBUSCBUSCBUSCBUSCBUSCBUSCBUSCBUSCBUSCBUSCBUSCBUSCBUSCBUSCBUSCBUSCBUSCBUSCBUSCBUSCBUSCBUSCBUSCBUSCBUSCBUSLvoXk+v1Orn2C2+328TMbLfbJYvF4u49x6teW3XeoeMv6esfPtObEZ46928AAAAASUVORK5CYII=\"></img></td>\n",
              "      <td id=\"T_c6b94_row0_col5\" class=\"data row0 col5\" >0<br>(0.0%)</td>\n",
              "    </tr>\n",
              "    <tr>\n",
              "      <td id=\"T_c6b94_row1_col0\" class=\"data row1 col0\" >2</td>\n",
              "      <td id=\"T_c6b94_row1_col1\" class=\"data row1 col1\" ><strong>word</strong><br>[object]</td>\n",
              "      <td id=\"T_c6b94_row1_col2\" class=\"data row1 col2\" >1. .<br>2. nə́<br>3. á<br>4. lə<br>5. bə́<br>6. yə<br>7. pə́<br>8. pú<br>9. e<br>10. a<br>11. other</td>\n",
              "      <td id=\"T_c6b94_row1_col3\" class=\"data row1 col3\" >1,369 (8.6%)<br>523 (3.3%)<br>291 (1.8%)<br>290 (1.8%)<br>257 (1.6%)<br>211 (1.3%)<br>209 (1.3%)<br>201 (1.3%)<br>187 (1.2%)<br>181 (1.1%)<br>12,205 (76.6%)</td>\n",
              "      <td id=\"T_c6b94_row1_col4\" class=\"data row1 col4\" ><img src = \"data:image/png;base64, iVBORw0KGgoAAAANSUhEUgAAAJsAAAD+CAYAAAAtWHdlAAAAOXRFWHRTb2Z0d2FyZQBNYXRwbG90bGliIHZlcnNpb24zLjYuMywgaHR0cHM6Ly9tYXRwbG90bGliLm9yZy/P9b71AAAACXBIWXMAAA9hAAAPYQGoP6dpAAAEK0lEQVR4nO3dQWobZwCG4V9GuPFGQhh8DB9Ah+hhewgdwPcwxrOI3GzcRRLjNglYreaVUJ9nZ4hgwC8jZvg/Z/H6+jqgcHXqC+D/Q2xkxEZGbGTERkZsZMRGRmxkxEZmMca4GWNcH/i5L6+vr/sZrocLtry9vf19tVptDvnQNE1Pi8XiD8FxiOVqtdpst9v9er1++cgHnp+fP+12u83j4+P1GENsfNhyjDHW6/XL3d3d5wM+dzPT9XDBPCCQERsZsZERGxmxkREbGbGRERsZsZERGxmxkREbGbGRERuZ5Rhfz6h99AOH/Ft4bzlN09Nut9uMA86oTdP0NMb4Mt9lcYlsEMgs/MksKr+6s7lzcXQ/XVdZTzGHH9ZV1lPM5VfrKuspjs5LXTJiIyM2MmIjIzYyYiMjNjJiIyM2MmIjIzYyYiMjNjI/DF4MWpjLTwcvBi3MwbFwMgYvZP55Z3NHYzZ/G7wYujCnq++Dl+12u/8W3aGDZfiQt8HLt58NXZiNl7pkxEZGbGTERkZsZMRGRmxkxEZGbGTERkZsZMRGRmxkDv4fXuDfej94MXRhVo6FkzF4IeMBgYyvUTLWVWSsq8hYV5HxgEBGbGTERkZsZMRGRmxkxEZGbGTERkZsZMRGRmxkxEbGuoqMdRUZx8LJWFeRcWcjY/BCxuCFjMELGS91yYiNjNjIiI2M2MiIjYzYyIiNjNjIiI2M2MiIjYzYyBi8kDF4IeNYOBmDFzLv72zuaszqbfBi7MLcrlar1eb+/n4YuzC3qzHGuLm5+fPUF8Ll81KXjNjIiI2M2MiIjYzYyIiNjNjIiI2M2MiIjYzYyIiNjNjIXI0xxn6//+3UF8Llu5qm6enh4cGyitnZIJCxriLjzkbGuoqMdRUZ6yoyXuqSERsZsZERGxmxkREbGbGRERsZsZERGxmxkREbGbGRMXghY/BCxrFwMgYvZNzZyBi8kDF4IWPwQsZLXTJiIyM2MmIjIzYyYiMjNjJiIyM2MmIjIzYyYiMjNjIGL2QMXsg4Fk7G4IWMBwQyvkbJWFeRsa4iY11FxgMCGbGRERsZsZERGxmxkREbGbGRERsZsZERGxmxkREbGesqMtZVZBwLJ2NdRcadjYzBCxmDFzIGL2S81CUjNjJiIyM2MmIjIzYyYiMjNjJiIyM2MmIjIzYyYiNj8ELG4IWMY+FkDF7IvL+zcXnO6tvqbfBy6gvh+M5txLRcrVab7Xa7X6/XL6e+GI7n+fn502632zw+Pl6PMc4jtjHGWK/XL3d3d59PfTEc3c2pL+A9L3XJiI2M2MiIjYzYyIiNjNjIiI2M2MiIjYzYyIiNjNjILMf4ehzl1BfCcZ3j73Q5TdPTbrfbjDM7jsJ/d24jJsfCL9tZHQs3eCHjAYGM2MiIjYzYyIiNjNjIiI2M2MiIjcxfAvjeLy/Jo+EAAAAASUVORK5CYII=\"></img></td>\n",
              "      <td id=\"T_c6b94_row1_col5\" class=\"data row1 col5\" >0<br>(0.0%)</td>\n",
              "    </tr>\n",
              "    <tr>\n",
              "      <td id=\"T_c6b94_row2_col0\" class=\"data row2 col0\" >3</td>\n",
              "      <td id=\"T_c6b94_row2_col1\" class=\"data row2 col1\" ><strong>iob_tag</strong><br>[object]</td>\n",
              "      <td id=\"T_c6b94_row2_col2\" class=\"data row2 col2\" >1. O<br>2. B-PER<br>3. I-PER<br>4. I-DATE<br>5. B-LOC<br>6. B-ORG<br>7. B-DATE<br>8. I-ORG<br>9. I-LOC</td>\n",
              "      <td id=\"T_c6b94_row2_col3\" class=\"data row2 col3\" >14,022 (88.1%)<br>399 (2.5%)<br>385 (2.4%)<br>345 (2.2%)<br>256 (1.6%)<br>217 (1.4%)<br>180 (1.1%)<br>90 (0.6%)<br>30 (0.2%)</td>\n",
              "      <td id=\"T_c6b94_row2_col4\" class=\"data row2 col4\" ><img src = \"data:image/png;base64, iVBORw0KGgoAAAANSUhEUgAAAJsAAADPCAYAAADifqNtAAAAOXRFWHRTb2Z0d2FyZQBNYXRwbG90bGliIHZlcnNpb24zLjYuMywgaHR0cHM6Ly9tYXRwbG90bGliLm9yZy/P9b71AAAACXBIWXMAAA9hAAAPYQGoP6dpAAADiElEQVR4nO3dMW4bVwBF0U+CcKyGBEFAS0g6LYCL8GKzCC5AZfYgCGIR2m7oIrJBxQZSeObSYM7p1BC/uBhqBvOkxfl8HlBYXvsA/H+IjYzYyIiNjNjIiI2M2Mgsxhh3Y4x31z4Iv6zP5/P5NMUHrXa73Yf1er2d4sO4Pcfj8XmxWPw5RXCr9Xq93e/3p81m83GKw3E7Xl5e3h8Oh+3T09O7McbPxzbGGJvN5uP9/f3fP306btHdVB/kBoGM2MiIjYzYyIiNjNjIiI2M2MiIjYzYyIiNjNjIiI3Maox/XiW59kH49Uzdxep4PD4fDoftmPBVEm7H8Xh8HmN8nuKzvBbOf5nstfCFv/VB5UdXtslKhkvfDV6mHDjApTeDl6kHDnDpR4MXd6XMwkNdMmIjIzYyYiMjNjJiIyM2MmIjIzYyYiMjNjJiIyM2Mm8GL4YvzOm7wcuUAwe45LVwMgYvZNwgkPE1Ssa6iox1FRnrKjJuEMiIjYzYyIiNjNjIiI2M2MiIjYzYyIiNjNjIiI2M2MhYV5GxriLjtXAy1lVk/n1lc1VjNm8GL8YuzGn5dfCy3+9Pr9H5d5DM4tvg5fVnYxdm46EuGbGRERsZsZERGxmxkREbGbGRERsZsZERGxmxkREbmTeDF5jT5eDF2IVZeS2cjMELmcsrm6sas/o2eDF2YW7L9Xq9fXh4GMYuzG05xhh3d3efrn0Qbp+HumTERkZsZMRGRmxkxEZGbGTERkZsZMRGRmxkxEZGbGTERmY5xhin0+m3ax+E27c8Ho/Pj4+PllXMzgaBjHUVGVc2MtZVZKyryFhXkfFQl4zYyIiNjNjIiI2M2MiIjYzYyIiNjNjIiI2M2MiIjYzBCxmDFzJeCydj8ELGlY2MwQsZgxcyBi9kPNQlIzYyYiMjNjJiIyM2MmIjIzYyYiMjNjJiIyM2MmIjIzYy1lVkrKvI2CCQsa4i8/XKNlzVmNtqt9t9GGMMyyrmtlyv11vLKgqes5ERGxmxkREbGbGRERsZsZERGxmxkREbGbGRERsZsZERGxmxkVm9Dl3GMHZhZl4LJ2PwQsbvbGSWi8Xij8Vi8f7aB+H2LccYv48x/PkFZudrlIzYyIiNjNjIiI2M2MiIjYzYyIiNjNjIiI2M2MiIjYzYyIiNjNjILMcYf40xPl37INw+gxcyvkbJiI2M2MiIjYzYyIiNjNjIfAERW1pV4m1B2wAAAABJRU5ErkJggg==\"></img></td>\n",
              "      <td id=\"T_c6b94_row2_col5\" class=\"data row2 col5\" >0<br>(0.0%)</td>\n",
              "    </tr>\n",
              "  </tbody>\n",
              "</table>\n",
              "\n",
              "</div>\n",
              "<div id = \"dev_data-9341\" class=\"tabcontent-9341\">\n",
              "<style type=\"text/css\">\n",
              "#T_e2286 thead>tr>th {\n",
              "  text-align: left;\n",
              "}\n",
              "#T_e2286_row0_col0, #T_e2286_row1_col0, #T_e2286_row2_col0 {\n",
              "  text-align: left;\n",
              "  font-size: 12px;\n",
              "  vertical-align: middle;\n",
              "  width: 5%;\n",
              "  max-width: 50px;\n",
              "  min-width: 20px;\n",
              "}\n",
              "#T_e2286_row0_col1, #T_e2286_row1_col1, #T_e2286_row2_col1 {\n",
              "  text-align: left;\n",
              "  font-size: 12px;\n",
              "  vertical-align: middle;\n",
              "  width: 15%;\n",
              "  max-width: 200px;\n",
              "  min-width: 100px;\n",
              "  word-break: break-word;\n",
              "}\n",
              "#T_e2286_row0_col2, #T_e2286_row1_col2, #T_e2286_row2_col2 {\n",
              "  text-align: left;\n",
              "  font-size: 12px;\n",
              "  vertical-align: middle;\n",
              "  width: 30%;\n",
              "  min-width: 100px;\n",
              "}\n",
              "#T_e2286_row0_col3, #T_e2286_row1_col3, #T_e2286_row2_col3 {\n",
              "  text-align: left;\n",
              "  font-size: 12px;\n",
              "  vertical-align: middle;\n",
              "  width: 25%;\n",
              "  min-width: 100px;\n",
              "}\n",
              "#T_e2286_row0_col4, #T_e2286_row1_col4, #T_e2286_row2_col4 {\n",
              "  text-align: left;\n",
              "  font-size: 12px;\n",
              "  vertical-align: middle;\n",
              "  width: 20%;\n",
              "  min-width: 150px;\n",
              "}\n",
              "#T_e2286_row0_col5, #T_e2286_row1_col5, #T_e2286_row2_col5 {\n",
              "  text-align: left;\n",
              "  font-size: 12px;\n",
              "  vertical-align: middle;\n",
              "  width: 10%;\n",
              "}\n",
              "</style>\n",
              "<table id=\"T_e2286\">\n",
              "  <caption><strong>Data Frame Summary</strong><br>pd_dev_data<br>Dimensions: 7,745 x 3<br>Duplicates: 419</caption>\n",
              "  <thead>\n",
              "    <tr>\n",
              "      <th id=\"T_e2286_level0_col0\" class=\"col_heading level0 col0\" >No</th>\n",
              "      <th id=\"T_e2286_level0_col1\" class=\"col_heading level0 col1\" >Variable</th>\n",
              "      <th id=\"T_e2286_level0_col2\" class=\"col_heading level0 col2\" >Stats / Values</th>\n",
              "      <th id=\"T_e2286_level0_col3\" class=\"col_heading level0 col3\" >Freqs / (% of Valid)</th>\n",
              "      <th id=\"T_e2286_level0_col4\" class=\"col_heading level0 col4\" >Graph</th>\n",
              "      <th id=\"T_e2286_level0_col5\" class=\"col_heading level0 col5\" >Missing</th>\n",
              "    </tr>\n",
              "  </thead>\n",
              "  <tbody>\n",
              "    <tr>\n",
              "      <td id=\"T_e2286_row0_col0\" class=\"data row0 col0\" >1</td>\n",
              "      <td id=\"T_e2286_row0_col1\" class=\"data row0 col1\" ><strong>sentence_id</strong><br>[int64]</td>\n",
              "      <td id=\"T_e2286_row0_col2\" class=\"data row0 col2\" >Mean (sd) : 241.4 (137.7)<br>min < med < max:<br>1.0 < 244.0 < 483.0<br>IQR (CV) : 238.0 (1.8)</td>\n",
              "      <td id=\"T_e2286_row0_col3\" class=\"data row0 col3\" >483 distinct values</td>\n",
              "      <td id=\"T_e2286_row0_col4\" class=\"data row0 col4\" ><img src = \"data:image/png;base64, iVBORw0KGgoAAAANSUhEUgAAAKoAAABGCAYAAABc8A97AAAAOXRFWHRTb2Z0d2FyZQBNYXRwbG90bGliIHZlcnNpb24zLjYuMywgaHR0cHM6Ly9tYXRwbG90bGliLm9yZy/P9b71AAAACXBIWXMAAA9hAAAPYQGoP6dpAAACv0lEQVR4nO3aP2/aQByH8d9BiI4Q2SKkZGPpGKkDUpa8gI59sX0JHTJ0ZujSiQ0JIRBuEI6hS7NUNMF3dvE3eT5z7bPLI98fxe33ewOarnXqBwCOcVbnzZ1zXTM7j7jFdr/fP1b1PNBVW6jOue5gMPiSJEk/9B6r1WrhnPtKrKjzi3qeJEn//v7+MU3TTdmLl8ulf3h46M/n83MzI9R3rtap38wsTdPNcDj8FXh5t9KHgazaQ32PItfmrMsPINSKxa7NWZcfRqjVC16bV7Euj/yat8xsF3itWY2zAaH+Q8QPnux2u06apouQtXlRFImZJc65gKHNX11dfU7TtBcwbifLso+Xl5c/W61WHjJ4nbMBoR4QM33nee6LorjdbDbfzKxUqFmWdfI8/zQajdrtdrv0SUme597Mbu/u7r5fX1+vylw7nU77k8nkw3g8/nFzc7MoO3bdpzSEeljw9P3nB794enpqlx10u92eee8vxuPxJiSW57G993nZr/liseiamfV6vUae0rwaauwUGHBdY4QcrT3/4DFCY6li7KZ6MdRTTYHA3177op5kCqxC5O5XfjY4haIoOha+EXzxxOCoNeqppsCIFw/e/ZoxG4SI3Qi+dmLQ2M1UzIvH7H7NTj8bKIrZCB5zYtDYUGNePGb3a/a2NyV1izg1ePH/vLGhPgt5cUJ7e/gLf0ggVEggVEggVEggVEggVEggVEggVEggVEggVEggVEggVEggVEggVEggVEggVEggVEggVEggVEggVEggVEggVEggVEggVEggVEggVEggVEggVEggVEggVEggVEggVEggVEggVEggVEggVEggVEggVEggVEggVEggVEggVEggVEggVEggVEggVEggVEggVEggVEggVEg4O+YfLZdLX/bG6/Xam5llWeZns9nF/7xedWzV5469/pi+fgMhGoN2l2n3NAAAAABJRU5ErkJggg==\"></img></td>\n",
              "      <td id=\"T_e2286_row0_col5\" class=\"data row0 col5\" >0<br>(0.0%)</td>\n",
              "    </tr>\n",
              "    <tr>\n",
              "      <td id=\"T_e2286_row1_col0\" class=\"data row1 col0\" >2</td>\n",
              "      <td id=\"T_e2286_row1_col1\" class=\"data row1 col1\" ><strong>word</strong><br>[object]</td>\n",
              "      <td id=\"T_e2286_row1_col2\" class=\"data row1 col2\" >1. .<br>2. nə́<br>3. á<br>4. bə́<br>5. a<br>6. lə<br>7. pú<br>8. é<br>9. gaə́<br>10. wə́<br>11. other</td>\n",
              "      <td id=\"T_e2286_row1_col3\" class=\"data row1 col3\" >486 (6.3%)<br>236 (3.0%)<br>201 (2.6%)<br>150 (1.9%)<br>113 (1.5%)<br>112 (1.4%)<br>112 (1.4%)<br>101 (1.3%)<br>94 (1.2%)<br>92 (1.2%)<br>6,048 (78.1%)</td>\n",
              "      <td id=\"T_e2286_row1_col4\" class=\"data row1 col4\" ><img src = \"data:image/png;base64, iVBORw0KGgoAAAANSUhEUgAAAJsAAAD+CAYAAAAtWHdlAAAAOXRFWHRTb2Z0d2FyZQBNYXRwbG90bGliIHZlcnNpb24zLjYuMywgaHR0cHM6Ly9tYXRwbG90bGliLm9yZy/P9b71AAAACXBIWXMAAA9hAAAPYQGoP6dpAAAEQElEQVR4nO3dQU4bZwCG4R9k0bCxZSH5GBzAh+hhewgfgHsgxCximo27SIKgQKER8xqR59lFeDFSXo01o/+Dk8PhMKBweuwL4PchNjJiIyM2MmIjIzYyYiMjNjJiI3MyxjgfY5y94bPfDofDfubr4RNbXFxc/LlcLtevfXCappuTk5O/BMevWiyXy/V2u92vVqu7lz50e3v7Zbfbra+vr8/GGGLjlyzGGGO1Wt1tNpuvr3z2PLgePjEPCGTERkZsZMRGRmxkxEZGbGTERkZsZMRGRmxkxEZGbGTERmYxxvfzav/1odd+Dm+xmKbpZrfbrccr59WmaboZY3xrLovPyAaBzIlfmUXlpTubuxjv7tl1lSUVc3iyrrKkYi4vrassqXh3XuqSERsZsZERGxmxkREbGbGRERsZsZERGxmxkREbGbGReTJ4MW5hLs8OXoxbmINj4WQMXsg8d2dzV2MWTwYvxi7M5dHgxdiFOT03eDF2YRZe6pIRGxmxkREbGbGRERsZsZERGxmxkREbGbGRERsZsZF5NHgxdmFOTwYvxi7MxbFwMgYvZDwgkPn316ivUGbzaF1lWcWcTn+uq7bb7f5HdG/5c5Dwv92vq37827KK2XhAICM2MmIjIzYyYiMjNjJiIyM2MmIjIzYyYiMjNjJiI/PkzwnBXB6uqyyrmJVj4WSsq8g8vLO5qzGr+8GLsQtzO10ul+vLy8th7MLcTscY4/z8/O9jXwifn5e6ZMRGRmxkxEZGbGTERkZsZMRGRmxkxEZGbGTERkZsZE7HGGO/3/9x7Avh8zudpunm6urK2IXZORZOxuCFjDsbGYMXMgYvZAxeyHipS0ZsZMRGRmxkxEZGbGTERkZsZMRGRmxkxEZGbGTERkZsZKyryFhXkbFBIGNdRcadjYx1FRnrKjLWVWS81CUjNjJiIyM2MmIjIzYyYiMjNjJiIyM2MmIjIzYyYiNj8ELG4IWMY+FkDF7IuLORMXghY/BCxuCFjJe6ZMRGRmxkxEZGbGTERkZsZMRGRmxkxEZGbGTERkZsZAxeyBi8kHEsnIzBCxkPCGR8jZKxriJjXUXGuoqMBwQyYiMjNjJiIyM2MmIjIzYyYiMjNjJiIyM2MmIjIzYy1lVkrKvIOBZOxrqKjDsbGYMXMgYvZAxeyHipS0ZsZMRGRmxkxEZGbGTERkZsZMRGRmxkxEZGbGTERsbghYzBCxnHwskYvJB5eGfj8/oQ31r3g5djXwjz+ShjpsVyuVxvt9v9arW6O+aFMI/b29svu91ufX19fTbGOG5sY4yxWq3uNpvN12NeCLM6P/YFjOGlLiGxkREbGbGRERsZsZERGxmxkREbGbGRERsZsZERG5nFGN+PoRz7QpjHR/q/XUzTdLPb7dbjgxxD4f19lDGTY+G/hw9xLNzghYwHBDJiIyM2MmIjIzYyYiMjNjJiIyM2Mv8AaXbn0tuDNsoAAAAASUVORK5CYII=\"></img></td>\n",
              "      <td id=\"T_e2286_row1_col5\" class=\"data row1 col5\" >0<br>(0.0%)</td>\n",
              "    </tr>\n",
              "    <tr>\n",
              "      <td id=\"T_e2286_row2_col0\" class=\"data row2 col0\" >3</td>\n",
              "      <td id=\"T_e2286_row2_col1\" class=\"data row2 col1\" ><strong>iob_tag</strong><br>[object]</td>\n",
              "      <td id=\"T_e2286_row2_col2\" class=\"data row2 col2\" >1. O<br>2. I-DATE<br>3. B-PER<br>4. B-LOC<br>5. I-PER<br>6. B-DATE<br>7. B-ORG<br>8. I-ORG<br>9. I-LOC</td>\n",
              "      <td id=\"T_e2286_row2_col3\" class=\"data row2 col3\" >7,079 (91.4%)<br>138 (1.8%)<br>114 (1.5%)<br>95 (1.2%)<br>94 (1.2%)<br>73 (0.9%)<br>72 (0.9%)<br>52 (0.7%)<br>28 (0.4%)</td>\n",
              "      <td id=\"T_e2286_row2_col4\" class=\"data row2 col4\" ><img src = \"data:image/png;base64, iVBORw0KGgoAAAANSUhEUgAAAJsAAADPCAYAAADifqNtAAAAOXRFWHRTb2Z0d2FyZQBNYXRwbG90bGliIHZlcnNpb24zLjYuMywgaHR0cHM6Ly9tYXRwbG90bGliLm9yZy/P9b71AAAACXBIWXMAAA9hAAAPYQGoP6dpAAADTklEQVR4nO3cMW4aaQCG4R+EskszCCH5GD4Ah8hhcwgO4HtYlqdYsmnYYp0ou5VBmhfFeZ7OBdIUrwZm9H9eXS6XAYX1vS+A34fYyIiNjNjIiI2M2MiIjcxqjLEdY3y694Xwy/l2uVzO13xgczgcPk/TtF/qiviY5nl+Wa1WX64JbjNN0/54PJ53u93XJS+Oj+P19fXP0+m0f35+/jTGeH9sY4yx2+2+Pjw8/LXY1fERba/9gAcEMmIjIzYyYiMjNjJiIyM2MmIjIzYyYiMjNjJiIyM2Mpsx/j0ycu8L4ddxay+beZ5fTqfTftxwZITf1zzPL2OMb9d8xrFwbnX1sfCV//VB5f93tqtrhff6z+DllhEDvNf6++DleDye36Lz+41F/Bi8vP3tiZTFeKlLRmxkxEZGbGTERkZsZMRGRmxkxEZGbGTERkZsZMRGxuCFzM+Dl5tGDPBejoWTMXgh4wGBzM9fo75CWdSPdZVlFUtbT9O0f3x8HJZVLG09xhjb7fbve18IH58HBDJiIyM2MmIjIzYyYiMjNjJiIyM2MmIjIzYyYiMjNjLrMcY4n89/3PtC+PjW8zy/PD09WVaxOMfCyVhXkXFnI2PwQsbghYzBCxkvdcmIjYzYyIiNjNjIiI2M2MiIjYzYyIiNjNjIiI2M2MgYvJAxeCHjWDgZgxcy7mxkDF7IGLyQMXgh46UuGbGRERsZsZERGxmxkREbGbGRERsZsZERGxmxkREbGbGRsa4iY11FxgaBjHUVme93tuGuxtI2h8Ph8xhjWFaxtPU0TXvLKgres5ERGxmxkREbGbGRERsZsZERGxmxkREbGbGRERsZsZERGxmxkdm8DV3GMHZhYY6FkzF4IePORsbghYzBCxmvPsiIjYzYyIiNjNjIiI2M2MiIjYzYyIiNjNjIiI2M2MiIjYzYyIiNjHUVGRsEMtZVZNzZyFhXkbGuIuPVBxmxkREbGbGRERsZsZERGxmxkREbGbGRERsZsZERGxmxkREbGYMXMo6FkzF4IePORsbghYzBCxmvPsiIjYzYyIiNjNjIiI2M2MiIjYzYyIiNjNjIiI2M2MiIjYzYyIiNjHUVGRsEMtZVZPxmIyM2MmIjIzYyYiMjNjL/AMwcKsv7vzexAAAAAElFTkSuQmCC\"></img></td>\n",
              "      <td id=\"T_e2286_row2_col5\" class=\"data row2 col5\" >0<br>(0.0%)</td>\n",
              "    </tr>\n",
              "  </tbody>\n",
              "</table>\n",
              "\n",
              "</div>\n",
              "<style>\n",
              "    /* Style the tab */\n",
              "    .tab {\n",
              "      border-bottom: 1px solid #ccc;\n",
              "      display: flex;\n",
              "      flex-wrap: wrap;\n",
              "    }\n",
              "\n",
              "    /* Style the buttons inside the tab */\n",
              "    .tab>button {\n",
              "      background-color: inherit;\n",
              "      border: none;\n",
              "      outline: none;\n",
              "      cursor: pointer;\n",
              "      padding: 1rem;\n",
              "      transition: 0.1s;\n",
              "      font-size: 15px;\n",
              "      border-top-left-radius: 0.25rem;\n",
              "      border-top-right-radius: 0.25rem;\n",
              "      color: #0d6efd;\n",
              "    }\n",
              "\n",
              "    /* Change background color of buttons on hover */\n",
              "    .tab>button:hover {\n",
              "      background-color: #ccc;\n",
              "    }\n",
              "\n",
              "    /* Create an active/current tablink class */\n",
              "    .tab>button.active-tab {\n",
              "      background-color: white;\n",
              "      border: 1px solid #ccc;\n",
              "      border-bottom: none;\n",
              "      margin-bottom: -1px;\n",
              "      color: #495057;\n",
              "\n",
              "    }\n",
              "    /* Style the tab content */\n",
              "    .tabcontent-9341 {\n",
              "      display: none;\n",
              "      padding: 0 0.5rem;\n",
              "    }\n",
              "    </style>\n",
              "    <script>\n",
              "    function OpenTab_9341(evt, cityName) {\n",
              "      var i, tabcontent, tablinks;\n",
              "      tabcontent = document.getElementsByClassName(\"tabcontent-9341\");\n",
              "      for (i = 0; i < tabcontent.length; i++) {\n",
              "        tabcontent[i].style.display = \"none\";\n",
              "      }\n",
              "      tablinks = document.getElementsByClassName(\"tablinks-9341\");\n",
              "      for (i = 0; i < tablinks.length; i++) {\n",
              "        tablinks[i].className = tablinks[i].className.replace(\" active-tab\", \"\");\n",
              "      }\n",
              "      document.getElementById(cityName).style.display = \"block\";\n",
              "      evt.currentTarget.className += \" active-tab\";\n",
              "    }\n",
              "\n",
              "    // Get the element with id=\"defaultOpen\" and click on it\n",
              "    document.getElementById(\"defaultOpen-9341\").click();\n",
              "    </script>"
            ],
            "text/plain": [
              "<IPython.core.display.HTML object>"
            ]
          },
          "metadata": {},
          "output_type": "display_data"
        }
      ],
      "source": [
        "# quantification des tags/phrases dans le corpus d'entrainement\n",
        "# credit: https://github.com/6chaoran/jupyter-summarytools\n",
        "from summarytools import dfSummary, tabset\n",
        "\n",
        "tabset({\n",
        "    \"train_data\": dfSummary(pd_train_data).render(),\n",
        "    \"augmented_train_data\": dfSummary(pd_augment_ner_iob_data).render(),\n",
        "    #\"test_data\": dfSummary(pd_test_data).render(),\n",
        "    \"dev_data\": dfSummary(pd_dev_data).render()\n",
        "})\n",
        "\n",
        "# Un controle visuel des données et ce tableau montre clairement qu'il y a \n",
        "# des problématiques de cohérence d'annotations avec l'usage du format IOB."
      ]
    },
    {
      "cell_type": "code",
      "execution_count": 14,
      "metadata": {
        "id": "ygOENNvA-Oq6",
        "tags": []
      },
      "outputs": [
        {
          "data": {
            "text/plain": [
              "<AxesSubplot: >"
            ]
          },
          "execution_count": 14,
          "metadata": {},
          "output_type": "execute_result"
        },
        {
          "data": {
            "image/png": "[encoded data removed]",
            "text/plain": [
              "<Figure size 1000x500 with 1 Axes>"
            ]
          },
          "metadata": {},
          "output_type": "display_data"
        }
      ],
      "source": [
        "# representation of each entity tag\n",
        "pd_augment_ner_iob_data[pd_augment_ner_iob_data.iob_tag != 'O'][\"iob_tag\"]\\\n",
        ".value_counts().plot(kind=\"bar\", figsize=(10,5))\n",
        "\n",
        "# On remarque ici que le tag date représente 40% des tags (en position I ou B)"
      ]
    },
    {
      "cell_type": "code",
      "execution_count": 15,
      "metadata": {
        "colab": {
          "base_uri": "https://localhost:8080/"
        },
        "id": "m2EE2F3J-Oq6",
        "outputId": "eee3b35a-b61d-4ca4-b749-3469e98dad2d",
        "tags": []
      },
      "outputs": [
        {
          "name": "stdout",
          "output_type": "stream",
          "text": [
            "La phrase la plus longue contient 59 mots.\n",
            "ID de la plus longue phrase 118931.\n",
            "\n",
            "La phrase la plus longue du corpus est:\n",
            " Nwə yə pú kə yɔ̌ Fəládɛ̂ dɔ̂lɔ̌ Pásə́kà Tyə́ʼ kwɔ̂ʼ kɛ́bəŋ Yésô Tyə́ʼ fîʼ zhwenyə dɔ̂lɔ̌ Tyə́ʼ kwɔ̂ʼ kɛ́bəŋ Malyâ Krǐsì Lamadâŋ Laʼnwə mjʉ̀jʉ̀ Tá lə Ondo André Marie ( Mle 599 438 - T ) Tâdyə̌ mkətú' bə ě tʉɔthə́ bí pə dzə̌ é nə́ŋ cyə̂ mnə́ hɔ̂ bí nə́ pîŋ pú a fa' yə pǐŋ lə .\n"
          ]
        },
        {
          "data": {
            "image/png": "[encoded data removed]",
            "text/plain": [
              "<Figure size 800x600 with 1 Axes>"
            ]
          },
          "metadata": {},
          "output_type": "display_data"
        }
      ],
      "source": [
        "\n",
        "word_counts = pd_augment_ner_iob_data.groupby(\"sentence_id\")[\"word\"].agg([\"count\"])\n",
        "word_counts = word_counts.rename(columns={\"count\": \"Word count\"})\n",
        "word_counts.hist(bins=25, figsize=(8,6))\n",
        "\n",
        "# On constate que le nombre de mots moyens par phrase est de 15\n",
        "MAX_LENGTH_SENTENCE = word_counts.max()[0]\n",
        "print(\"La phrase la plus longue contient {} mots.\".format(MAX_LENGTH_SENTENCE))\n",
        "longest_sentence_id = word_counts[word_counts[\"Word count\"]==MAX_LENGTH_SENTENCE].index[0]\n",
        "print(\"ID de la plus longue phrase {}.\".format(longest_sentence_id))\n",
        "longest_sentence = pd_augment_ner_iob_data[pd_augment_ner_iob_data[\"sentence_id\"]==longest_sentence_id][\"word\"].str.cat(sep=' ')\n",
        "print(f\"\\nLa phrase la plus longue du corpus est:\\n {longest_sentence}\")\n"
      ]
    },
    {
      "cell_type": "code",
      "execution_count": 16,
      "metadata": {
        "colab": {
          "base_uri": "https://localhost:8080/"
        },
        "id": "rfcuz-OX-Oq7",
        "outputId": "cec05daa-edfd-4eed-dffb-ea2259488757",
        "tags": []
      },
      "outputs": [
        {
          "name": "stdout",
          "output_type": "stream",
          "text": [
            "Nombre de mots uniques: 6176\n",
            "Nombre de tags uniques : 9\n"
          ]
        }
      ],
      "source": [
        "all_words = list(set(pd_augment_ner_iob_data[\"word\"].values))\n",
        "all_tags = list(set(pd_augment_ner_iob_data[\"iob_tag\"].values))\n",
        "\n",
        "print(\"Nombre de mots uniques: {}\".format(pd_augment_ner_iob_data[\"word\"].nunique()))\n",
        "print(\"Nombre de tags uniques : {}\".format(pd_augment_ner_iob_data[\"iob_tag\"].nunique()))"
      ]
    },
    {
      "attachments": {},
      "cell_type": "markdown",
      "metadata": {
        "id": "eu3GNuDX-Oq7"
      },
      "source": [
        "## 2- Features engineering\n",
        "\n",
        "We will use differents kind of features to modelize our model. As ghomala is an african language, it is important to consider some of its features.\n",
        "\n",
        "Any Bantu or semi-Bantu language use tone markers as morpho-syntatic properties to differentiate word or meaning. "
      ]
    },
    {
      "cell_type": "code",
      "execution_count": 17,
      "metadata": {
        "id": "ybFUFTwx-Oq7",
        "tags": []
      },
      "outputs": [],
      "source": [
        "# Loading dependents libraries\n",
        "\n",
        "import unidecode\n",
        "import re\n",
        "from datetime import datetime\n",
        "import string\n",
        "import math\n",
        "import unicodedata"
      ]
    },
    {
      "attachments": {},
      "cell_type": "markdown",
      "metadata": {},
      "source": [
        "### 2.1. Features based on african linguistics specificities"
      ]
    },
    {
      "cell_type": "code",
      "execution_count": null,
      "metadata": {},
      "outputs": [],
      "source": [
        "# importing features module \n",
        "from features import remove_accents, number_tone_word, extract_tone"
      ]
    },
    {
      "cell_type": "code",
      "execution_count": 18,
      "metadata": {
        "colab": {
          "base_uri": "https://localhost:8080/"
        },
        "id": "uJ33Z586-Oq7",
        "outputId": "ad2d04d6-27c8-4385-c4c1-a1d459e53e47",
        "tags": []
      },
      "outputs": [
        {
          "name": "stdout",
          "output_type": "stream",
          "text": [
            "['ì', 'û', 'ǔ', 'ǝ', 'ş', 'ɑ', 'è', '̂', 'ù', '́', 'ê', 'á', 'ɓ', 'í', 'ó', '̧', '©', 'ě', 'à', 'é', 'ə', 'ú', 'ʉ', 'ɛ', 'ᵾ', 'î', 'ɨ', 'ç', 'ǐ', '̣', 'œ', 'ë', 'ʼ', 'ꞌ', 'ͻ', 'â', 'ǒ', 'ŋ', 'ò', 'ï', '̌', '᷆', 'ɔ', '᷅', '°', 'ô', 'ǎ', '̀']\n"
          ]
        }
      ],
      "source": [
        "# Constructing word features based on tones and API charaters\n",
        "words_caracters = set([y.lower() for x in all_words for y in x])\n",
        "all_caracters   = string.punctuation+string.ascii_letters+string.digits+''\n",
        "tone_caracters  = list(set([x for x in words_caracters if x not in all_caracters]))\n",
        "cpm_search      = re.compile(str(tone_caracters))\n",
        "\n",
        "# Set of functions that normalizes and get features from datasets\n",
        "bantou_tones = [f\"{x} \" for x in \" ́̄̀̌̂\" if x != \" \"]\n",
        "string_tones = \"\".join(bantou_tones)\n",
        "tones_search = re.compile(string_tones)\n",
        "\n",
        "bantou_letters = string.ascii_letters+\"ǝɔᵾɓɨşœɑʉɛɗŋøẅëïə\"\n",
        "\n",
        "non_tone = remove_accents(\"fə̀fə̀\")\n",
        "\n",
        "print(\n",
        "    len(\"fə̀fə̀\"), \n",
        "    len(non_tone), \n",
        "    number_tone_word(\"fə̀fə̀\"), \n",
        "    \"---\"+extract_tone(\"fə̀fə̀\")\n",
        ")\n",
        "\n",
        "print([x for x in \"ntâmgǒ\"])\n",
        "print(tone_caracters, string_tones)\n",
        "\n",
        "print(tone_caracters)"
      ]
    },
    {
      "attachments": {},
      "cell_type": "markdown",
      "metadata": {},
      "source": [
        "### 2.2. Features based on word and its contexts"
      ]
    },
    {
      "cell_type": "code",
      "execution_count": 20,
      "metadata": {
        "id": "oTLG98FL-Oq8",
        "tags": []
      },
      "outputs": [],
      "source": [
        "# l'ajout des tags suivants au mot courant améliore significativement le modèle\n",
        "# l'ajout des informations sur les tons\n",
        "\n",
        "from features import sent2features, sent2labels\n"
      ]
    },
    {
      "attachments": {},
      "cell_type": "markdown",
      "metadata": {},
      "source": [
        "### 2.3. Building all features and apply it to all datasets\n",
        "\n",
        "With augmentation, you need more than 40 Giga of Ram to compute these features. This is was only possible with pro version of Google colab. You can also used others cloud notebook to run this."
      ]
    },
    {
      "cell_type": "code",
      "execution_count": 21,
      "metadata": {
        "colab": {
          "base_uri": "https://localhost:8080/"
        },
        "id": "ZnG_xv72-Oq9",
        "outputId": "763211de-1de3-4c77-946c-d6613448f9c1",
        "tags": []
      },
      "outputs": [
        {
          "name": "stdout",
          "output_type": "stream",
          "text": [
            "20391461 15924\n"
          ]
        },
        {
          "ename": "",
          "evalue": "",
          "output_type": "error",
          "traceback": [
            "\u001b[1;31mLe Kernel s’est bloqué lors de l’exécution du code dans la cellule active ou une cellule précédente. Veuillez vérifier le code dans la ou les cellules pour identifier une cause possible de l’échec. Cliquez <a href='https://aka.ms/vscodeJupyterKernelCrash'>ici</a> pour plus d’informations. Pour plus d’informations, consultez Jupyter <a href='command:jupyter.viewOutput'>log</a>."
          ]
        },
        {
          "ename": "",
          "evalue": "",
          "output_type": "error",
          "traceback": [
            "\u001b[1;31mCanceled future for execute_request message before replies were done"
          ]
        }
      ],
      "source": [
        "# Build features from dataset \n",
        "print(len(pd_augment_ner_iob_data))\n",
        "\n",
        "train_sents = [[word for word in sentence] for sentence in augmented_train_ner_data]\n",
        "dev_sents = [[word for word in sentence] for sentence in extracted_dev_data]\n",
        "\n",
        "Xtrain = [sent2features(s) for s in train_sents]\n",
        "ytrain = [sent2labels(s) for s in train_sents]\n",
        "\n",
        "Xdev = [sent2features(s) for s in dev_sents]\n",
        "ydev = [sent2labels(s) for s in dev_sents]\n",
        "\n",
        "print(f\"Train X aug lenght: {len(Xtrain)} | {len(ytrain)}\")\n",
        "print(f\"Dev X aug lenght: {len(Xdev)} | {len(ydev)}\")\n",
        "Xtrain[2]"
      ]
    },
    {
      "cell_type": "code",
      "execution_count": null,
      "metadata": {
        "id": "WgDr0mtx-Oq9"
      },
      "outputs": [],
      "source": [
        "Xtrain[2]"
      ]
    },
    {
      "cell_type": "code",
      "execution_count": null,
      "metadata": {},
      "outputs": [],
      "source": [
        "project = \"sangkak-02-2023-aug\"\n",
        "build_date = str(datetime.now()).replace(' ','_')\n",
        "\n",
        "joblib.dump({\n",
        "    \"Xtrain\": Xtrain, \"ytrain\": ytrain, \n",
        "    \"Xdev\": Xdev, \"ydev\": ydev\n",
        "}, f'preprocessing/sangkak_featurised_augmented_train_dev_data_{build_date}.joblib') \n"
      ]
    },
    {
      "attachments": {},
      "cell_type": "markdown",
      "metadata": {
        "id": "hOFiMRD2-Oq9"
      },
      "source": [
        "# 3. Modelling with CRF algorithm"
      ]
    },
    {
      "cell_type": "code",
      "execution_count": 14,
      "metadata": {
        "id": "P4EOYXRf-Oq9"
      },
      "outputs": [],
      "source": [
        "# import dependents libraries\n",
        "\n",
        "import pycrfsuite\n",
        "#import sklearn_crfsuite\n",
        "import math, string, re\n",
        "import scipy\n",
        "import joblib\n",
        "from sklearn.metrics import make_scorer\n",
        "from sklearn.metrics import classification_report\n",
        "from sklearn.model_selection import RandomizedSearchCV"
      ]
    },
    {
      "attachments": {},
      "cell_type": "markdown",
      "metadata": {},
      "source": [
        "### 3.1. Initialisation of pycrfsuite with training data"
      ]
    },
    {
      "cell_type": "code",
      "execution_count": 29,
      "metadata": {
        "id": "2jN52z5GQQky"
      },
      "outputs": [],
      "source": [
        "# trainer initialisation of pycrfsuite\n",
        "trainer = pycrfsuite.Trainer(verbose=True)\n",
        "\n",
        "for xseq, yseq in zip(Xtrain, ytrain):\n",
        "    trainer.append(xseq, yseq)"
      ]
    },
    {
      "cell_type": "code",
      "execution_count": 40,
      "metadata": {
        "colab": {
          "base_uri": "https://localhost:8080/"
        },
        "id": "ohqw-e0jSz9l",
        "outputId": "aeeab435-b513-4be6-fbcb-d3486bc804b9"
      },
      "outputs": [
        {
          "name": "stdout",
          "output_type": "stream",
          "text": [
            "['feature.minfreq', 'feature.possible_states', 'feature.possible_transitions', 'c1', 'c2', 'max_iterations', 'num_memories', 'epsilon', 'period', 'delta', 'linesearch', 'max_linesearch']\n"
          ]
        }
      ],
      "source": [
        "project = \"sangkak-02-2023-aug\"\n",
        "build_date = str(datetime.now()).replace(' ','_')\n",
        "model_name = Path(f\"models/with_aug/crf_pycrfsuite_{project}_{build_date}.model\")\n",
        "model_file = str(model_name)\n",
        "file_crf = Path(f\"models/with_aug/crf_pycrfsuite_{build_date}.object\")\n",
        "\n",
        "print(trainer.params())\n",
        "\n",
        "params = {\n",
        "    #\"algorithm\": 'lbfgs',\n",
        "    \"c1\": 0.0920512484757745,\n",
        "    \"c2\": 0.0328771171605105, \n",
        "    \"max_iterations\":100,\n",
        "    #\"verbose\":True,\n",
        "    \"num_memories\":10000,\n",
        "    \"epsilon\": 1e-3,\n",
        "    \"linesearch\": \"MoreThuente\",\n",
        "    \"max_linesearch\":100000,\n",
        "    \"delta\":1e-4,\n",
        "    #\"n_job\":-1,\n",
        "    #\"c\": 2,\n",
        "    #\"pa_type\": 2,\n",
        "    \"feature.possible_transitions\":True,\n",
        "    \"feature.possible_states\":True, \n",
        "    #\"model_filename\": model_file\n",
        "}\n",
        "\n",
        "trainer.set_params(params)"
      ]
    },
    {
      "attachments": {},
      "cell_type": "markdown",
      "metadata": {},
      "source": [
        "### 3.2. Training and saving pycrfsuite model with training data"
      ]
    },
    {
      "cell_type": "code",
      "execution_count": null,
      "metadata": {
        "id": "MIj2cHR4RZna"
      },
      "outputs": [],
      "source": [
        "trainer.train(model_file)\n",
        "\n",
        "joblib.dump({\"crf\": trainer, \"params\": params}, file_crf) "
      ]
    },
    {
      "cell_type": "code",
      "execution_count": null,
      "metadata": {},
      "outputs": [],
      "source": [
        "trainer.logparser.last_iteration"
      ]
    },
    {
      "attachments": {},
      "cell_type": "markdown",
      "metadata": {
        "id": "IVhARMA2-Oq-"
      },
      "source": [
        "# 4. Grid search: find best parameters for our models"
      ]
    },
    {
      "cell_type": "code",
      "execution_count": null,
      "metadata": {
        "id": "JncBFfw4-Oq-"
      },
      "outputs": [],
      "source": [
        "from sklearn_crfsuite import metrics\n",
        "\n",
        "\n",
        "params = {\n",
        "    \"algorithm\": 'lbfgs',\n",
        "    \"max_iterations\":100,\n",
        "    \"verbose\": False,\n",
        "    #\"job\":-1,\n",
        "    \"all_possible_states\":True,\n",
        "    \"all_possible_transitions\":True, \n",
        "    \"model_filename\":model_file\n",
        "}\n",
        "\n",
        "crf_grill = pycrfsuite.Trainer(verbose=True)\n",
        "\n",
        "labels = list(trainer.classes_)\n",
        "labels.remove('O')\n",
        "\n",
        "params_space = {\n",
        "    'c1': scipy.stats.expon(scale=0.1),\n",
        "    'c2': scipy.stats.expon(scale=0.05)\n",
        "}\n",
        "\n",
        "# use the same metric for evaluation\n",
        "f1_scorer = make_scorer(metrics.flat_f1_score,\n",
        "                        average='weighted', labels=labels)\n",
        "\n",
        "# search\n",
        "rs = RandomizedSearchCV(crf_grill, \n",
        "                        params_space,\n",
        "                        cv=3,\n",
        "                        verbose=1,\n",
        "                        n_jobs=5,\n",
        "                        n_iter=50,\n",
        "                        scoring=f1_scorer)\n",
        "rs.fit(Xtrain, ytrain)"
      ]
    },
    {
      "cell_type": "code",
      "execution_count": null,
      "metadata": {
        "id": "qxwJK1dR-Oq-"
      },
      "outputs": [],
      "source": [
        "# crf = rs.best_estimator_\n",
        "print('best params:', rs.best_params_)\n",
        "print('best CV score:', rs.best_score_)\n",
        "print('model size: {:0.2f}M'.format(rs.best_estimator_.size_ / 1000000))"
      ]
    },
    {
      "cell_type": "code",
      "execution_count": null,
      "metadata": {
        "id": "I4sNnTjQ-Oq_"
      },
      "outputs": [],
      "source": [
        "#print(rs.cv_results_)\n",
        "_x = [s['c1'] for s in rs.cv_results_['params']]\n",
        "_y = [s['c2'] for s in rs.cv_results_['params']]\n",
        "_c = [s for s in rs.cv_results_['mean_score_time']]\n",
        "\n",
        "fig = plt.figure()\n",
        "fig.set_size_inches(12, 12)\n",
        "ax = plt.gca()\n",
        "ax.set_yscale('log')\n",
        "ax.set_xscale('log')\n",
        "ax.set_xlabel('C1')\n",
        "ax.set_ylabel('C2')\n",
        "ax.set_title(\"Randomized Hyperparameter Search CV Results (min={:0.3}, max={:0.3})\".format(\n",
        "    min(_c), max(_c)\n",
        "))\n",
        "\n",
        "ax.scatter(_x, _y, c=_c, s=60, alpha=0.9, edgecolors=[0,0,0])\n",
        "\n",
        "print(\"Dark blue => {:0.4}, dark red => {:0.4}\".format(min(_c), max(_c)))"
      ]
    },
    {
      "cell_type": "code",
      "execution_count": null,
      "metadata": {
        "id": "km6KCWbX-Oq_"
      },
      "outputs": [],
      "source": [
        "crf = rs.best_estimator_\n",
        "y_pred = crf.predict(Xtest)\n",
        "print(metrics.flat_classification_report(\n",
        "    ytest, y_pred, labels=sorted_labels, digits=3\n",
        "))"
      ]
    },
    {
      "cell_type": "code",
      "execution_count": null,
      "metadata": {
        "id": "02kA8FA6-Oq_"
      },
      "outputs": [],
      "source": [
        "from collections import Counter\n",
        "\n",
        "def print_transitions(trans_features):\n",
        "    for (label_from, label_to), weight in trans_features:\n",
        "        print(\"%-6s -> %-7s %0.6f\" % (label_from, label_to, weight))\n",
        "\n",
        "print(\"Top likely transitions:\")\n",
        "print_transitions(Counter(crf.transition_features_).most_common(20))\n",
        "\n",
        "print(\"\\nTop unlikely transitions:\")\n",
        "print_transitions(Counter(crf.transition_features_).most_common()[-20:])"
      ]
    },
    {
      "cell_type": "code",
      "execution_count": null,
      "metadata": {
        "id": "jajyQFfo-Oq_"
      },
      "outputs": [],
      "source": [
        "def print_state_features(state_features):\n",
        "    for (attr, label), weight in state_features:\n",
        "        print(\"%0.6f %-8s %s\" % (weight, label, attr))\n",
        "\n",
        "print(\"Top positive:\")\n",
        "print_state_features(Counter(crf.state_features_).most_common(30))\n",
        "\n",
        "print(\"\\nTop negative:\")\n",
        "print_state_features(Counter(crf.state_features_).most_common()[-30:])"
      ]
    }
  ],
  "metadata": {
    "accelerator": "GPU",
    "colab": {
      "include_colab_link": true,
      "provenance": []
    },
    "gpuClass": "premium",
    "kernelspec": {
      "display_name": "Python 3 (ipykernel)",
      "language": "python",
      "name": "python3"
    },
    "language_info": {
      "codemirror_mode": {
        "name": "ipython",
        "version": 3
      },
      "file_extension": ".py",
      "mimetype": "text/x-python",
      "name": "python",
      "nbconvert_exporter": "python",
      "pygments_lexer": "ipython3",
      "version": "3.10.12"
    },
    "vscode": {
      "interpreter": {
        "hash": "646b439550bec9cacc5e0384422c9ee78f8df74b182cfe1fc7410e07b34d6961"
      }
    }
  },
  "nbformat": 4,
  "nbformat_minor": 0
}
