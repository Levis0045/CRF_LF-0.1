{
 "cells": [
  {
   "cell_type": "markdown",
   "metadata": {},
   "source": [
    "# Loading data from Masakhane folder"
   ]
  },
  {
   "cell_type": "code",
   "execution_count": null,
   "metadata": {
    "scrolled": true
   },
   "outputs": [],
   "source": [
    "!pip3 install pandas python_crfsuite summarytools sklearn_crfsuite"
   ]
  },
  {
   "cell_type": "code",
   "execution_count": 8,
   "metadata": {},
   "outputs": [
    {
     "name": "stdout",
     "output_type": "stream",
     "text": [
      "Requirement already satisfied: iteration_utilities in /home/elvis/.cache/pypoetry/virtualenvs/scia-crf-lf-OXAjte5Q-py3.10/lib/python3.10/site-packages (0.11.0)\r\n"
     ]
    }
   ],
   "source": [
    "!pip3 install iteration_utilities"
   ]
  },
  {
   "cell_type": "code",
   "execution_count": 1,
   "metadata": {},
   "outputs": [],
   "source": [
    "from pathlib import Path\n",
    "import pandas as pd"
   ]
  },
  {
   "cell_type": "markdown",
   "metadata": {},
   "source": [
    "- normalization des données d'entrainement et application de quelques corrections\n",
    "  - ajout de point à la fin des phrases qui n'en ont pas \n",
    "  - considérer les tirets comme partie de \"I-LOC\" ?\n",
    "  - ŋkaʼ (6) est à la fois O et B-DATE+chiffre (37)\n",
    "  - non standardisation de l'orthographe: \n",
    "        Afrika I-ORG  / Afríkà B-LOC / Afrikǎ I-LOC / Afrika B-LOC / Afrika I-ORG\n",
    "        / afika B-LOC / Afríka B-LOC / Africa I-ORG / Afrika O / Afríkâ B-LOC\n",
    "\n",
    "      Nəmo B-ORG / NƏMO O / Nə̀mò B-ORG\n",
    "\n",
    "- construire une stratégie d'augmentation sur les entités existantes\n",
    "  - position to position augmentation\n",
    "  - \n",
    "\n",
    "\n",
    "- construire un classifier avec "
   ]
  },
  {
   "cell_type": "code",
   "execution_count": 2,
   "metadata": {},
   "outputs": [],
   "source": [
    "# Reading folder path\n",
    "# Context Masahkane community\n",
    "# Ramshaw and Marcus (1995) = IOB data format\n",
    "\n",
    "bbj_ner_path = Path('/home/elvis/Documents/projets/ntealan/dev/SCIA-CRF_LF/data_source/masakhane-ner/MasakhaNER2.0/data/bbj')\n",
    "dev_data_path   = bbj_ner_path / 'dev.txt'\n",
    "train_data_path = bbj_ner_path / 'train.txt'\n",
    "test_data_path  = bbj_ner_path / 'test.txt'\n",
    "\n",
    "\n",
    "def check_ner_type(ner_data):\n",
    "    if 'I-DATE' in ner_data or 'B-LOC' in ner_data or 'B-PER' in ner_data \\\n",
    "        or 'I-PER' in ner_data or 'B-DATE' in ner_data or 'B-ORG' in ner_data \\\n",
    "        or 'I-ORG' in ner_data or 'I-LOC' in ner_data:\n",
    "        return True\n",
    "    else: return False\n",
    "\n",
    "# function that read IOB file and build data structure for train, test and dev\n",
    "def read_format_iob_data(filename):\n",
    "    sents_id, words, iob_tag = [], [], []\n",
    "    all_extracted_data, only_ner_data, o_ner_data = [], [], []\n",
    "    with open(filename, encoding='utf-8') as iob:\n",
    "        sentence, id_sent, tags = [], 1, []\n",
    "        for line in iob:\n",
    "            if len(line) > 1:\n",
    "                word, tag = line.strip().split(' ')\n",
    "                sentence.append((word, tag))\n",
    "                sents_id.append(id_sent)\n",
    "                words.append(word)\n",
    "                iob_tag.append(tag)\n",
    "                tags.append(tag)\n",
    "            else:\n",
    "                if sentence[-1] != '.': \n",
    "                    sentence.append(('.', 'O'))\n",
    "                    words.append('.')\n",
    "                    iob_tag.append('O')\n",
    "                sents_id.append(id_sent)\n",
    "                all_extracted_data.append(sentence)\n",
    "                if check_ner_type(tags): only_ner_data.append(sentence)\n",
    "                else: o_ner_data.append(sentence)\n",
    "                sentence = []\n",
    "                id_sent += 1\n",
    "                tags = []\n",
    "    dataframe = {\"sentence_id\": sents_id, \"word\": words, \"iob_tag\": iob_tag}\n",
    "    pd_iob_data = pd.DataFrame.from_dict(dataframe)\n",
    "    return all_extracted_data, pd_iob_data, only_ner_data, o_ner_data\n",
    "# "
   ]
  },
  {
   "cell_type": "code",
   "execution_count": 3,
   "metadata": {},
   "outputs": [
    {
     "name": "stdout",
     "output_type": "stream",
     "text": [
      "Total number of sentences in the train dataset: 3,384\n",
      "Total words in the train dataset: 50,623\n",
      "Total number of sentences in the test dataset: 966\n",
      "Total words in the test dataset: 15,924\n",
      "Total number of sentences in the dev dataset: 483\n",
      "Total words in the dev dataset: 7,745\n"
     ]
    }
   ],
   "source": [
    "# read and extract iob data\n",
    "extracted_train_data, pd_train_data, only_train_ner_data, o_train_ner_data = read_format_iob_data(train_data_path)\n",
    "extracted_test_data, pd_test_data, only_test_ner_data, o_test_ner_data = read_format_iob_data(test_data_path)\n",
    "extracted_dev_data, pd_dev_data, only_dev_ner_data, o_dev_ner_data = read_format_iob_data(dev_data_path)\n",
    "\n",
    "# quelques stats liminaires\n",
    "print(\"Total number of sentences in the train dataset: {:,}\".format(pd_train_data[\"sentence_id\"].nunique()))\n",
    "print(\"Total words in the train dataset: {:,}\".format(pd_train_data.shape[0]))\n",
    "print(\"Total number of sentences in the test dataset: {:,}\".format(pd_test_data[\"sentence_id\"].nunique()))\n",
    "print(\"Total words in the test dataset: {:,}\".format(pd_test_data.shape[0]))\n",
    "print(\"Total number of sentences in the dev dataset: {:,}\".format(pd_dev_data[\"sentence_id\"].nunique()))\n",
    "print(\"Total words in the dev dataset: {:,}\".format(pd_dev_data.shape[0]))\n"
   ]
  },
  {
   "cell_type": "code",
   "execution_count": 10,
   "metadata": {},
   "outputs": [
    {
     "ename": "ModuleNotFoundError",
     "evalue": "No module named 'iteration_utilities'",
     "output_type": "error",
     "traceback": [
      "\u001b[0;31m---------------------------------------------------------------------------\u001b[0m",
      "\u001b[0;31mModuleNotFoundError\u001b[0m                       Traceback (most recent call last)",
      "Input \u001b[0;32mIn [10]\u001b[0m, in \u001b[0;36m<cell line: 1>\u001b[0;34m()\u001b[0m\n\u001b[0;32m----> 1\u001b[0m \u001b[38;5;28;01mfrom\u001b[39;00m \u001b[38;5;21;01miteration_utilities\u001b[39;00m \u001b[38;5;28;01mimport\u001b[39;00m unique_everseen\n\u001b[1;32m      3\u001b[0m \u001b[38;5;28;01mdef\u001b[39;00m \u001b[38;5;21mextract_iob_group_entities\u001b[39m(data, output_format\u001b[38;5;241m=\u001b[39m\u001b[38;5;124m'\u001b[39m\u001b[38;5;124mdict\u001b[39m\u001b[38;5;124m'\u001b[39m, remove_duplicates\u001b[38;5;241m=\u001b[39m\u001b[38;5;28;01mFalse\u001b[39;00m):\n\u001b[1;32m      4\u001b[0m     results \u001b[38;5;241m=\u001b[39m []\n",
      "\u001b[0;31mModuleNotFoundError\u001b[0m: No module named 'iteration_utilities'"
     ]
    }
   ],
   "source": [
    "from iteration_utilities import unique_everseen\n",
    "\n",
    "def extract_iob_group_entities(data, output_format='dict', remove_duplicates=False):\n",
    "    results = []\n",
    "    match_group, b, i = [], False, False\n",
    "    for w in data:\n",
    "        if w[1].startswith('B') and not i and not b: \n",
    "            match_group.append(w)\n",
    "            b = True\n",
    "        elif w[1].startswith('I') and b and not i:\n",
    "            match_group.append(w)\n",
    "            i = True\n",
    "            b = False\n",
    "        elif w[1].startswith('I') and not b:\n",
    "            match_group.append(w)\n",
    "            i = True\n",
    "        elif w[1].startswith('B') and i and not b: \n",
    "            results.append(match_group)\n",
    "            match_group, b, i = [], True, False\n",
    "            match_group.append(w)\n",
    "        elif w[1].startswith('B') and not i and b: \n",
    "            results.append(match_group)\n",
    "            match_group = []\n",
    "            match_group.append(w)            \n",
    "        else:\n",
    "            print('----------------', w)\n",
    "\n",
    "    if remove_duplicates:\n",
    "        results = list(unique_everseen(results, key=list))\n",
    "\n",
    "    if output_format == 'dict':\n",
    "        results = [dict(x) for x in results]\n",
    "\n",
    "    return results\n",
    "\n",
    "def detect_iob_tag_position(iob_sent): \n",
    "    results = []\n",
    "    match_group, b, i = [], False, False\n",
    "    for id, w in enumerate(iob_sent):\n",
    "        v = list(w)\n",
    "        if w[1].startswith('B') and not i and not b: \n",
    "            v.append(id)\n",
    "            match_group.append(v)\n",
    "            b = True\n",
    "        elif w[1].startswith('I') and b and not i:\n",
    "            v.append(id)\n",
    "            match_group.append(v)\n",
    "            i = True\n",
    "            b = False\n",
    "        elif w[1].startswith('I') and not b:\n",
    "            v.append(id)\n",
    "            match_group.append(v)\n",
    "            i = True\n",
    "        elif w[1].startswith('B') and i and not b: \n",
    "            results.append(match_group)\n",
    "            match_group, b, i = [], True, False\n",
    "            v.append(id)\n",
    "            match_group.append(v)\n",
    "        elif w[1].startswith('B') and not i and b: \n",
    "            results.append(match_group)\n",
    "            match_group = []\n",
    "            v.append(id)\n",
    "            match_group.append(v)\n",
    "        if len(iob_sent)==id+1 and len(match_group) == 1 and len(results) == 0:\n",
    "            results.append(match_group)\n",
    "        elif len(iob_sent)==id+1: results.append(match_group)\n",
    "\n",
    "    return results\n",
    "    \n",
    "def detect_iob_type(data):\n",
    "    out = [x[1] for x in data][0].split('-')[1]\n",
    "    return out\n",
    "\n",
    "\n",
    "#print(org_list[0:12])\n",
    "#org_list_group   = extract_iob_group_entities(org_list, output_format='list', remove_duplicates=True)\n",
    "#date_list_group = extract_iob_group_entities(date_list)\n",
    "#loc_list_group  = extract_iob_group_entities(loc_list)\n",
    "#per_list_group  = extract_iob_group_entities(per_list)\n",
    "#org_list_group[:12]\n",
    "#print(only_train_ner_data[10])\n",
    "\n",
    "\n",
    "data_extract = [('Mdyə̂faʼ', 'O'), ('mtəŋláʼ', 'B-LOC'), ('shyə̂ŋkaʼ', 'I-LOC'), (',', 'O'), \n",
    "('təŋláʼ', 'B-LOC'), ('ŋkaʼ', 'I-LOC'), ('gə́', 'O'), ('təŋláʼ', 'O'), \n",
    "('Adamáwǎ', 'B-LOC'), ('kuʼ', 'O'), ('dəŋ', 'O'), ('é', 'O'), ('.', 'O'), ('.', 'O')]\n",
    "#detect_iob_tag_position(data_extract)\n",
    "\n",
    "#results_augment = augment_sentence(sent, list_ent_aug=ents_groups)\n",
    "#for sent in results_augment: print('\\t', \" \".join([i[0] for i in sent]))"
   ]
  },
  {
   "cell_type": "code",
   "execution_count": 11,
   "metadata": {},
   "outputs": [],
   "source": [
    "\n",
    "def augment_sentence(sentence, list_ent_aug=None):\n",
    "    # pour la phrase en entrée, générer n phrases supplémentaires à partir \n",
    "    # des entités fournies\n",
    "    word_positions = detect_iob_tag_position(sentence)\n",
    "    results_aug = []\n",
    "    #print('\\n=> ', \" \".join([i[0] for i in sentence]), '---', word_positions, end='\\n\\n')\n",
    "    for word in word_positions:\n",
    "        tag = detect_iob_type(word)\n",
    "        sent_aug = []\n",
    "        for entity in list_ent_aug[tag]:\n",
    "            pos = [x[2] for x in word]\n",
    "            for i, x in enumerate(sentence):\n",
    "                if i not in pos: sent_aug.append(x)\n",
    "                else: \n",
    "                    #print(x)\n",
    "                    if entity[0] not in sent_aug and word not in entity: \n",
    "                        for e in entity: sent_aug.append(e)\n",
    "\n",
    "            if sent_aug not in results_aug: \n",
    "                results_aug.append(sent_aug)\n",
    "            sent_aug = []\n",
    "                \n",
    "            #print('---', word, '---', pos, ' --- ',entity)\n",
    "            #print('\\n---> ', results_aug)\n",
    "    return results_aug\n",
    "\n",
    "\n",
    "def augment_ner_iob_data(train_data):\n",
    "    \"\"\"Position to position augmentation: generate alternate sentence base on \n",
    "    entities position of the sentence and all others entities groups\n",
    "\n",
    "    Args:\n",
    "        train_data (list): list of input sentences in iob format\n",
    "\n",
    "    Returns:\n",
    "        list: list of generate alternate sentences\n",
    "    \"\"\"\n",
    "    org_list  = [x for sent in train_data for x in sent if x[1] in ['B-ORG','I-ORG']]\n",
    "    date_list = [x for sent in train_data for x in sent if x[1] in ['B-DATE','I-DATE']]\n",
    "    loc_list  = [x for sent in train_data for x in sent if x[1] in ['B-LOC','I-LOC']]\n",
    "    per_list  = [x for sent in train_data for x in sent if x[1] in ['B-PER','I-PER']]\n",
    "    \n",
    "    org_list_group  = extract_iob_group_entities(org_list, output_format='list', remove_duplicates=True)\n",
    "    date_list_group = extract_iob_group_entities(date_list, output_format='list', remove_duplicates=True)\n",
    "    loc_list_group  = extract_iob_group_entities(loc_list, output_format='list', remove_duplicates=True)\n",
    "    per_list_group  = extract_iob_group_entities(per_list, output_format='list', remove_duplicates=True)\n",
    "\n",
    "    ents_groups = {'ORG': org_list_group, 'LOC': loc_list_group, \n",
    "        'PER': per_list_group, 'DATE': date_list_group\n",
    "    }\n",
    "\n",
    "    augment_sentences_train = train_data.copy()\n",
    "    for sentence in train_data:\n",
    "        results_augment = augment_sentence(sentence, list_ent_aug=ents_groups)\n",
    "        augment_sentences_train = results_augment + augment_sentences_train\n",
    "\n",
    "    return augment_sentences_train\n",
    "    "
   ]
  },
  {
   "cell_type": "code",
   "execution_count": 12,
   "metadata": {},
   "outputs": [],
   "source": [
    "def list_to_pd_format(data):\n",
    "    sent_id, ids, words, tags = 1, [], [], []\n",
    "    for sent in data:\n",
    "        for word in sent:\n",
    "            if word[0] != '.':\n",
    "                ids.append(sent_id)\n",
    "                words.append(word[0])\n",
    "                tags.append(word[1])\n",
    "            else:\n",
    "                ids.append(sent_id)\n",
    "                words.append(word[0])\n",
    "                tags.append(word[1])\n",
    "                sent_id += 1\n",
    "                \n",
    "    dataframe = {\"sentence_id\": ids, \"word\": words, \"iob_tag\": tags}\n",
    "    pd_iob_data = pd.DataFrame.from_dict(dataframe)\n",
    "    return pd_iob_data"
   ]
  },
  {
   "cell_type": "code",
   "execution_count": 13,
   "metadata": {},
   "outputs": [
    {
     "ename": "NameError",
     "evalue": "name 'extract_iob_group_entities' is not defined",
     "output_type": "error",
     "traceback": [
      "\u001b[0;31m---------------------------------------------------------------------------\u001b[0m",
      "\u001b[0;31mNameError\u001b[0m                                 Traceback (most recent call last)",
      "Input \u001b[0;32mIn [13]\u001b[0m, in \u001b[0;36m<cell line: 1>\u001b[0;34m()\u001b[0m\n\u001b[0;32m----> 1\u001b[0m augmented_train_ner_data \u001b[38;5;241m=\u001b[39m \u001b[43maugment_ner_iob_data\u001b[49m\u001b[43m(\u001b[49m\u001b[43monly_train_ner_data\u001b[49m\u001b[43m)\u001b[49m\n\u001b[1;32m      3\u001b[0m \u001b[38;5;28mprint\u001b[39m(\u001b[38;5;124mf\u001b[39m\u001b[38;5;124m'\u001b[39m\u001b[38;5;124m Train data: \u001b[39m\u001b[38;5;132;01m{\u001b[39;00m\u001b[38;5;28mlen\u001b[39m(only_train_ner_data)\u001b[38;5;132;01m}\u001b[39;00m\u001b[38;5;124m \u001b[39m\u001b[38;5;130;01m\\n\u001b[39;00m\u001b[38;5;124m Augmented data: \u001b[39m\u001b[38;5;132;01m{\u001b[39;00m\u001b[38;5;28mlen\u001b[39m(augmented_train_ner_data)\u001b[38;5;132;01m}\u001b[39;00m\u001b[38;5;124m'\u001b[39m)\n",
      "Input \u001b[0;32mIn [11]\u001b[0m, in \u001b[0;36maugment_ner_iob_data\u001b[0;34m(train_data)\u001b[0m\n\u001b[1;32m     40\u001b[0m loc_list  \u001b[38;5;241m=\u001b[39m [x \u001b[38;5;28;01mfor\u001b[39;00m sent \u001b[38;5;129;01min\u001b[39;00m train_data \u001b[38;5;28;01mfor\u001b[39;00m x \u001b[38;5;129;01min\u001b[39;00m sent \u001b[38;5;28;01mif\u001b[39;00m x[\u001b[38;5;241m1\u001b[39m] \u001b[38;5;129;01min\u001b[39;00m [\u001b[38;5;124m'\u001b[39m\u001b[38;5;124mB-LOC\u001b[39m\u001b[38;5;124m'\u001b[39m,\u001b[38;5;124m'\u001b[39m\u001b[38;5;124mI-LOC\u001b[39m\u001b[38;5;124m'\u001b[39m]]\n\u001b[1;32m     41\u001b[0m per_list  \u001b[38;5;241m=\u001b[39m [x \u001b[38;5;28;01mfor\u001b[39;00m sent \u001b[38;5;129;01min\u001b[39;00m train_data \u001b[38;5;28;01mfor\u001b[39;00m x \u001b[38;5;129;01min\u001b[39;00m sent \u001b[38;5;28;01mif\u001b[39;00m x[\u001b[38;5;241m1\u001b[39m] \u001b[38;5;129;01min\u001b[39;00m [\u001b[38;5;124m'\u001b[39m\u001b[38;5;124mB-PER\u001b[39m\u001b[38;5;124m'\u001b[39m,\u001b[38;5;124m'\u001b[39m\u001b[38;5;124mI-PER\u001b[39m\u001b[38;5;124m'\u001b[39m]]\n\u001b[0;32m---> 43\u001b[0m org_list_group  \u001b[38;5;241m=\u001b[39m \u001b[43mextract_iob_group_entities\u001b[49m(org_list, output_format\u001b[38;5;241m=\u001b[39m\u001b[38;5;124m'\u001b[39m\u001b[38;5;124mlist\u001b[39m\u001b[38;5;124m'\u001b[39m, remove_duplicates\u001b[38;5;241m=\u001b[39m\u001b[38;5;28;01mTrue\u001b[39;00m)\n\u001b[1;32m     44\u001b[0m date_list_group \u001b[38;5;241m=\u001b[39m extract_iob_group_entities(date_list, output_format\u001b[38;5;241m=\u001b[39m\u001b[38;5;124m'\u001b[39m\u001b[38;5;124mlist\u001b[39m\u001b[38;5;124m'\u001b[39m, remove_duplicates\u001b[38;5;241m=\u001b[39m\u001b[38;5;28;01mTrue\u001b[39;00m)\n\u001b[1;32m     45\u001b[0m loc_list_group  \u001b[38;5;241m=\u001b[39m extract_iob_group_entities(loc_list, output_format\u001b[38;5;241m=\u001b[39m\u001b[38;5;124m'\u001b[39m\u001b[38;5;124mlist\u001b[39m\u001b[38;5;124m'\u001b[39m, remove_duplicates\u001b[38;5;241m=\u001b[39m\u001b[38;5;28;01mTrue\u001b[39;00m)\n",
      "\u001b[0;31mNameError\u001b[0m: name 'extract_iob_group_entities' is not defined"
     ]
    }
   ],
   "source": [
    "augmented_train_ner_data = augment_ner_iob_data(only_train_ner_data)\n",
    "\n",
    "print(f' Train data: {len(only_train_ner_data)} \\n Augmented data: {len(augmented_train_ner_data)}')"
   ]
  },
  {
   "cell_type": "code",
   "execution_count": 12,
   "metadata": {},
   "outputs": [
    {
     "data": {
      "text/html": [
       "<div>\n",
       "<style scoped>\n",
       "    .dataframe tbody tr th:only-of-type {\n",
       "        vertical-align: middle;\n",
       "    }\n",
       "\n",
       "    .dataframe tbody tr th {\n",
       "        vertical-align: top;\n",
       "    }\n",
       "\n",
       "    .dataframe thead th {\n",
       "        text-align: right;\n",
       "    }\n",
       "</style>\n",
       "<table border=\"1\" class=\"dataframe\">\n",
       "  <thead>\n",
       "    <tr style=\"text-align: right;\">\n",
       "      <th></th>\n",
       "      <th>sentence_id</th>\n",
       "      <th>word</th>\n",
       "      <th>iob_tag</th>\n",
       "    </tr>\n",
       "  </thead>\n",
       "  <tbody>\n",
       "    <tr>\n",
       "      <th>0</th>\n",
       "      <td>1</td>\n",
       "      <td>A</td>\n",
       "      <td>O</td>\n",
       "    </tr>\n",
       "    <tr>\n",
       "      <th>1</th>\n",
       "      <td>1</td>\n",
       "      <td>shə́ŋ</td>\n",
       "      <td>O</td>\n",
       "    </tr>\n",
       "    <tr>\n",
       "      <th>2</th>\n",
       "      <td>1</td>\n",
       "      <td>gaə́</td>\n",
       "      <td>O</td>\n",
       "    </tr>\n",
       "    <tr>\n",
       "      <th>3</th>\n",
       "      <td>1</td>\n",
       "      <td>DG</td>\n",
       "      <td>O</td>\n",
       "    </tr>\n",
       "    <tr>\n",
       "      <th>4</th>\n",
       "      <td>1</td>\n",
       "      <td>Cameroon</td>\n",
       "      <td>B-ORG</td>\n",
       "    </tr>\n",
       "    <tr>\n",
       "      <th>...</th>\n",
       "      <td>...</td>\n",
       "      <td>...</td>\n",
       "      <td>...</td>\n",
       "    </tr>\n",
       "    <tr>\n",
       "      <th>20391456</th>\n",
       "      <td>1906795</td>\n",
       "      <td>pú</td>\n",
       "      <td>O</td>\n",
       "    </tr>\n",
       "    <tr>\n",
       "      <th>20391457</th>\n",
       "      <td>1906795</td>\n",
       "      <td>pútə́</td>\n",
       "      <td>O</td>\n",
       "    </tr>\n",
       "    <tr>\n",
       "      <th>20391458</th>\n",
       "      <td>1906795</td>\n",
       "      <td>é</td>\n",
       "      <td>O</td>\n",
       "    </tr>\n",
       "    <tr>\n",
       "      <th>20391459</th>\n",
       "      <td>1906795</td>\n",
       "      <td>lə</td>\n",
       "      <td>O</td>\n",
       "    </tr>\n",
       "    <tr>\n",
       "      <th>20391460</th>\n",
       "      <td>1906795</td>\n",
       "      <td>.</td>\n",
       "      <td>O</td>\n",
       "    </tr>\n",
       "  </tbody>\n",
       "</table>\n",
       "<p>20391461 rows × 3 columns</p>\n",
       "</div>"
      ],
      "text/plain": [
       "          sentence_id      word iob_tag\n",
       "0                   1         A       O\n",
       "1                   1     shə́ŋ       O\n",
       "2                   1      gaə́       O\n",
       "3                   1        DG       O\n",
       "4                   1  Cameroon   B-ORG\n",
       "...               ...       ...     ...\n",
       "20391456      1906795       pú       O\n",
       "20391457      1906795    pútə́       O\n",
       "20391458      1906795        é       O\n",
       "20391459      1906795        lə       O\n",
       "20391460      1906795         .       O\n",
       "\n",
       "[20391461 rows x 3 columns]"
      ]
     },
     "execution_count": 12,
     "metadata": {},
     "output_type": "execute_result"
    }
   ],
   "source": [
    "pd_augment_ner_iob_data = list_to_pd_format(augmented_train_ner_data)\n",
    "pd_augment_ner_iob_data"
   ]
  },
  {
   "cell_type": "markdown",
   "metadata": {},
   "source": [
    "# Analyzing data "
   ]
  },
  {
   "cell_type": "code",
   "execution_count": 13,
   "metadata": {},
   "outputs": [],
   "source": [
    "from matplotlib import pyplot as plt\n",
    "import numpy as np"
   ]
  },
  {
   "cell_type": "code",
   "execution_count": null,
   "metadata": {},
   "outputs": [],
   "source": [
    "# quantification des tags/phrases dans le corpus d'entrainement\n",
    "# credit: https://github.com/6chaoran/jupyter-summarytools\n",
    "from summarytools import dfSummary, tabset\n",
    "\n",
    "tabset({\n",
    "    \"train_data\": dfSummary(pd_augment_ner_iob_data).render(),\n",
    "    \"test_data\": dfSummary(pd_test_data).render(),\n",
    "    \"dev_data\": dfSummary(pd_dev_data).render()\n",
    "})\n",
    "\n",
    "# Un controle visuel des données et ce tableau montre clairement qu'il y a \n",
    "# des problématiques de cohérence d'annotations avec l'usage du format IOB."
   ]
  },
  {
   "cell_type": "code",
   "execution_count": 14,
   "metadata": {},
   "outputs": [
    {
     "data": {
      "text/plain": [
       "<AxesSubplot: >"
      ]
     },
     "execution_count": 14,
     "metadata": {},
     "output_type": "execute_result"
    },
    {
     "data": {
      "image/png": "[encoded data removed]",
      "text/plain": [
       "<Figure size 1000x500 with 1 Axes>"
      ]
     },
     "metadata": {},
     "output_type": "display_data"
    }
   ],
   "source": [
    "\n",
    "pd_augment_ner_iob_data[pd_augment_ner_iob_data.iob_tag != 'O'][\"iob_tag\"]\\\n",
    ".value_counts().plot(kind=\"bar\", figsize=(10,5))\n",
    "\n",
    "# On remarque ici que le tag date représente 40% des tags (en position I ou B)"
   ]
  },
  {
   "cell_type": "code",
   "execution_count": 17,
   "metadata": {},
   "outputs": [
    {
     "name": "stdout",
     "output_type": "stream",
     "text": [
      "La phrase la plus longue contient 59 mots.\n",
      "ID de la plus longue phrase 118931.\n",
      "\n",
      "La phrase la plus longue du corpus est:\n",
      " Nwə yə pú kə yɔ̌ Fəládɛ̂ dɔ̂lɔ̌ Pásə́kà Tyə́ʼ kwɔ̂ʼ kɛ́bəŋ Yésô Tyə́ʼ fîʼ zhwenyə dɔ̂lɔ̌ Tyə́ʼ kwɔ̂ʼ kɛ́bəŋ Malyâ Krǐsì Lamadâŋ Laʼnwə mjʉ̀jʉ̀ Tá lə Ondo André Marie ( Mle 599 438 - T ) Tâdyə̌ mkətú' bə ě tʉɔthə́ bí pə dzə̌ é nə́ŋ cyə̂ mnə́ hɔ̂ bí nə́ pîŋ pú a fa' yə pǐŋ lə .\n"
     ]
    },
    {
     "data": {
      "image/png": "[encoded data removed]",
      "text/plain": [
       "<Figure size 800x600 with 1 Axes>"
      ]
     },
     "metadata": {},
     "output_type": "display_data"
    }
   ],
   "source": [
    "\n",
    "word_counts = pd_augment_ner_iob_data.groupby(\"sentence_id\")[\"word\"].agg([\"count\"])\n",
    "word_counts = word_counts.rename(columns={\"count\": \"Word count\"})\n",
    "word_counts.hist(bins=25, figsize=(8,6))\n",
    "\n",
    "# On constate que le nombre de mots moyens par phrase est de 15\n",
    "MAX_LENGTH_SENTENCE = word_counts.max()[0]\n",
    "print(\"La phrase la plus longue contient {} mots.\".format(MAX_LENGTH_SENTENCE))\n",
    "longest_sentence_id = word_counts[word_counts[\"Word count\"]==MAX_LENGTH_SENTENCE].index[0]\n",
    "print(\"ID de la plus longue phrase {}.\".format(longest_sentence_id))\n",
    "longest_sentence = pd_augment_ner_iob_data[pd_augment_ner_iob_data[\"sentence_id\"]==longest_sentence_id][\"word\"].str.cat(sep=' ')\n",
    "print(f\"\\nLa phrase la plus longue du corpus est:\\n {longest_sentence}\")\n"
   ]
  },
  {
   "cell_type": "code",
   "execution_count": 19,
   "metadata": {},
   "outputs": [
    {
     "name": "stdout",
     "output_type": "stream",
     "text": [
      "Nombre de mots uniques: 6176\n",
      "Nombre de tags uniques : 9\n"
     ]
    }
   ],
   "source": [
    "all_words = list(set(pd_augment_ner_iob_data[\"word\"].values))\n",
    "all_tags = list(set(pd_augment_ner_iob_data[\"iob_tag\"].values))\n",
    "\n",
    "print(\"Nombre de mots uniques: {}\".format(pd_augment_ner_iob_data[\"word\"].nunique()))\n",
    "print(\"Nombre de tags uniques : {}\".format(pd_augment_ner_iob_data[\"iob_tag\"].nunique()))"
   ]
  },
  {
   "cell_type": "markdown",
   "metadata": {},
   "source": [
    "# Features engineering"
   ]
  },
  {
   "cell_type": "code",
   "execution_count": 20,
   "metadata": {},
   "outputs": [],
   "source": [
    "import unidecode\n",
    "import re\n",
    "from datetime import datetime\n",
    "import string\n",
    "import math\n",
    "import unicodedata"
   ]
  },
  {
   "cell_type": "code",
   "execution_count": 21,
   "metadata": {},
   "outputs": [
    {
     "name": "stdout",
     "output_type": "stream",
     "text": [
      "['°', 'ó', 'ə', '̂', 'î', 'ù', '̣', 'ɨ', 'ǒ', '̀', 'ʼ', 'ǎ', 'â', 'ú', '́', 'ê', 'ɔ', 'œ', 'ǐ', 'è', 'ŋ', 'ò', 'ɑ', 'í', 'ʉ', '᷅', '᷆', 'ç', 'ô', 'ì', '̌', 'ɓ', 'ɛ', 'é', 'ï', 'û', 'ǔ', 'ꞌ', 'ǝ', 'ě', 'ͻ', '̧', 'ᵾ', 'ë', 'ş', 'à', 'á', '©']\n"
     ]
    }
   ],
   "source": [
    "words_caracters = set([y.lower() for x in all_words for y in x])\n",
    "all_caracters = string.punctuation+string.ascii_letters+string.digits+''\n",
    "tone_caracters = list(set([x for x in words_caracters if x not in all_caracters]))\n",
    "cpm_search = re.compile(str(tone_caracters))\n",
    "print(tone_caracters)"
   ]
  },
  {
   "cell_type": "code",
   "execution_count": 22,
   "metadata": {},
   "outputs": [
    {
     "name": "stdout",
     "output_type": "stream",
     "text": [
      "['n', 't', 'â', 'm', 'g', 'ǒ']\n",
      "['°', 'ó', 'ə', '̂', 'î', 'ù', '̣', 'ɨ', 'ǒ', '̀', 'ʼ', 'ǎ', 'â', 'ú', '́', 'ê', 'ɔ', 'œ', 'ǐ', 'è', 'ŋ', 'ò', 'ɑ', 'í', 'ʉ', '᷅', '᷆', 'ç', 'ô', 'ì', '̌', 'ɓ', 'ɛ', 'é', 'ï', 'û', 'ǔ', 'ꞌ', 'ǝ', 'ě', 'ͻ', '̧', 'ᵾ', 'ë', 'ş', 'à', 'á', '©'] ́ ̄ ̀ ̌ ̂ \n",
      "6 2 2 ---̀ ̀\n"
     ]
    }
   ],
   "source": [
    "bantou_tones = [f\"{x} \" for x in \" ́̄̀̌̂\" if x != \" \"]\n",
    "string_tones = \"\".join(bantou_tones)\n",
    "tones_search = re.compile(string_tones)\n",
    "print([x for x in \"ntâmgǒ\"])\n",
    "print(tone_caracters, string_tones)\n",
    "\n",
    "bantou_letters = string.ascii_letters+\"ǝɔᵾɓɨşœɑʉɛɗŋøẅëïə\"\n",
    "\n",
    "\n",
    "def remove_accents(input_str):\n",
    "    nfkd_form = unicodedata.normalize('NFKD', input_str)\n",
    "    #print([x for x in nfkd_form if x not in string.ascii_letters])\n",
    "    only_ascii = nfkd_form.encode('ASCII', 'ignore')\n",
    "    return only_ascii.decode('utf8')\n",
    "\n",
    "def extract_tone(input_str):\n",
    "    nfkd_form = unicodedata.normalize('NFKD', input_str)\n",
    "    #print([x for x in nfkd_form if x not in string.ascii_letters])\n",
    "    tones = [x for x in nfkd_form if x not in bantou_letters]\n",
    "    return \" \".join(tones)\n",
    "\n",
    "def number_tone_word(input_str):\n",
    "    nfkd_form = unicodedata.normalize('NFKD', input_str)\n",
    "    len_tone_str = len([x for x in nfkd_form if x not in bantou_letters])\n",
    "    return len_tone_str\n",
    "\n",
    "def word_decomposition(input_str):\n",
    "    nfkd_form = unicodedata.normalize('NFKD', input_str)\n",
    "    word_decomp = \" \".join([x for x in nfkd_form ])\n",
    "    return word_decomp\n",
    "\n",
    "def compare_two_words(input_str1, input_str2):\n",
    "    nfkd_form1 = unicodedata.normalize('NFKD', input_str1)\n",
    "    nfkd_form2 = unicodedata.normalize('NFKD', input_str2)\n",
    "    len_tone_str1 = len([x for x in nfkd_form1 if x not in bantou_letters])\n",
    "    len_tone_str2 = len([x for x in nfkd_form2 if x not in bantou_letters])\n",
    "    only_ascii = nfkd_form1.encode('ASCII', 'ignore')\n",
    "    return only_ascii.decode('utf8')\n",
    "\n",
    "non_tone = remove_accents(\"fə̀fə̀\")\n",
    "print(len(\"fə̀fə̀\"), len(non_tone), number_tone_word(\"fə̀fə̀\"), \n",
    "      \"---\"+extract_tone(\"fə̀fə̀\"))"
   ]
  },
  {
   "cell_type": "code",
   "execution_count": 23,
   "metadata": {},
   "outputs": [],
   "source": [
    "# l'ajout des tags suivants au mot courant améliore signficativement le modèle\n",
    "# l'ajout des informations sur les tons\n",
    "\n",
    "def word2features(sent, i):\n",
    "    word = sent[i][0]\n",
    "    tagword = sent[i][1]\n",
    "    len_tone = number_tone_word(word)\n",
    "    len_word = len(word) / 2\n",
    "    features = {\n",
    "        'bias': 1.0,\n",
    "        'word': word,\n",
    "        'word.tones': extract_tone(word),\n",
    "        'word.normalized': unicodedata.normalize('NFKD', word),\n",
    "        'word.letters': word_decomposition(word),\n",
    "        'word.position': i,\n",
    "        #'word[:3]': word[:3], impacte négativement les résultats\n",
    "        #'word[:2]': word[:2],\n",
    "        #'word[-3:]': word[-3:],\n",
    "        #'word[-2:]': word[-2:],\n",
    "        #'word.middle_start': word[:int(len_word)],\n",
    "        #'word.middle_end': word[int(len_word):],\n",
    "        'word.has_hyphen': '-' in word,\n",
    "        #'word.unaccent': remove_accents(word),\n",
    "        'word.lower()': word.lower(),\n",
    "        'word.start_with_capital': word[0].isupper(),\n",
    "        'word.have_tone': True if len_tone>0 else False,\n",
    "        'word.len_tones': len_tone,\n",
    "        'word.ispunctuation': (word in string.punctuation),\n",
    "        'word.isdigit()': word.isdigit()\n",
    "    }\n",
    "    if word == '.': features['EOS'] = True\n",
    "\n",
    "    if i > 0:\n",
    "        word1 = sent[i-1][0]\n",
    "        tagword1 = sent[i-1][1]\n",
    "        len_tone1 = number_tone_word(word1)\n",
    "        len_word1 = len(word1) / 2\n",
    "        features.update({\n",
    "            '-1:word': word1,\n",
    "            '-1:word.position': i-1,\n",
    "            '-1:word.letters': word_decomposition(word1),\n",
    "            '-1:word.normalized': unicodedata.normalize('NFKD', word1),\n",
    "            '-1:word.start_with_capital': word1[0].isupper(),\n",
    "            '-1:len(word1)': len(word1),\n",
    "            '-1:word.lower()': word1.lower(),\n",
    "            '-1:word.tag()': tagword1,\n",
    "            #'-1:word.unaccent': remove_accents(word1),\n",
    "            #'-1:word.middle_start': word1[:int(len_word1)],\n",
    "            #'-1:word.middle_end': word1[int(len_word1):],\n",
    "            #'-1:word.have_tone': True if len_tone1>0 else False,\n",
    "            #'-1:word.len_tones': len_tone1,\n",
    "            '-1:word.isdigit()': word1.isdigit(),\n",
    "            '-1:word.ispunctuation': (word1 in string.punctuation)\n",
    "        })\n",
    "        if tagword not in ['B-ORG','B-LOC']: features.update({'-1:word.tag()': tagword1})\n",
    "    else: features['BOS'] = True\n",
    "\n",
    "    if i > 1:\n",
    "        word2 = sent[i-2][0]\n",
    "        tagword2 = sent[i-2][1]\n",
    "        len_tone2 = number_tone_word(word2)\n",
    "        len_word2 = len(word2) / 2\n",
    "        features.update({\n",
    "            '-2:word': word2,\n",
    "            '-2:word.position': i-2,\n",
    "            '-2:word.letters': word_decomposition(word2),\n",
    "            '-2:word.normalized': unicodedata.normalize('NFKD', word2),\n",
    "            '-2:word.start_with_capital': word2[0].isupper(),\n",
    "            '-2:len(word2)': len(word2),\n",
    "            '-2:word.lower()': word2.lower(),\n",
    "            '-2:word.tag()': tagword2,\n",
    "            #'-2:word.unaccent': remove_accents(word2),\n",
    "            #'-2:word.middle_start': word2[:int(len_word2)],\n",
    "            #'-2:word.middle_end': word2[int(len_word2):],\n",
    "            #'-2:word.have_tone': True if len_tone2>0 else False,\n",
    "            #'-2:word.len_tones': len_tone2,\n",
    "            '-2:word.isdigit()': word2.isdigit(),\n",
    "            '-2:word.ispunctuation': (word2 in string.punctuation)\n",
    "        })\n",
    "\n",
    "    if i > 2:\n",
    "        word3 = sent[i-3][0]\n",
    "        tagword3 = sent[i-3][1]\n",
    "        len_tone3 = number_tone_word(word3)\n",
    "        len_word3 = len(word3) / 2\n",
    "        features.update({\n",
    "            '-3:word': word3,\n",
    "            '-3:word.position': i+3,\n",
    "            '-3:word.letters': word_decomposition(word3),\n",
    "            '-3:word.normalized': unicodedata.normalize('NFKD', word3),\n",
    "            '-3:word.start_with_capital': word3[0].isupper(),\n",
    "            '-3:len(word3)': len(word3),\n",
    "            '-3:word.tag()': tagword3,\n",
    "            #'-3:word.lower()': word2.lower(),\n",
    "            #'-3:word.unaccent': remove_accents(word2),\n",
    "            #'-3:word.middle_start': word2[:int(len_word2)],\n",
    "            #'-3:word.middle_end': word2[int(len_word2):],\n",
    "            #'-3:word.have_tone': True if len_tone2>0 else False,\n",
    "            #'-3:word.len_tones': len_tone2,\n",
    "            '-3:word.isdigit()': word3.isdigit(),\n",
    "            '-3:word.ispunctuation': (word3 in string.punctuation)\n",
    "        })\n",
    "\n",
    "    if i < len(sent)-1:\n",
    "        word1 = sent[i+1][0]\n",
    "        tagword1 = sent[i+1][1]\n",
    "        len_tone1 = number_tone_word(word1)\n",
    "        len_word1 = len(word1) / 2\n",
    "        features.update({\n",
    "            '+1:word': word1,\n",
    "            '+1:word.position': i+1,\n",
    "            '+1:word.letters': word_decomposition(word1),\n",
    "            '+1:word.normalized': unicodedata.normalize('NFKD', word1),\n",
    "            '+1:word.start_with_capital': word1[0].isupper(),\n",
    "            '+1:len(word2)': len(word1),\n",
    "            '+1:word.lower()': word1.lower(),\n",
    "            '+1:word.tag()': tagword1,\n",
    "            #'+1:word.unaccent': remove_accents(word1),\n",
    "            #'+1:word.middle_start': word1[:int(len_word1)],\n",
    "            #'+1:word.middle_end': word1[int(len_word1):],\n",
    "            #'+1:word.have_tone': True if len_tone1>0 else False,\n",
    "            #'+1:word.len_tones': len_tone1,\n",
    "            '+1:word.isdigit()': word1.isdigit(),\n",
    "            '+1:word.ispunctuation': (word1 in string.punctuation)\n",
    "        })\n",
    " \n",
    "    if i < len(sent)-2:\n",
    "        word2 = sent[i+2][0]\n",
    "        tagword2 = sent[i+2][1]\n",
    "        len_tone2 = number_tone_word(word2)\n",
    "        len_word2 = len(word2) / 2\n",
    "        features.update({\n",
    "            '+2:word': word2,\n",
    "            '+2:word.position': i+2,\n",
    "            '+2:word.letters': word_decomposition(word2),\n",
    "            '+2:word.normalized': unicodedata.normalize('NFKD', word2),\n",
    "            '+2:word.start_with_capital': word2[0].isupper(),\n",
    "            '+2:len(word2)': len(word2),\n",
    "            '+2:word.tag()': tagword2,\n",
    "            #'+2:word.lower()': word2.lower(),\n",
    "            #'+2:word.unaccent': remove_accents(word2),\n",
    "            #'+2:word.middle_start': word2[:int(len_word2)],\n",
    "            #'+2:word.middle_end': word2[int(len_word2):],\n",
    "            #'+2:word.have_tone': True if len_tone2>0 else False,\n",
    "            #'+2:word.len_tones': len_tone2,\n",
    "            '+2:word.isdigit()': word2.isdigit(),\n",
    "            '+2:word.ispunctuation': (word2 in string.punctuation)\n",
    "        })\n",
    "        \n",
    "    if i < len(sent)-3:\n",
    "        word3 = sent[i+3][0]\n",
    "        tagword3 = sent[i+3][1]\n",
    "        len_tone3 = number_tone_word(word3)\n",
    "        len_word3 = len(word3) / 2\n",
    "        features.update({\n",
    "            '+3:word': word3,\n",
    "            '+3:word.position': i+3,\n",
    "            '+3:word.letters': word_decomposition(word3),\n",
    "            '+3:word.normalized': unicodedata.normalize('NFKD', word3),\n",
    "            '+3:word.start_with_capital': word3[0].isupper(),\n",
    "            '+3:len(word3)': len(word3),\n",
    "            '+3:word.tag()': tagword3,\n",
    "            #'+2:word.lower()': word2.lower(),\n",
    "            #'+2:word.unaccent': remove_accents(word2),\n",
    "            #'+2:word.middle_start': word2[:int(len_word2)],\n",
    "            #'+2:word.middle_end': word2[int(len_word2):],\n",
    "            #'+2:word.have_tone': True if len_tone2>0 else False,\n",
    "            #'+2:word.len_tones': len_tone2,\n",
    "            '+3:word.isdigit()': word3.isdigit(),\n",
    "            '+3:word.ispunctuation': (word3 in string.punctuation)\n",
    "        })\n",
    "\n",
    "    return features\n",
    "\n",
    "def sent2features(sent):\n",
    "    return [word2features(sent, i) for i in range(len(sent))]\n",
    "\n",
    "def sent2labels(sent):\n",
    "    return [word[1] for word in sent]\n",
    "\n",
    "def sent2tokens(sent):\n",
    "    return [word[0] for word in sent]\n",
    "\n",
    "def format_data(csv_data):\n",
    "    sents = []\n",
    "    \"\"\"for i in range(len(csv_data)):\n",
    "        if math.isnan(float(csv_data.iloc[i, 0])): continue\n",
    "        elif csv_data.iloc[i, 0] == 1.0:\n",
    "            sents.append([[csv_data.iloc[i, 1], csv_data.iloc[i, 2]]])\n",
    "        else:\n",
    "            try: sents[-1].append([csv_data.iloc[i, 1], csv_data.iloc[i, 2]])\n",
    "            except: print('...', csv_data.iloc[i, 2])\n",
    "    for sent in sents:\n",
    "        for i, word in enumerate(sent):\n",
    "            if type(word[0]) != str:\n",
    "                del sent[i]\"\"\"\n",
    "    return csv_data\n",
    "    "
   ]
  },
  {
   "cell_type": "code",
   "execution_count": 24,
   "metadata": {},
   "outputs": [
    {
     "name": "stdout",
     "output_type": "stream",
     "text": [
      "20391461 15924\n"
     ]
    },
    {
     "ename": "",
     "evalue": "",
     "output_type": "error",
     "traceback": [
      "\u001b[1;31mLe Kernel s’est bloqué lors de l’exécution du code dans la cellule active ou une cellule précédente. Veuillez vérifier le code dans la ou les cellules pour identifier une cause possible de l’échec. Cliquez <a href='https://aka.ms/vscodeJupyterKernelCrash'>ici</a> pour plus d’informations. Pour plus d’informations, consultez Jupyter <a href='command:jupyter.viewOutput'>log</a>."
     ]
    },
    {
     "ename": "",
     "evalue": "",
     "output_type": "error",
     "traceback": [
      "\u001b[1;31mCanceled future for execute_request message before replies were done"
     ]
    }
   ],
   "source": [
    "print(len(pd_augment_ner_iob_data), len(pd_test_data))\n",
    "\n",
    "#train_sents = format_data(pd_train_data)\n",
    "#test_sents = format_data(pd_test_data)\n",
    "#dev_sents = format_data(pd_dev_data)\n",
    "train_sents = [[word for word in sentence] for sentence in augmented_train_ner_data]\n",
    "test_sents = [[word for word in sentence] for sentence in extracted_test_data]\n",
    "dev_sents = [[word for word in sentence] for sentence in extracted_dev_data]\n",
    "\n",
    "Xtrain = [sent2features(s) for s in train_sents]\n",
    "ytrain = [sent2labels(s) for s in train_sents]\n",
    "\n",
    "Xtest = [sent2features(s) for s in test_sents]\n",
    "ytest = [sent2labels(s) for s in test_sents]\n",
    "\n",
    "Xdev = [sent2features(s) for s in dev_sents]\n",
    "ydev = [sent2labels(s) for s in dev_sents]\n",
    "\n"
   ]
  },
  {
   "cell_type": "code",
   "execution_count": null,
   "metadata": {},
   "outputs": [],
   "source": [
    "Xtrain[2]"
   ]
  },
  {
   "cell_type": "markdown",
   "metadata": {},
   "source": [
    "# Modelling"
   ]
  },
  {
   "cell_type": "code",
   "execution_count": null,
   "metadata": {},
   "outputs": [],
   "source": [
    "#import pycrfsuite\n",
    "import sklearn_crfsuite\n",
    "import math, string, re\n",
    "import scipy\n",
    "import joblib\n",
    "from sklearn.metrics import make_scorer\n",
    "from sklearn.metrics import accuracy_score, classification_report\n",
    "from sklearn.model_selection import cross_val_score\n",
    "from sklearn.model_selection import RandomizedSearchCV\n",
    "from sklearn_crfsuite import scorers\n",
    "from sklearn_crfsuite import metrics\n",
    "from itertools import chain\n",
    "from sklearn.preprocessing import MultiLabelBinarizer"
   ]
  },
  {
   "cell_type": "code",
   "execution_count": null,
   "metadata": {},
   "outputs": [],
   "source": [
    "project = \"sangkak-02-2023-aug\"\n",
    "build_date = str(datetime.now()).replace(' ','_')\n",
    "model_name = Path(f\"/home/elvis/Documents/projets/ntealan/dev/SCIA-CRF_LF/training/models/crf_{project}_{build_date}.model\")\n",
    "model_file = str(model_name)\n",
    "file_crf = Path(f\"/home/elvis/Documents/projets/ntealan/dev/SCIA-CRF_LF/training/models/crf_{build_date}.object\")\n",
    "\n",
    "params = {\n",
    "    \"algorithm\": 'lbfgs',\n",
    "    \"c1\": 0.0920512484757745,\n",
    "    \"c2\": 0.0328771171605105, \n",
    "    \"max_iterations\":500,\n",
    "    \"verbose\":True,\n",
    "    \"num_memories\":10000,\n",
    "    \"epsilon\": 1e-3,\n",
    "    \"linesearch\": \"MoreThuente\",\n",
    "    \"max_linesearch\":100000,\n",
    "    \"delta\":1e-4,\n",
    "    #n_job=-1,\n",
    "    #\"c\": 2,\n",
    "    #\"pa_type\": 2,\n",
    "    \"all_possible_states\":True,\n",
    "    \"all_possible_transitions\":True, \n",
    "    \"model_filename\": model_file\n",
    "}\n",
    "crf = sklearn_crfsuite.CRF(**params)\n",
    "\n",
    "crf.fit(Xtrain, ytrain, Xdev, ydev)    \n",
    "\n",
    "final = {\"crf\": crf, \"params\": params}\n",
    "joblib.dump(final, file_crf) \n"
   ]
  },
  {
   "cell_type": "code",
   "execution_count": null,
   "metadata": {},
   "outputs": [],
   "source": [
    "# obtaining metrics such as accuracy, etc. on the train set\n",
    "#crf_model = joblib.load(model_name)\n",
    "#crf, params = crf_model['crf'], crf_model['params'] \n",
    "labels = list(crf.classes_)\n",
    "labels.remove('O')\n",
    "\n",
    "ypred = crf.predict(Xtrain)\n",
    "print('- F1 score on the train set = {}'.format(metrics.flat_f1_score(ytrain, ypred, average='weighted', labels=labels, zero_division=False)))\n",
    "print('- Accuracy on the train set = {}'.format(metrics.flat_accuracy_score(ytrain, ypred)))\n",
    "\n",
    "sorted_labels = sorted(labels, key=lambda name: (name[1:], name[0]))\n",
    "print(sorted_labels)\n",
    "#print('Train set classification report: \\n\\n{}'.format(metrics.flat_classification_report(ytrain, \n",
    "#ypred, labels=sorted_labels, digits=3)))\n",
    "#obtaining metrics such as accuracy, etc. on the test set\n",
    "ypred = crf.predict(Xtest)\n",
    "print('- F1 score on the test set = {}'.format(metrics.flat_f1_score(ytest, ypred, average='weighted', \n",
    "                                                labels=labels, zero_division=False)))\n",
    "print('- Accuracy on the test set = {}'.format(metrics.flat_accuracy_score(ytest, ypred)))\n",
    "print('Train set classification report: \\n\\n{}'.format(metrics.flat_classification_report(ytest, \n",
    "                            ypred, labels=sorted_labels, digits=3)))\n",
    "sorted_labels = sorted(labels, key=lambda name: (name[1:], name[0]))\n",
    "\n"
   ]
  },
  {
   "cell_type": "code",
   "execution_count": null,
   "metadata": {},
   "outputs": [],
   "source": [
    "from collections import Counter\n",
    "\n",
    "def print_transitions(trans_features):\n",
    "    for (label_from, label_to), weight in trans_features:\n",
    "        print(\"%-6s -> %-7s %0.6f\" % (label_from, label_to, weight))\n",
    "\n",
    "print(\"Top likely transitions:\")\n",
    "print_transitions(Counter(crf.transition_features_).most_common(20))\n",
    "\n",
    "print(\"\\nTop unlikely transitions:\")\n",
    "print_transitions(Counter(crf.transition_features_).most_common()[-20:])"
   ]
  },
  {
   "cell_type": "code",
   "execution_count": null,
   "metadata": {
    "scrolled": true
   },
   "outputs": [],
   "source": [
    "def print_state_features(state_features):\n",
    "    for (attr, label), weight in state_features:\n",
    "        print(\"%0.6f %-8s %s\" % (weight, label, attr))\n",
    "\n",
    "print(\"Top positive:\")\n",
    "#print_state_features(Counter(crf.state_features_).most_common(30))\n",
    "\n",
    "print(\"\\nTop negative:\")\n",
    "print_state_features(Counter(crf.state_features_).most_common()[-40:])"
   ]
  },
  {
   "cell_type": "markdown",
   "metadata": {},
   "source": [
    "# Grid search"
   ]
  },
  {
   "cell_type": "code",
   "execution_count": null,
   "metadata": {},
   "outputs": [],
   "source": [
    "scipy.stats.expon(scale=0.1)"
   ]
  },
  {
   "cell_type": "code",
   "execution_count": null,
   "metadata": {},
   "outputs": [],
   "source": [
    "params = {\n",
    "    \"algorithm\": 'lbfgs',\n",
    "    \"max_iterations\":100,\n",
    "    \"verbose\": False,\n",
    "    #\"job\":-1,\n",
    "    \"all_possible_states\":True,\n",
    "    \"all_possible_transitions\":True, \n",
    "    \"model_filename\":model_file\n",
    "}\n",
    "crf_grill = sklearn_crfsuite.CRF(**params)\n",
    "\n",
    "params_space = {\n",
    "    'c1': scipy.stats.expon(scale=0.1),\n",
    "    'c2': scipy.stats.expon(scale=0.05)\n",
    "}\n",
    "\n",
    "# use the same metric for evaluation\n",
    "f1_scorer = make_scorer(metrics.flat_f1_score,\n",
    "                        average='weighted', labels=labels)\n",
    "\n",
    "# search\n",
    "rs = RandomizedSearchCV(crf_grill, params_space,\n",
    "                        cv=3,\n",
    "                        verbose=1,\n",
    "                        n_jobs=5,\n",
    "                        n_iter=50,\n",
    "                        scoring=f1_scorer)\n",
    "rs.fit(Xtrain, ytrain)"
   ]
  },
  {
   "cell_type": "code",
   "execution_count": null,
   "metadata": {},
   "outputs": [],
   "source": [
    "# crf = rs.best_estimator_\n",
    "print('best params:', rs.best_params_)\n",
    "print('best CV score:', rs.best_score_)\n",
    "print('model size: {:0.2f}M'.format(rs.best_estimator_.size_ / 1000000))"
   ]
  },
  {
   "cell_type": "code",
   "execution_count": null,
   "metadata": {},
   "outputs": [],
   "source": [
    "#print(rs.cv_results_)\n",
    "_x = [s['c1'] for s in rs.cv_results_['params']]\n",
    "_y = [s['c2'] for s in rs.cv_results_['params']]\n",
    "_c = [s for s in rs.cv_results_['mean_score_time']]\n",
    "\n",
    "fig = plt.figure()\n",
    "fig.set_size_inches(12, 12)\n",
    "ax = plt.gca()\n",
    "ax.set_yscale('log')\n",
    "ax.set_xscale('log')\n",
    "ax.set_xlabel('C1')\n",
    "ax.set_ylabel('C2')\n",
    "ax.set_title(\"Randomized Hyperparameter Search CV Results (min={:0.3}, max={:0.3})\".format(\n",
    "    min(_c), max(_c)\n",
    "))\n",
    "\n",
    "ax.scatter(_x, _y, c=_c, s=60, alpha=0.9, edgecolors=[0,0,0])\n",
    "\n",
    "print(\"Dark blue => {:0.4}, dark red => {:0.4}\".format(min(_c), max(_c)))"
   ]
  },
  {
   "cell_type": "code",
   "execution_count": null,
   "metadata": {},
   "outputs": [],
   "source": [
    "crf = rs.best_estimator_\n",
    "y_pred = crf.predict(Xtest)\n",
    "print(metrics.flat_classification_report(\n",
    "    ytest, y_pred, labels=sorted_labels, digits=3\n",
    "))"
   ]
  },
  {
   "cell_type": "code",
   "execution_count": null,
   "metadata": {},
   "outputs": [],
   "source": [
    "from collections import Counter\n",
    "\n",
    "def print_transitions(trans_features):\n",
    "    for (label_from, label_to), weight in trans_features:\n",
    "        print(\"%-6s -> %-7s %0.6f\" % (label_from, label_to, weight))\n",
    "\n",
    "print(\"Top likely transitions:\")\n",
    "print_transitions(Counter(crf.transition_features_).most_common(20))\n",
    "\n",
    "print(\"\\nTop unlikely transitions:\")\n",
    "print_transitions(Counter(crf.transition_features_).most_common()[-20:])"
   ]
  },
  {
   "cell_type": "code",
   "execution_count": null,
   "metadata": {},
   "outputs": [],
   "source": [
    "def print_state_features(state_features):\n",
    "    for (attr, label), weight in state_features:\n",
    "        print(\"%0.6f %-8s %s\" % (weight, label, attr))\n",
    "\n",
    "print(\"Top positive:\")\n",
    "print_state_features(Counter(crf.state_features_).most_common(30))\n",
    "\n",
    "print(\"\\nTop negative:\")\n",
    "print_state_features(Counter(crf.state_features_).most_common()[-30:])"
   ]
  }
 ],
 "metadata": {
  "kernelspec": {
   "display_name": "Python 3 (ipykernel)",
   "language": "python",
   "name": "python3"
  },
  "language_info": {
   "codemirror_mode": {
    "name": "ipython",
    "version": 3
   },
   "file_extension": ".py",
   "mimetype": "text/x-python",
   "name": "python",
   "nbconvert_exporter": "python",
   "pygments_lexer": "ipython3",
   "version": "3.10.6"
  },
  "vscode": {
   "interpreter": {
    "hash": "646b439550bec9cacc5e0384422c9ee78f8df74b182cfe1fc7410e07b34d6961"
   }
  }
 },
 "nbformat": 4,
 "nbformat_minor": 2
}
