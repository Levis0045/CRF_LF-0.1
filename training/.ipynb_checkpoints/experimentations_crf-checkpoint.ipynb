{
 "cells": [
  {
   "cell_type": "markdown",
   "metadata": {},
   "source": [
    "# Loading data from Masakhane folder"
   ]
  },
  {
   "cell_type": "code",
   "execution_count": 2,
   "metadata": {
    "scrolled": true
   },
   "outputs": [
    {
     "name": "stdout",
     "output_type": "stream",
     "text": [
      "Requirement already satisfied: pandas in /home/elvis/.cache/pypoetry/virtualenvs/scia-crf-lf-OXAjte5Q-py3.10/lib/python3.10/site-packages (1.5.3)\n",
      "Requirement already satisfied: python_crfsuite in /home/elvis/.cache/pypoetry/virtualenvs/scia-crf-lf-OXAjte5Q-py3.10/lib/python3.10/site-packages (0.9.9)\n",
      "Collecting summarytools\n",
      "  Downloading summarytools-0.2.3.tar.gz (11 kB)\n",
      "  Installing build dependencies ... \u001b[?25ldone\n",
      "\u001b[?25h  Getting requirements to build wheel ... \u001b[?25ldone\n",
      "\u001b[?25h  Preparing metadata (pyproject.toml) ... \u001b[?25ldone\n",
      "\u001b[?25hRequirement already satisfied: numpy>=1.21.0 in /home/elvis/.cache/pypoetry/virtualenvs/scia-crf-lf-OXAjte5Q-py3.10/lib/python3.10/site-packages (from pandas) (1.24.2)\n",
      "Requirement already satisfied: pytz>=2020.1 in /home/elvis/.cache/pypoetry/virtualenvs/scia-crf-lf-OXAjte5Q-py3.10/lib/python3.10/site-packages (from pandas) (2022.7.1)\n",
      "Requirement already satisfied: python-dateutil>=2.8.1 in /home/elvis/.cache/pypoetry/virtualenvs/scia-crf-lf-OXAjte5Q-py3.10/lib/python3.10/site-packages (from pandas) (2.8.2)\n",
      "Collecting matplotlib>=3.3.0\n",
      "  Downloading matplotlib-3.6.3-cp310-cp310-manylinux_2_17_x86_64.manylinux2014_x86_64.whl (11.8 MB)\n",
      "\u001b[2K     \u001b[90m━━━━━━━━━━━━━━━━━━━━━━━━━━━━━━━━━━━━━━━━\u001b[0m \u001b[32m11.8/11.8 MB\u001b[0m \u001b[31m14.3 MB/s\u001b[0m eta \u001b[36m0:00:00\u001b[0m00:01\u001b[0m00:01\u001b[0m\n",
      "\u001b[?25hRequirement already satisfied: ipython>=7.20.0 in /home/elvis/.cache/pypoetry/virtualenvs/scia-crf-lf-OXAjte5Q-py3.10/lib/python3.10/site-packages (from summarytools) (8.10.0)\n",
      "Requirement already satisfied: traitlets>=5 in /home/elvis/.cache/pypoetry/virtualenvs/scia-crf-lf-OXAjte5Q-py3.10/lib/python3.10/site-packages (from ipython>=7.20.0->summarytools) (5.9.0)\n",
      "Requirement already satisfied: pygments>=2.4.0 in /home/elvis/.cache/pypoetry/virtualenvs/scia-crf-lf-OXAjte5Q-py3.10/lib/python3.10/site-packages (from ipython>=7.20.0->summarytools) (2.14.0)\n",
      "Requirement already satisfied: decorator in /home/elvis/.cache/pypoetry/virtualenvs/scia-crf-lf-OXAjte5Q-py3.10/lib/python3.10/site-packages (from ipython>=7.20.0->summarytools) (5.1.1)\n",
      "Requirement already satisfied: backcall in /home/elvis/.cache/pypoetry/virtualenvs/scia-crf-lf-OXAjte5Q-py3.10/lib/python3.10/site-packages (from ipython>=7.20.0->summarytools) (0.2.0)\n",
      "Requirement already satisfied: prompt-toolkit<3.1.0,>=3.0.30 in /home/elvis/.cache/pypoetry/virtualenvs/scia-crf-lf-OXAjte5Q-py3.10/lib/python3.10/site-packages (from ipython>=7.20.0->summarytools) (3.0.36)\n",
      "Requirement already satisfied: stack-data in /home/elvis/.cache/pypoetry/virtualenvs/scia-crf-lf-OXAjte5Q-py3.10/lib/python3.10/site-packages (from ipython>=7.20.0->summarytools) (0.6.2)\n",
      "Requirement already satisfied: pexpect>4.3 in /home/elvis/.cache/pypoetry/virtualenvs/scia-crf-lf-OXAjte5Q-py3.10/lib/python3.10/site-packages (from ipython>=7.20.0->summarytools) (4.8.0)\n",
      "Requirement already satisfied: pickleshare in /home/elvis/.cache/pypoetry/virtualenvs/scia-crf-lf-OXAjte5Q-py3.10/lib/python3.10/site-packages (from ipython>=7.20.0->summarytools) (0.7.5)\n",
      "Requirement already satisfied: jedi>=0.16 in /home/elvis/.cache/pypoetry/virtualenvs/scia-crf-lf-OXAjte5Q-py3.10/lib/python3.10/site-packages (from ipython>=7.20.0->summarytools) (0.18.2)\n",
      "Requirement already satisfied: matplotlib-inline in /home/elvis/.cache/pypoetry/virtualenvs/scia-crf-lf-OXAjte5Q-py3.10/lib/python3.10/site-packages (from ipython>=7.20.0->summarytools) (0.1.6)\n",
      "Collecting pyparsing>=2.2.1\n",
      "  Using cached pyparsing-3.0.9-py3-none-any.whl (98 kB)\n",
      "Collecting contourpy>=1.0.1\n",
      "  Downloading contourpy-1.0.7-cp310-cp310-manylinux_2_17_x86_64.manylinux2014_x86_64.whl (300 kB)\n",
      "\u001b[2K     \u001b[90m━━━━━━━━━━━━━━━━━━━━━━━━━━━━━━━━━━━━━━━\u001b[0m \u001b[32m300.3/300.3 KB\u001b[0m \u001b[31m6.1 MB/s\u001b[0m eta \u001b[36m0:00:00\u001b[0m00:01\u001b[0m\n",
      "\u001b[?25hCollecting cycler>=0.10\n",
      "  Using cached cycler-0.11.0-py3-none-any.whl (6.4 kB)\n",
      "Collecting kiwisolver>=1.0.1\n",
      "  Downloading kiwisolver-1.4.4-cp310-cp310-manylinux_2_12_x86_64.manylinux2010_x86_64.whl (1.6 MB)\n",
      "\u001b[2K     \u001b[90m━━━━━━━━━━━━━━━━━━━━━━━━━━━━━━━━━━━━━━━━\u001b[0m \u001b[32m1.6/1.6 MB\u001b[0m \u001b[31m12.9 MB/s\u001b[0m eta \u001b[36m0:00:00\u001b[0m00:01\u001b[0m00:01\u001b[0m\n",
      "\u001b[?25hCollecting fonttools>=4.22.0\n",
      "  Using cached fonttools-4.38.0-py3-none-any.whl (965 kB)\n",
      "Requirement already satisfied: packaging>=20.0 in /home/elvis/.cache/pypoetry/virtualenvs/scia-crf-lf-OXAjte5Q-py3.10/lib/python3.10/site-packages (from matplotlib>=3.3.0->summarytools) (23.0)\n",
      "Collecting pillow>=6.2.0\n",
      "  Downloading Pillow-9.4.0-cp310-cp310-manylinux_2_28_x86_64.whl (3.4 MB)\n",
      "\u001b[2K     \u001b[90m━━━━━━━━━━━━━━━━━━━━━━━━━━━━━━━━━━━━━━━━\u001b[0m \u001b[32m3.4/3.4 MB\u001b[0m \u001b[31m19.5 MB/s\u001b[0m eta \u001b[36m0:00:00\u001b[0m00:01\u001b[0m00:01\u001b[0m\n",
      "\u001b[?25hRequirement already satisfied: six>=1.5 in /home/elvis/.cache/pypoetry/virtualenvs/scia-crf-lf-OXAjte5Q-py3.10/lib/python3.10/site-packages (from python-dateutil>=2.8.1->pandas) (1.16.0)\n",
      "Requirement already satisfied: parso<0.9.0,>=0.8.0 in /home/elvis/.cache/pypoetry/virtualenvs/scia-crf-lf-OXAjte5Q-py3.10/lib/python3.10/site-packages (from jedi>=0.16->ipython>=7.20.0->summarytools) (0.8.3)\n",
      "Requirement already satisfied: ptyprocess>=0.5 in /home/elvis/.cache/pypoetry/virtualenvs/scia-crf-lf-OXAjte5Q-py3.10/lib/python3.10/site-packages (from pexpect>4.3->ipython>=7.20.0->summarytools) (0.7.0)\n",
      "Requirement already satisfied: wcwidth in /home/elvis/.cache/pypoetry/virtualenvs/scia-crf-lf-OXAjte5Q-py3.10/lib/python3.10/site-packages (from prompt-toolkit<3.1.0,>=3.0.30->ipython>=7.20.0->summarytools) (0.2.6)\n",
      "Requirement already satisfied: executing>=1.2.0 in /home/elvis/.cache/pypoetry/virtualenvs/scia-crf-lf-OXAjte5Q-py3.10/lib/python3.10/site-packages (from stack-data->ipython>=7.20.0->summarytools) (1.2.0)\n",
      "Requirement already satisfied: pure-eval in /home/elvis/.cache/pypoetry/virtualenvs/scia-crf-lf-OXAjte5Q-py3.10/lib/python3.10/site-packages (from stack-data->ipython>=7.20.0->summarytools) (0.2.2)\n",
      "Requirement already satisfied: asttokens>=2.1.0 in /home/elvis/.cache/pypoetry/virtualenvs/scia-crf-lf-OXAjte5Q-py3.10/lib/python3.10/site-packages (from stack-data->ipython>=7.20.0->summarytools) (2.2.1)\n",
      "Building wheels for collected packages: summarytools\n",
      "  Building wheel for summarytools (pyproject.toml) ... \u001b[?25ldone\n",
      "\u001b[?25h  Created wheel for summarytools: filename=summarytools-0.2.3-py3-none-any.whl size=8577 sha256=235b5646cae7b7ecf71bab415c61a4439e17722392ba3f5a26b5c0f644e25192\n",
      "  Stored in directory: /home/elvis/.cache/pip/wheels/d5/8a/5d/008e2127a7f9dd64d066f16e5ea268fa52823dc929c982d6f1\n",
      "Successfully built summarytools\n",
      "Installing collected packages: pyparsing, pillow, kiwisolver, fonttools, cycler, contourpy, matplotlib, summarytools\n",
      "Successfully installed contourpy-1.0.7 cycler-0.11.0 fonttools-4.38.0 kiwisolver-1.4.4 matplotlib-3.6.3 pillow-9.4.0 pyparsing-3.0.9 summarytools-0.2.3\n"
     ]
    }
   ],
   "source": [
    "!pip install pandas python_crfsuite summarytools sklearn_crfsuite"
   ]
  },
  {
   "cell_type": "code",
   "execution_count": 15,
   "metadata": {},
   "outputs": [],
   "source": [
    "from pathlib import Path\n",
    "import pandas as pd"
   ]
  },
  {
   "cell_type": "code",
   "execution_count": 16,
   "metadata": {},
   "outputs": [],
   "source": [
    "# Reading folder path\n",
    "# Context Masahkane community\n",
    "# Ramshaw and Marcus (1995) = IOB data format\n",
    "\n",
    "bbj_ner_path = Path('../data_source/masakhane-ner/MasakhaNER2.0/data/bbj')\n",
    "dev_data_path   = bbj_ner_path / 'dev.txt'\n",
    "train_data_path = bbj_ner_path / 'train.txt'\n",
    "test_data_path  = bbj_ner_path / 'test.txt'\n",
    "\n",
    "# function that read IOB file and build data structure for train, test and dev\n",
    "def read_format_iob_data(filename):\n",
    "    sents_id, words, iob_tag = [], [], []\n",
    "    all_extracted_data = []\n",
    "    with open(filename, encoding='utf-8') as iob:\n",
    "        sentence, id_sent = [], 1\n",
    "        for line in iob:\n",
    "            if len(line) > 1:\n",
    "                word, tag = line.strip().split(' ')\n",
    "                sentence.append((word, tag))\n",
    "                sents_id.append(id_sent)\n",
    "                words.append(word)\n",
    "                iob_tag.append(tag)\n",
    "            else:\n",
    "                all_extracted_data.append(sentence)\n",
    "                sentence = []\n",
    "                id_sent += 1\n",
    "    dataframe = {\"sentence_id\": sents_id, \"word\": words, \"iob_tag\": iob_tag}\n",
    "    pd_iob_data = pd.DataFrame.from_dict(dataframe)\n",
    "    return all_extracted_data, pd_iob_data\n",
    "# "
   ]
  },
  {
   "cell_type": "code",
   "execution_count": 17,
   "metadata": {},
   "outputs": [
    {
     "name": "stdout",
     "output_type": "stream",
     "text": [
      "Total number of sentences in the train dataset: 3,384\n",
      "Total words in the train dataset: 47,239\n",
      "Total number of sentences in the test dataset: 966\n",
      "Total words in the test dataset: 14,958\n",
      "Total number of sentences in the dev dataset: 483\n",
      "Total words in the dev dataset: 7,262\n"
     ]
    }
   ],
   "source": [
    "# read and extract iob data\n",
    "extracted_train_data, pd_train_data = read_format_iob_data(train_data_path)\n",
    "extracted_test_data, pd_test_data = read_format_iob_data(test_data_path)\n",
    "extracted_dev_data, pd_dev_data = read_format_iob_data(dev_data_path)\n",
    "\n",
    "# quelques stats liminaires\n",
    "print(\"Total number of sentences in the train dataset: {:,}\".format(pd_train_data[\"sentence_id\"].nunique()))\n",
    "print(\"Total words in the train dataset: {:,}\".format(pd_train_data.shape[0]))\n",
    "print(\"Total number of sentences in the test dataset: {:,}\".format(pd_test_data[\"sentence_id\"].nunique()))\n",
    "print(\"Total words in the test dataset: {:,}\".format(pd_test_data.shape[0]))\n",
    "print(\"Total number of sentences in the dev dataset: {:,}\".format(pd_dev_data[\"sentence_id\"].nunique()))\n",
    "print(\"Total words in the dev dataset: {:,}\".format(pd_dev_data.shape[0]))\n"
   ]
  },
  {
   "cell_type": "markdown",
   "metadata": {},
   "source": [
    "# Analyzing data "
   ]
  },
  {
   "cell_type": "code",
   "execution_count": 18,
   "metadata": {},
   "outputs": [],
   "source": [
    "from matplotlib import pyplot as plt\n",
    "import numpy as np"
   ]
  },
  {
   "cell_type": "code",
   "execution_count": 19,
   "metadata": {},
   "outputs": [
    {
     "ename": "ModuleNotFoundError",
     "evalue": "No module named 'summarytools'",
     "output_type": "error",
     "traceback": [
      "\u001b[0;31m---------------------------------------------------------------------------\u001b[0m",
      "\u001b[0;31mModuleNotFoundError\u001b[0m                       Traceback (most recent call last)",
      "Input \u001b[0;32mIn [19]\u001b[0m, in \u001b[0;36m<cell line: 3>\u001b[0;34m()\u001b[0m\n\u001b[1;32m      1\u001b[0m \u001b[38;5;66;03m# quantification des tags/phrases dans le corpus d'entrainement\u001b[39;00m\n\u001b[1;32m      2\u001b[0m \u001b[38;5;66;03m# credit: https://github.com/6chaoran/jupyter-summarytools\u001b[39;00m\n\u001b[0;32m----> 3\u001b[0m \u001b[38;5;28;01mfrom\u001b[39;00m \u001b[38;5;21;01msummarytools\u001b[39;00m \u001b[38;5;28;01mimport\u001b[39;00m dfSummary, tabset\n\u001b[1;32m      5\u001b[0m tabset({\n\u001b[1;32m      6\u001b[0m     \u001b[38;5;124m\"\u001b[39m\u001b[38;5;124mtrain_data\u001b[39m\u001b[38;5;124m\"\u001b[39m: dfSummary(pd_train_data)\u001b[38;5;241m.\u001b[39mrender(),\n\u001b[1;32m      7\u001b[0m     \u001b[38;5;124m\"\u001b[39m\u001b[38;5;124mtest_data\u001b[39m\u001b[38;5;124m\"\u001b[39m: dfSummary(pd_test_data)\u001b[38;5;241m.\u001b[39mrender(),\n\u001b[1;32m      8\u001b[0m     \u001b[38;5;124m\"\u001b[39m\u001b[38;5;124mdev_data\u001b[39m\u001b[38;5;124m\"\u001b[39m: dfSummary(pd_dev_data)\u001b[38;5;241m.\u001b[39mrender()\n\u001b[1;32m      9\u001b[0m })\n",
      "\u001b[0;31mModuleNotFoundError\u001b[0m: No module named 'summarytools'"
     ]
    }
   ],
   "source": [
    "# quantification des tags/phrases dans le corpus d'entrainement\n",
    "# credit: https://github.com/6chaoran/jupyter-summarytools\n",
    "from summarytools import dfSummary, tabset\n",
    "\n",
    "tabset({\n",
    "    \"train_data\": dfSummary(pd_train_data).render(),\n",
    "    \"test_data\": dfSummary(pd_test_data).render(),\n",
    "    \"dev_data\": dfSummary(pd_dev_data).render()\n",
    "})\n",
    "\n",
    "# Un controle visuel des données et ce tableau montre clairement qu'il y a \n",
    "# des problématiques de cohérence d'annotations avec l'usage du format IOB."
   ]
  },
  {
   "cell_type": "code",
   "execution_count": 20,
   "metadata": {},
   "outputs": [
    {
     "data": {
      "text/plain": [
       "<AxesSubplot:>"
      ]
     },
     "execution_count": 20,
     "metadata": {},
     "output_type": "execute_result"
    },
    {
     "data": {
      "image/png": "[encoded data removed]",
      "text/plain": [
       "<Figure size 720x360 with 1 Axes>"
      ]
     },
     "metadata": {
      "needs_background": "light"
     },
     "output_type": "display_data"
    }
   ],
   "source": [
    "\n",
    "pd_train_data[pd_train_data.iob_tag != 'O'][\"iob_tag\"]\\\n",
    ".value_counts().plot(kind=\"bar\", figsize=(10,5))\n",
    "\n",
    "# On remarque ici que le tag date représente 40% des tags (en position I ou B)"
   ]
  },
  {
   "cell_type": "code",
   "execution_count": 21,
   "metadata": {},
   "outputs": [
    {
     "name": "stdout",
     "output_type": "stream",
     "text": [
      "La phrase la plus longue contient 45 mots.\n",
      "ID de la plus longue phrase 3158.\n",
      "\n",
      "La phrase la plus longue du corpus est:\n",
      " Nwə yə pú kə yɔ̌ tyə̂' 27 nə́ Sûnè 2020 Tá lə Ondo André Marie ( Mle 599 438 - T ) Tâdyə̌ mkətú' bə ě tʉɔthə́ bí pə dzə̌ é nə́ŋ cyə̂ mnə́ hɔ̂ bí nə́ pîŋ pú a fa' yə pǐŋ lə .\n"
     ]
    },
    {
     "data": {
      "image/png": "[encoded data removed]",
      "text/plain": [
       "<Figure size 576x432 with 1 Axes>"
      ]
     },
     "metadata": {
      "needs_background": "light"
     },
     "output_type": "display_data"
    }
   ],
   "source": [
    "\n",
    "word_counts = pd_train_data.groupby(\"sentence_id\")[\"word\"].agg([\"count\"])\n",
    "word_counts = word_counts.rename(columns={\"count\": \"Word count\"})\n",
    "word_counts.hist(bins=15, figsize=(8,6))\n",
    "\n",
    "# On constate que le nombre de mots moyens par phrase est de 15\n",
    "MAX_LENGTH_SENTENCE = word_counts.max()[0]\n",
    "print(\"La phrase la plus longue contient {} mots.\".format(MAX_LENGTH_SENTENCE))\n",
    "longest_sentence_id = word_counts[word_counts[\"Word count\"]==MAX_LENGTH_SENTENCE].index[0]\n",
    "print(\"ID de la plus longue phrase {}.\".format(longest_sentence_id))\n",
    "longest_sentence = pd_train_data[pd_train_data[\"sentence_id\"]==longest_sentence_id][\"word\"].str.cat(sep=' ')\n",
    "print(f\"\\nLa phrase la plus longue du corpus est:\\n {longest_sentence}\")\n"
   ]
  },
  {
   "cell_type": "code",
   "execution_count": 22,
   "metadata": {},
   "outputs": [
    {
     "name": "stdout",
     "output_type": "stream",
     "text": [
      "Nombre de mots uniques: 8604\n",
      "Nombre de tags uniques : 9\n"
     ]
    }
   ],
   "source": [
    "all_words = list(set(pd_train_data[\"word\"].values))\n",
    "all_tags = list(set(pd_train_data[\"iob_tag\"].values))\n",
    "\n",
    "print(\"Nombre de mots uniques: {}\".format(pd_train_data[\"word\"].nunique()))\n",
    "print(\"Nombre de tags uniques : {}\".format(pd_train_data[\"iob_tag\"].nunique()))"
   ]
  },
  {
   "cell_type": "markdown",
   "metadata": {},
   "source": [
    "# Features engineering"
   ]
  },
  {
   "cell_type": "code",
   "execution_count": 23,
   "metadata": {},
   "outputs": [],
   "source": [
    "import unidecode\n",
    "import re\n",
    "from datetime import datetime\n",
    "import string\n",
    "import math"
   ]
  },
  {
   "cell_type": "code",
   "execution_count": 24,
   "metadata": {},
   "outputs": [],
   "source": [
    "\n",
    "def word2features(sent, i):\n",
    "    word = sent[i][0]\n",
    "    len_tone = len([x for x in word.lower() if not re.match(r'[a-zʉɛŋɔə̧]', x.lower(), re.I)])\n",
    "    features = {\n",
    "        'bias': 1.0,\n",
    "        'word': word,\n",
    "        'len(word)': len(word),\n",
    "        'word[:4]': word[:4],\n",
    "        'word[:3]': word[:3],\n",
    "        'word[:2]': word[:2],\n",
    "        'word[-3:]': word[-3:],\n",
    "        'word[-2:]': word[-2:],\n",
    "        'word[-4:]': word[-4:],\n",
    "        'word.has_hyphen': '-' in word,\n",
    "        'word.unaccent': unidecode.unidecode(word),\n",
    "        'word.lower()': word.lower(),\n",
    "        'word.capitals_inside': word[1:].lower() != word[1:],\n",
    "        'word.have_tone': True if len_tone>0 else False,\n",
    "        'word.len_tones': len_tone,\n",
    "        'word.ispunctuation': (word in string.punctuation),\n",
    "        'word.isdigit()': word.isdigit()\n",
    "    }\n",
    "    if i > 0:\n",
    "        word1 = sent[i-1][0]\n",
    "        len_tone1 = len([x for x in word1.lower() if not re.match(r'[a-zʉɛŋɔə̧]', x.lower(), re.I)])\n",
    "        features.update({\n",
    "            '-1:word': word1,\n",
    "            '-1:len(word)': len(word1),\n",
    "            '-1:word.lower()': word1.lower(),\n",
    "            '-1:word[:3]': word1[:3],\n",
    "            '-1:word[:2]': word1[:2],\n",
    "            '-1:word[-3:]': word1[-3:],\n",
    "            '-1:word[-2:]': word1[-2:],\n",
    "            '-1:word.capitals_inside': word[1:].lower() != word[1:],\n",
    "            '-1:word.have_tone': True if len_tone1>0 else False,\n",
    "            '-1:word.len_tones': len_tone1,\n",
    "            '-1:word.isdigit()': word1.isdigit(),\n",
    "            '-1:word.ispunctuation': (word1 in string.punctuation)\n",
    "        })\n",
    "    else: features['BOS'] = True\n",
    "\n",
    "    if i > 1:\n",
    "        word2 = sent[i-2][0]\n",
    "        len_tone2 = len([x for x in word2.lower() if not re.match(r'[a-zʉɛŋɔə̧]', x.lower(), re.I)])\n",
    "        features.update({\n",
    "            '-2:word': word2,\n",
    "            '-2:len(word)': len(word2),\n",
    "            '-2:word.lower()': word2.lower(),\n",
    "            '-2:word[:3]': word2[:3],\n",
    "            '-2:word[:2]': word2[:2],\n",
    "            '-2:word[-3:]': word2[-3:],\n",
    "            '-2:word[-2:]': word2[-2:],\n",
    "            '-2:word.capitals_inside': word[1:].lower() != word[1:],\n",
    "            '-2:word.have_tone': True if len_tone2>0 else False,\n",
    "            '-2:word.len_tones': len_tone2,\n",
    "            '-2:word.isdigit()': word2.isdigit(),\n",
    "            '-2:word.ispunctuation': (word2 in string.punctuation),\n",
    "        })\n",
    "\n",
    "    if i < len(sent)-1:\n",
    "        word1 = sent[i+1][0]\n",
    "        len_tone1 = len([x for x in word1.lower() if not re.match(r'[a-zʉɛŋɔə̧]', x.lower(), re.I)])\n",
    "        features.update({\n",
    "            '+1:word': word1,\n",
    "            '+1:len(word)': len(word1),\n",
    "            '+1:word.lower()': word1.lower(),\n",
    "            '+1:word[:3]': word1[:3],\n",
    "            '+1:word[:2]': word1[:2],\n",
    "            '+1:word[-3:]': word1[-3:],\n",
    "            '+1:word[-2:]': word1[-2:],\n",
    "            '+1:word.capitals_inside': word[1:].lower() != word[1:],\n",
    "            '+1:word.have_tone': True if len_tone1>0 else False,\n",
    "            '+1:word.len_tones': len_tone1,\n",
    "            '+1:word.isdigit()': word1.isdigit(),\n",
    "            '+1:word.ispunctuation': (word1 in string.punctuation),\n",
    "        })\n",
    "\n",
    "    else: features['EOS'] = True\n",
    "    \n",
    "    if i < len(sent) - 2:\n",
    "        word2 = sent[i+2][0]\n",
    "        len_tone2 = len([x for x in word2.lower() if not re.match(r'[a-zʉɛŋɔə̧]', x.lower(), re.I)])\n",
    "        features.update({\n",
    "            '+2:word': word2,\n",
    "            '+2:len(word)': len(word2),\n",
    "            '+2:word.lower()': word2.lower(),\n",
    "            '+2:word[:3]': word2[:3],\n",
    "            '+2:word[:2]': word2[:2],\n",
    "            '+2:word[-3:]': word2[-3:],\n",
    "            '+2:word[-2:]': word2[-2:],\n",
    "            '+2:word.capitals_inside': word[1:].lower() != word[1:],\n",
    "            '+2:word.have_tone': True if len_tone2>0 else False,\n",
    "            '+2:word.len_tones': len_tone2,\n",
    "            '+2:word.isdigit()': word2.isdigit(),\n",
    "            '+2:word.ispunctuation': (word2 in string.punctuation),\n",
    "        })\n",
    "\n",
    "    return features\n",
    "\n",
    "def sent2features(sent):\n",
    "    return [word2features(sent, i) for i in range(len(sent))]\n",
    "\n",
    "def sent2labels(sent):\n",
    "    return [word[1] for word in sent]\n",
    "\n",
    "def sent2tokens(sent):\n",
    "    return [word[0] for word in sent]\n",
    "\n",
    "def format_data(csv_data):\n",
    "    sents = []\n",
    "    for i in range(len(csv_data)):\n",
    "        if math.isnan(float(csv_data.iloc[i, 0])): continue\n",
    "        elif csv_data.iloc[i, 0] == 1.0:\n",
    "            sents.append([[csv_data.iloc[i, 1], csv_data.iloc[i, 2]]])\n",
    "        else:\n",
    "            try: sents[-1].append([csv_data.iloc[i, 1], csv_data.iloc[i, 2]])\n",
    "            except: print('...', csv_data.iloc[i, 2])\n",
    "    for sent in sents:\n",
    "        for i, word in enumerate(sent):\n",
    "            if type(word[0]) != str:\n",
    "                del sent[i]\n",
    "    return sents"
   ]
  },
  {
   "cell_type": "code",
   "execution_count": 25,
   "metadata": {},
   "outputs": [
    {
     "name": "stdout",
     "output_type": "stream",
     "text": [
      "47239 14958\n"
     ]
    }
   ],
   "source": [
    "\n",
    "print(len(pd_train_data), len(pd_test_data))\n",
    "train_sents = format_data(pd_train_data)\n",
    "test_sents = format_data(pd_test_data)\n",
    "\n",
    "Xtrain = [sent2features(s) for s in train_sents]\n",
    "ytrain = [sent2labels(s) for s in train_sents]\n",
    "\n",
    "Xtest = [sent2features(s) for s in test_sents]\n",
    "ytest = [sent2labels(s) for s in test_sents]"
   ]
  },
  {
   "cell_type": "markdown",
   "metadata": {},
   "source": [
    "# Modelling"
   ]
  },
  {
   "cell_type": "code",
   "execution_count": 26,
   "metadata": {},
   "outputs": [
    {
     "ename": "ModuleNotFoundError",
     "evalue": "No module named 'sklearn_crfsuite'",
     "output_type": "error",
     "traceback": [
      "\u001b[0;31m---------------------------------------------------------------------------\u001b[0m",
      "\u001b[0;31mModuleNotFoundError\u001b[0m                       Traceback (most recent call last)",
      "Input \u001b[0;32mIn [26]\u001b[0m, in \u001b[0;36m<cell line: 2>\u001b[0;34m()\u001b[0m\n\u001b[1;32m      1\u001b[0m \u001b[38;5;66;03m#import pycrfsuite\u001b[39;00m\n\u001b[0;32m----> 2\u001b[0m \u001b[38;5;28;01mimport\u001b[39;00m \u001b[38;5;21;01msklearn_crfsuite\u001b[39;00m\n\u001b[1;32m      3\u001b[0m \u001b[38;5;28;01mimport\u001b[39;00m \u001b[38;5;21;01mmath\u001b[39;00m\u001b[38;5;241m,\u001b[39m \u001b[38;5;21;01mstring\u001b[39;00m\u001b[38;5;241m,\u001b[39m \u001b[38;5;21;01mre\u001b[39;00m\n\u001b[1;32m      4\u001b[0m \u001b[38;5;28;01mimport\u001b[39;00m \u001b[38;5;21;01mjoblib\u001b[39;00m\n",
      "\u001b[0;31mModuleNotFoundError\u001b[0m: No module named 'sklearn_crfsuite'"
     ]
    }
   ],
   "source": [
    "#import pycrfsuite\n",
    "import sklearn_crfsuite\n",
    "import math, string, re\n",
    "import joblib\n",
    "from sklearn.metrics import make_scorer\n",
    "from sklearn.metrics import accuracy_score, classification_report\n",
    "from sklearn.model_selection import cross_val_score\n",
    "from sklearn.model_selection import RandomizedSearchCV\n",
    "from sklearn_crfsuite import scorers\n",
    "from sklearn_crfsuite import metrics\n",
    "from itertools import chain\n",
    "from sklearn.preprocessing import MultiLabelBinarizer"
   ]
  },
  {
   "cell_type": "code",
   "execution_count": 40,
   "metadata": {},
   "outputs": [
    {
     "name": "stderr",
     "output_type": "stream",
     "text": [
      "loading training data to CRFsuite: 100%|██████████| 9/9 [00:16<00:00,  1.87s/it]\n"
     ]
    },
    {
     "name": "stdout",
     "output_type": "stream",
     "text": [
      "\n",
      "Feature generation\n",
      "type: CRF1d\n",
      "feature.minfreq: 0.000000\n",
      "feature.possible_states: 1\n",
      "feature.possible_transitions: 1\n",
      "0....1....2....3....4....5....6....7....8....9....10\n",
      "Number of features: 1313073\n",
      "Seconds required: 29.609\n",
      "\n",
      "L-BFGS optimization\n",
      "c1: 0.100000\n",
      "c2: 0.100000\n",
      "num_memories: 10000\n",
      "max_iterations: 1000\n",
      "epsilon: 0.001000\n",
      "stop: 10\n",
      "delta: 0.000100\n",
      "linesearch: MoreThuente\n",
      "linesearch.max_iterations: 100000\n",
      "\n",
      "Iter 1   time=9.90  loss=58362.51 active=1312279 feature_norm=1.00\n",
      "Iter 2   time=1.60  loss=50026.59 active=714935 feature_norm=0.86\n",
      "Iter 3   time=6.74  loss=46604.04 active=342258 feature_norm=0.30\n",
      "Iter 4   time=1.74  loss=40654.84 active=540819 feature_norm=0.71\n",
      "Iter 5   time=1.73  loss=34976.58 active=539188 feature_norm=0.61\n",
      "Iter 6   time=3.70  loss=33040.08 active=374250 feature_norm=0.42\n",
      "Iter 7   time=2.19  loss=30653.03 active=483935 feature_norm=0.53\n",
      "Iter 8   time=2.16  loss=29859.52 active=474548 feature_norm=0.52\n",
      "Iter 9   time=2.04  loss=29271.54 active=403513 feature_norm=0.53\n",
      "Iter 10  time=1.74  loss=28454.12 active=398424 feature_norm=0.60\n",
      "Iter 11  time=2.62  loss=27334.56 active=381380 feature_norm=1.22\n",
      "Iter 12  time=2.23  loss=23356.22 active=366887 feature_norm=1.31\n",
      "Iter 13  time=2.00  loss=19985.74 active=373647 feature_norm=2.02\n",
      "Iter 14  time=4.11  loss=19883.46 active=390899 feature_norm=2.73\n",
      "Iter 15  time=2.74  loss=17342.54 active=469418 feature_norm=3.10\n",
      "Iter 16  time=3.79  loss=16676.56 active=465575 feature_norm=3.22\n",
      "Iter 17  time=2.34  loss=16518.55 active=471128 feature_norm=3.61\n",
      "Iter 18  time=2.85  loss=15840.72 active=463593 feature_norm=3.86\n",
      "Iter 19  time=2.25  loss=15046.70 active=466677 feature_norm=4.23\n",
      "Iter 20  time=2.77  loss=14558.50 active=456001 feature_norm=4.51\n",
      "Iter 21  time=2.83  loss=13969.62 active=454897 feature_norm=4.87\n",
      "Iter 22  time=2.63  loss=13119.85 active=442584 feature_norm=5.44\n",
      "Iter 23  time=3.03  loss=11962.63 active=434532 feature_norm=6.50\n",
      "Iter 24  time=3.10  loss=11475.82 active=397296 feature_norm=7.79\n",
      "Iter 25  time=3.22  loss=10405.72 active=395692 feature_norm=8.64\n",
      "Iter 26  time=2.88  loss=10046.62 active=388011 feature_norm=9.50\n",
      "Iter 27  time=2.96  loss=9498.36  active=384347 feature_norm=10.32\n",
      "Iter 28  time=3.15  loss=9159.34  active=369964 feature_norm=11.72\n",
      "Iter 29  time=3.42  loss=8512.49  active=365769 feature_norm=13.03\n",
      "Iter 30  time=3.00  loss=7997.21  active=355753 feature_norm=15.10\n",
      "Iter 31  time=2.80  loss=7193.49  active=349145 feature_norm=16.85\n",
      "Iter 32  time=2.89  loss=6368.34  active=336683 feature_norm=19.54\n",
      "Iter 33  time=3.11  loss=5535.92  active=337944 feature_norm=22.66\n",
      "Iter 34  time=2.90  loss=4844.42  active=325272 feature_norm=25.62\n",
      "Iter 35  time=2.81  loss=4216.93  active=317812 feature_norm=28.29\n",
      "Iter 36  time=2.93  loss=3518.54  active=300911 feature_norm=32.24\n",
      "Iter 37  time=2.91  loss=2984.49  active=275730 feature_norm=36.03\n",
      "Iter 38  time=3.14  loss=2590.37  active=268470 feature_norm=38.62\n",
      "Iter 39  time=3.07  loss=2267.71  active=255037 feature_norm=41.56\n",
      "Iter 40  time=3.57  loss=2022.69  active=237497 feature_norm=44.00\n",
      "Iter 41  time=3.17  loss=1862.07  active=222587 feature_norm=45.35\n",
      "Iter 42  time=3.42  loss=1717.70  active=200960 feature_norm=46.32\n",
      "Iter 43  time=3.59  loss=1601.32  active=179784 feature_norm=46.84\n",
      "Iter 44  time=3.75  loss=1523.39  active=170165 feature_norm=47.03\n",
      "Iter 45  time=3.51  loss=1462.76  active=150752 feature_norm=47.40\n",
      "Iter 46  time=3.43  loss=1409.11  active=134524 feature_norm=47.72\n",
      "Iter 47  time=3.19  loss=1372.95  active=120168 feature_norm=48.23\n",
      "Iter 48  time=3.40  loss=1346.14  active=114336 feature_norm=48.40\n",
      "Iter 49  time=3.83  loss=1323.71  active=107230 feature_norm=48.79\n",
      "Iter 50  time=4.43  loss=1300.65  active=101184 feature_norm=48.87\n",
      "Iter 51  time=3.61  loss=1282.24  active=92307 feature_norm=49.09\n",
      "Iter 52  time=3.96  loss=1266.38  active=89400 feature_norm=49.07\n",
      "Iter 53  time=4.05  loss=1251.88  active=83528 feature_norm=49.24\n",
      "Iter 54  time=3.89  loss=1240.13  active=78533 feature_norm=49.29\n",
      "Iter 55  time=3.68  loss=1230.40  active=77545 feature_norm=49.44\n",
      "Iter 56  time=4.34  loss=1220.72  active=75510 feature_norm=49.38\n",
      "Iter 57  time=3.85  loss=1211.97  active=72138 feature_norm=49.58\n",
      "Iter 58  time=3.94  loss=1203.31  active=71092 feature_norm=49.57\n",
      "Iter 59  time=3.84  loss=1197.08  active=70056 feature_norm=49.73\n",
      "Iter 60  time=4.55  loss=1190.94  active=67733 feature_norm=49.71\n",
      "Iter 61  time=4.06  loss=1185.32  active=64798 feature_norm=49.84\n",
      "Iter 62  time=3.72  loss=1180.19  active=63112 feature_norm=49.81\n",
      "Iter 63  time=4.14  loss=1175.61  active=61844 feature_norm=49.93\n",
      "Iter 64  time=4.37  loss=1171.38  active=60261 feature_norm=49.87\n",
      "Iter 65  time=4.56  loss=1167.45  active=59287 feature_norm=49.94\n",
      "Iter 66  time=4.61  loss=1163.85  active=58512 feature_norm=49.83\n",
      "Iter 67  time=4.35  loss=1160.77  active=57692 feature_norm=49.93\n",
      "Iter 68  time=5.18  loss=1157.62  active=56891 feature_norm=49.86\n",
      "Iter 69  time=4.29  loss=1154.87  active=55859 feature_norm=49.87\n",
      "Iter 70  time=4.32  loss=1151.93  active=54663 feature_norm=49.79\n",
      "Iter 71  time=3.92  loss=1150.01  active=53549 feature_norm=49.88\n",
      "Iter 72  time=4.20  loss=1146.74  active=53219 feature_norm=49.83\n",
      "Iter 73  time=4.39  loss=1144.86  active=52554 feature_norm=49.89\n",
      "Iter 74  time=4.61  loss=1142.46  active=51964 feature_norm=49.84\n",
      "Iter 75  time=4.87  loss=1140.47  active=51174 feature_norm=49.88\n"
     ]
    },
    {
     "ename": "KeyboardInterrupt",
     "evalue": "",
     "output_type": "error",
     "traceback": [
      "\u001b[0;31m---------------------------------------------------------------------------\u001b[0m",
      "\u001b[0;31mKeyboardInterrupt\u001b[0m                         Traceback (most recent call last)",
      "Cell \u001b[0;32mIn[40], line 25\u001b[0m\n\u001b[1;32m      7\u001b[0m params \u001b[39m=\u001b[39m {\n\u001b[1;32m      8\u001b[0m     \u001b[39m\"\u001b[39m\u001b[39malgorithm\u001b[39m\u001b[39m\"\u001b[39m: \u001b[39m'\u001b[39m\u001b[39mlbfgs\u001b[39m\u001b[39m'\u001b[39m,\n\u001b[1;32m      9\u001b[0m     \u001b[39m\"\u001b[39m\u001b[39mc1\u001b[39m\u001b[39m\"\u001b[39m: \u001b[39m0.1\u001b[39m,\n\u001b[0;32m   (...)\u001b[0m\n\u001b[1;32m     21\u001b[0m     \u001b[39m\"\u001b[39m\u001b[39mmodel_filename\u001b[39m\u001b[39m\"\u001b[39m:model_file\n\u001b[1;32m     22\u001b[0m }\n\u001b[1;32m     23\u001b[0m crf \u001b[39m=\u001b[39m sklearn_crfsuite\u001b[39m.\u001b[39mCRF(\u001b[39m*\u001b[39m\u001b[39m*\u001b[39mparams)\n\u001b[0;32m---> 25\u001b[0m crf\u001b[39m.\u001b[39;49mfit(Xtrain, ytrain)    \n\u001b[1;32m     27\u001b[0m final\u001b[39m=\u001b[39m {\u001b[39m\"\u001b[39m\u001b[39mcrf\u001b[39m\u001b[39m\"\u001b[39m: crf, \u001b[39m\"\u001b[39m\u001b[39mparams\u001b[39m\u001b[39m\"\u001b[39m: params}\n",
      "File \u001b[0;32m~/.cache/pypoetry/virtualenvs/scia-crf-lf-OXAjte5Q-py3.10/lib/python3.10/site-packages/sklearn_crfsuite/estimator.py:331\u001b[0m, in \u001b[0;36mCRF.fit\u001b[0;34m(self, X, y, X_dev, y_dev)\u001b[0m\n\u001b[1;32m    328\u001b[0m     \u001b[39mif\u001b[39;00m \u001b[39mself\u001b[39m\u001b[39m.\u001b[39mverbose:\n\u001b[1;32m    329\u001b[0m         \u001b[39mprint\u001b[39m(\u001b[39m\"\u001b[39m\u001b[39m\"\u001b[39m)\n\u001b[0;32m--> 331\u001b[0m trainer\u001b[39m.\u001b[39;49mtrain(\u001b[39mself\u001b[39;49m\u001b[39m.\u001b[39;49mmodelfile\u001b[39m.\u001b[39;49mname, holdout\u001b[39m=\u001b[39;49m\u001b[39m-\u001b[39;49m\u001b[39m1\u001b[39;49m \u001b[39mif\u001b[39;49;00m X_dev \u001b[39mis\u001b[39;49;00m \u001b[39mNone\u001b[39;49;00m \u001b[39melse\u001b[39;49;00m \u001b[39m1\u001b[39;49m)\n\u001b[1;32m    332\u001b[0m \u001b[39mself\u001b[39m\u001b[39m.\u001b[39mtraining_log_ \u001b[39m=\u001b[39m trainer\u001b[39m.\u001b[39mlogparser\n\u001b[1;32m    333\u001b[0m \u001b[39mreturn\u001b[39;00m \u001b[39mself\u001b[39m\n",
      "File \u001b[0;32mpycrfsuite/_pycrfsuite.pyx:359\u001b[0m, in \u001b[0;36mpycrfsuite._pycrfsuite.BaseTrainer.train\u001b[0;34m()\u001b[0m\n",
      "File \u001b[0;32mpycrfsuite/_pycrfsuite.pyx:272\u001b[0m, in \u001b[0;36mpycrfsuite._pycrfsuite.BaseTrainer._on_message\u001b[0;34m()\u001b[0m\n",
      "File \u001b[0;32mpycrfsuite/_pycrfsuite.pyx:499\u001b[0m, in \u001b[0;36mpycrfsuite._pycrfsuite.Trainer.message\u001b[0;34m()\u001b[0m\n",
      "File \u001b[0;32m~/.cache/pypoetry/virtualenvs/scia-crf-lf-OXAjte5Q-py3.10/lib/python3.10/site-packages/pycrfsuite/_logparser.py:25\u001b[0m, in \u001b[0;36mTrainLogParser.feed\u001b[0;34m(self, line)\u001b[0m\n\u001b[1;32m     22\u001b[0m     \u001b[39mself\u001b[39m\u001b[39m.\u001b[39mlog \u001b[39m=\u001b[39m []\n\u001b[1;32m     23\u001b[0m     \u001b[39mself\u001b[39m\u001b[39m.\u001b[39mevents \u001b[39m=\u001b[39m []\n\u001b[0;32m---> 25\u001b[0m \u001b[39mdef\u001b[39;00m \u001b[39mfeed\u001b[39m(\u001b[39mself\u001b[39m, line):\n\u001b[1;32m     26\u001b[0m     \u001b[39m# if line != '\\n':\u001b[39;00m\n\u001b[1;32m     27\u001b[0m     \u001b[39mself\u001b[39m\u001b[39m.\u001b[39mlog\u001b[39m.\u001b[39mappend(line)\n\u001b[1;32m     28\u001b[0m     \u001b[39mif\u001b[39;00m \u001b[39mself\u001b[39m\u001b[39m.\u001b[39mstate \u001b[39mis\u001b[39;00m \u001b[39mNone\u001b[39;00m:\n",
      "\u001b[0;31mKeyboardInterrupt\u001b[0m: "
     ]
    }
   ],
   "source": [
    "project = \"all\"\n",
    "build_date = datetime.now()\n",
    "model_name = Path('.').absolute() / 'models' / f\"crf_{project}_{build_date}.model\"\n",
    "model_file = str(model_name)\n",
    "file_crf = Path('.').absolute() / 'models'/ f\"crf_{build_date}.object\"\n",
    "\n",
    "params = {\n",
    "    \"algorithm\": 'lbfgs',\n",
    "    \"c1\": 0.1,\n",
    "    \"c2\": 0.1, \n",
    "    \"max_iterations\":1000,\n",
    "    \"verbose\": True,\n",
    "    \"num_memories\":10000,\n",
    "    \"epsilon\":1e-3,\n",
    "    #linesearch=\"StrongBacktracking\",\n",
    "    \"max_linesearch\":100000,\n",
    "    \"delta\":1e-4,\n",
    "    #\"job\":-1,\n",
    "    \"all_possible_states\":True,\n",
    "    \"all_possible_transitions\":True, \n",
    "    \"model_filename\":model_file\n",
    "}\n",
    "crf = sklearn_crfsuite.CRF(**params)\n",
    "\n",
    "crf.fit(Xtrain, ytrain)    \n",
    "\n",
    "final= {\"crf\": crf, \"params\": params}\n"
   ]
  },
  {
   "cell_type": "code",
   "execution_count": 34,
   "metadata": {},
   "outputs": [
    {
     "data": {
      "text/plain": [
       "['/home/elvis/Documents/projets/ntealan/dev/SCIA-CRF_LF/training/models/crf_2023-02-11 15:54:53.913939.object']"
      ]
     },
     "execution_count": 34,
     "metadata": {},
     "output_type": "execute_result"
    }
   ],
   "source": [
    "file_crf = Path('.').absolute() / 'models'/ f\"crf_{build_date}.object\"\n",
    "joblib.dump(crf, file_crf)   "
   ]
  },
  {
   "cell_type": "code",
   "execution_count": 36,
   "metadata": {},
   "outputs": [
    {
     "ename": "FileNotFoundError",
     "evalue": "[Errno 2] No such file or directory: '/home/elvis/Documents/projets/ntealan/dev/SCIA-CRF_LF/training/results/models/crf_all_2023-02-11 15:54:53.913939.model'",
     "output_type": "error",
     "traceback": [
      "\u001b[0;31m---------------------------------------------------------------------------\u001b[0m",
      "\u001b[0;31mFileNotFoundError\u001b[0m                         Traceback (most recent call last)",
      "Cell \u001b[0;32mIn[36], line 3\u001b[0m\n\u001b[1;32m      1\u001b[0m \u001b[39m# obtaining metrics such as accuracy, etc. on the train set\u001b[39;00m\n\u001b[1;32m      2\u001b[0m \u001b[39m#crf = joblib.load(Path('.').absolute() / 'results/models'/ f\"crf_{build_date}.object\" )            \u001b[39;00m\n\u001b[0;32m----> 3\u001b[0m labels \u001b[39m=\u001b[39m \u001b[39mlist\u001b[39m(crf\u001b[39m.\u001b[39;49mclasses_)\n\u001b[1;32m      4\u001b[0m labels\u001b[39m.\u001b[39mremove(\u001b[39m'\u001b[39m\u001b[39mO\u001b[39m\u001b[39m'\u001b[39m)\n\u001b[1;32m      6\u001b[0m ypred \u001b[39m=\u001b[39m crf\u001b[39m.\u001b[39mpredict(Xtrain)\n",
      "File \u001b[0;32m~/.cache/pypoetry/virtualenvs/scia-crf-lf-OXAjte5Q-py3.10/lib/python3.10/site-packages/sklearn_crfsuite/estimator.py:438\u001b[0m, in \u001b[0;36mCRF.classes_\u001b[0;34m(self)\u001b[0m\n\u001b[1;32m    433\u001b[0m \u001b[39m@property\u001b[39m\n\u001b[1;32m    434\u001b[0m \u001b[39mdef\u001b[39;00m \u001b[39mclasses_\u001b[39m(\u001b[39mself\u001b[39m):\n\u001b[1;32m    435\u001b[0m \u001b[39m    \u001b[39m\u001b[39m\"\"\"\u001b[39;00m\n\u001b[1;32m    436\u001b[0m \u001b[39m    A list of class labels.\u001b[39;00m\n\u001b[1;32m    437\u001b[0m \u001b[39m    \"\"\"\u001b[39;00m\n\u001b[0;32m--> 438\u001b[0m     \u001b[39mif\u001b[39;00m \u001b[39mself\u001b[39;49m\u001b[39m.\u001b[39;49mtagger_ \u001b[39mis\u001b[39;00m \u001b[39mNone\u001b[39;00m:\n\u001b[1;32m    439\u001b[0m         \u001b[39mreturn\u001b[39;00m \u001b[39mNone\u001b[39;00m\n\u001b[1;32m    440\u001b[0m     \u001b[39mreturn\u001b[39;00m \u001b[39mself\u001b[39m\u001b[39m.\u001b[39mtagger_\u001b[39m.\u001b[39mlabels()\n",
      "File \u001b[0;32m~/.cache/pypoetry/virtualenvs/scia-crf-lf-OXAjte5Q-py3.10/lib/python3.10/site-packages/sklearn_crfsuite/estimator.py:428\u001b[0m, in \u001b[0;36mCRF.tagger_\u001b[0;34m(self)\u001b[0m\n\u001b[1;32m    425\u001b[0m     \u001b[39mreturn\u001b[39;00m \u001b[39mNone\u001b[39;00m\n\u001b[1;32m    427\u001b[0m tagger \u001b[39m=\u001b[39m pycrfsuite\u001b[39m.\u001b[39mTagger()\n\u001b[0;32m--> 428\u001b[0m tagger\u001b[39m.\u001b[39;49mopen(\u001b[39mself\u001b[39;49m\u001b[39m.\u001b[39;49mmodelfile\u001b[39m.\u001b[39;49mname)\n\u001b[1;32m    429\u001b[0m \u001b[39mself\u001b[39m\u001b[39m.\u001b[39m_tagger \u001b[39m=\u001b[39m tagger\n\u001b[1;32m    430\u001b[0m \u001b[39mself\u001b[39m\u001b[39m.\u001b[39m_info_cached \u001b[39m=\u001b[39m \u001b[39mNone\u001b[39;00m\n",
      "File \u001b[0;32mpycrfsuite/_pycrfsuite.pyx:571\u001b[0m, in \u001b[0;36mpycrfsuite._pycrfsuite.Tagger.open\u001b[0;34m()\u001b[0m\n",
      "File \u001b[0;32mpycrfsuite/_pycrfsuite.pyx:733\u001b[0m, in \u001b[0;36mpycrfsuite._pycrfsuite.Tagger._check_model\u001b[0;34m()\u001b[0m\n",
      "\u001b[0;31mFileNotFoundError\u001b[0m: [Errno 2] No such file or directory: '/home/elvis/Documents/projets/ntealan/dev/SCIA-CRF_LF/training/results/models/crf_all_2023-02-11 15:54:53.913939.model'"
     ]
    }
   ],
   "source": [
    "# obtaining metrics such as accuracy, etc. on the train set\n",
    "#crf = joblib.load(Path('.').absolute() / 'results/models'/ f\"crf_{build_date}.object\" )            \n",
    "labels = list(crf.classes_)\n",
    "labels.remove('O')\n",
    "\n",
    "ypred = crf.predict(Xtrain)\n",
    "print('- F1 score on the train set = {}'.format(metrics.flat_f1_score(ytrain, ypred, average='weighted', labels=labels, zero_division=False)))\n",
    "print('- Accuracy on the train set = {}'.format(metrics.flat_accuracy_score(ytrain, ypred)))\n",
    "\n",
    "sorted_labels = sorted(labels, key=lambda name: (name[1:], name[0]))\n",
    "#print('Train set classification report: \\n\\n{}'.format(metrics.flat_classification_report(ytrain, \n",
    "#ypred, labels=sorted_labels, digits=3)))\n",
    "#obtaining metrics such as accuracy, etc. on the test set\n",
    "ypred = crf.predict(Xtest)\n",
    "print('- F1 score on the test set = {}'.format(metrics.flat_f1_score(ytest, ypred, average='weighted', labels=labels, zero_division=False)))\n",
    "print('- Accuracy on the test set = {}'.format(metrics.flat_accuracy_score(ytest, ypred)))\n",
    "\n",
    "sorted_labels = sorted(labels, key=lambda name: (name[1:], name[0]))\n",
    "print('- Test set classification report: \\n\\n{}'.format(metrics.flat_classification_report(ytest, ypred, labels=sorted_labels, digits=3, zero_division=False)))"
   ]
  },
  {
   "cell_type": "markdown",
   "metadata": {},
   "source": [
    "# Evaluations"
   ]
  },
  {
   "cell_type": "code",
   "execution_count": null,
   "metadata": {},
   "outputs": [],
   "source": [
    "#obtaining the most likely and the least likely transitions \n",
    "from collections import Counter\n",
    "\n",
    "def print_transitions(transition_features):\n",
    "    for (label_from, label_to), weight in transition_features:\n",
    "        print(\"%-6s -> %-7s %0.6f\" % (label_from, label_to, weight))\n",
    "\n",
    "print(\"Top 10 likely transitions - \\n\")\n",
    "print_transitions(Counter(crf.transition_features_).most_common(10))\n",
    "\n",
    "print(\"\\nTop 10 unlikely transitions - \\n\")\n",
    "print_transitions(Counter(crf.transition_features_).most_common()[-10:])"
   ]
  }
 ],
 "metadata": {
  "kernelspec": {
   "display_name": "Python 3 (ipykernel)",
   "language": "python",
   "name": "python3"
  },
  "language_info": {
   "codemirror_mode": {
    "name": "ipython",
    "version": 3
   },
   "file_extension": ".py",
   "mimetype": "text/x-python",
   "name": "python",
   "nbconvert_exporter": "python",
   "pygments_lexer": "ipython3",
   "version": "3.10.6"
  },
  "vscode": {
   "interpreter": {
    "hash": "646b439550bec9cacc5e0384422c9ee78f8df74b182cfe1fc7410e07b34d6961"
   }
  }
 },
 "nbformat": 4,
 "nbformat_minor": 2
}
